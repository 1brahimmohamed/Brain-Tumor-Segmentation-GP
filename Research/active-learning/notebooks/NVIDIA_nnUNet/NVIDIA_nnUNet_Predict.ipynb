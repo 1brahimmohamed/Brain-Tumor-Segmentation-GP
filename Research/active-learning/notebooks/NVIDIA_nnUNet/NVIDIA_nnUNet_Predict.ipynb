{
  "cells": [
    {
      "cell_type": "code",
      "execution_count": 4,
      "metadata": {
        "colab": {
          "base_uri": "https://localhost:8080/"
        },
        "collapsed": true,
        "id": "gAJou9blPBgY",
        "outputId": "87d30a3b-914f-42f9-f662-e2542484a44c"
      },
      "outputs": [
        {
          "name": "stderr",
          "output_type": "stream",
          "text": [
            "/tmp/ipykernel_273653/3411625526.py:10: DeprecationWarning: Please use `label` from the `scipy.ndimage` namespace, the `scipy.ndimage.measurements` namespace is deprecated.\n",
            "  from scipy.ndimage.measurements import label\n"
          ]
        }
      ],
      "source": [
        "import json\n",
        "import os\n",
        "from glob import glob\n",
        "from subprocess import call\n",
        "import time\n",
        "import nibabel\n",
        "import numpy as np\n",
        "from joblib import Parallel, delayed\n",
        "from skimage.exposure import rescale_intensity\n",
        "from scipy.ndimage.measurements import label\n",
        "import matplotlib.pyplot as plt"
      ]
    },
    {
      "cell_type": "markdown",
      "metadata": {
        "id": "QmO4fs_-ZjZ4"
      },
      "source": [
        "### Data Preparation"
      ]
    },
    {
      "cell_type": "code",
      "execution_count": 3,
      "metadata": {
        "id": "V2-QKhcHOwrN"
      },
      "outputs": [],
      "source": [
        "import concurrent.futures\n",
        "\n",
        "# Preparing the data for the model\n",
        "def get_folder_paths(directory):\n",
        "    folder_paths = [os.path.join(directory, folder) for folder in os.listdir(directory) if os.path.isdir(os.path.join(directory, folder))]\n",
        "    return folder_paths\n",
        "\n",
        "\n",
        "# Function to load a NIfTI file\n",
        "def load_nifty(directory, example_id, suffix):\n",
        "    return nibabel.load(os.path.join(directory, example_id + \"_\" + suffix + \".nii.gz\"))\n",
        "\n",
        "# Function to load all sequences for a given example\n",
        "def load_channels(d, example_id):\n",
        "    return [load_nifty(d, example_id, suffix) for suffix in [\"flair\", \"t1\", \"t1ce\", \"t2\"]]\n",
        "\n",
        "# Function to get data from a NIfTI file\n",
        "def get_data(nifty, dtype=\"int16\"):\n",
        "    if dtype == \"int16\":\n",
        "        data = np.abs(nifty.get_fdata().astype(np.int16))\n",
        "        data[data == -32768] = 0\n",
        "        return data\n",
        "    return nifty.get_fdata().astype(np.uint8)\n",
        "\n",
        "# Function to prepare a NIfTI file\n",
        "def prepare_nifty(d):\n",
        "    example_id = d.split(\"/\")[-1]\n",
        "    flair, t1, t1ce, t2 = load_channels(d, example_id)\n",
        "    affine, header = t1.affine, t1.header\n",
        "    vol = np.stack([get_data(flair), get_data(t1), get_data(t1ce), get_data(t2)], axis=-1)\n",
        "    vol = nibabel.nifti1.Nifti1Image(vol, affine, header=header)\n",
        "    nibabel.save(vol, os.path.join(d, example_id + \".nii.gz\"))\n",
        "\n",
        "    if os.path.exists(os.path.join(d, example_id + \"_seg.nii.gz\")):\n",
        "        seg = load_nifty(d, example_id, \"seg\")\n",
        "        affine, header = seg.affine, seg.header\n",
        "        vol = get_data(seg, \"unit8\")\n",
        "        # changing label 4 with 3 (for Brats dataset)\n",
        "        vol[vol == 4] = 3\n",
        "        seg = nibabel.nifti1.Nifti1Image(vol, affine, header=header)\n",
        "        nibabel.save(seg, os.path.join(d, example_id + \"_seg.nii.gz\"))\n",
        "\n",
        "# making the model's required file structure\n",
        "def prepare_dirs(data, train):\n",
        "    img_path, lbl_path = os.path.join(data, \"images\"), os.path.join(data, \"labels\")\n",
        "    call(f\"mkdir {img_path}\", shell=True)\n",
        "    if train:\n",
        "        call(f\"mkdir {lbl_path}\", shell=True)\n",
        "\n",
        "\n",
        "    dirs = glob(os.path.join(data, \"BraTS*\"))    #hard code\n",
        "    # dirs = glob(os.path.join(data, \"ASH*\"))\n",
        "    for d in dirs:\n",
        "        if \"_\" in d.split(\"/\")[-1]:\n",
        "            files = glob(os.path.join(d, \"*.nii.gz\"))\n",
        "            for f in files:\n",
        "                if \"flair\" in f or \"t1\" in f or \"t1ce\" in f or \"t2\" in f:\n",
        "                    continue\n",
        "                if \"_seg\" in f:\n",
        "                    call(f\"mv {f} {lbl_path}\", shell=True)\n",
        "                else:\n",
        "                    call(f\"mv {f} {img_path}\", shell=True)\n",
        "        call(f\"rm -rf {d}\", shell=True)\n",
        "\n",
        "\n",
        "# making the model's required json file\n",
        "def prepare_dataset_json(data, train):\n",
        "    images, labels = glob(os.path.join(data, \"images\", \"*\")), glob(os.path.join(data, \"labels\", \"*\"))\n",
        "    images = sorted([img.replace(data + \"/\", \"\") for img in images])\n",
        "    labels = sorted([lbl.replace(data + \"/\", \"\") for lbl in labels])\n",
        "\n",
        "    modality = {\"0\": \"FLAIR\", \"1\": \"T1\", \"2\": \"T1CE\", \"3\": \"T2\"}\n",
        "    labels_dict = {\"0\": \"background\", \"1\": \"edema\", \"2\": \"non-enhancing tumor\", \"3\": \"enhancing tumour\"}\n",
        "    if train:\n",
        "        key = \"training\"\n",
        "        print(\"images\", images)\n",
        "        print(\"labels\", labels)\n",
        "        data_pairs = [{\"image\": img, \"label\": lbl} for (img, lbl) in zip(images, labels)]\n",
        "    else:\n",
        "        key = \"test\"\n",
        "        data_pairs = [{\"image\": img} for img in images]\n",
        "\n",
        "    dataset = {\n",
        "        \"labels\": labels_dict,\n",
        "        \"modality\": modality,\n",
        "        key: data_pairs,\n",
        "    }\n",
        "\n",
        "    with open(os.path.join(data, \"dataset.json\"), \"w\") as outfile:\n",
        "        json.dump(dataset, outfile)\n",
        "\n",
        "# Function to run a function in parallel\n",
        "def run_parallel(func, args):\n",
        "    return Parallel(n_jobs=os.cpu_count())(delayed(func)(arg) for arg in args)\n",
        "        \n",
        "\n",
        "# def run_parallel(func, args):\n",
        "#     with concurrent.futures.ThreadPoolExecutor(max_workers=os.cpu_count()) as executor:\n",
        "#         results = list(executor.map(func, args))\n",
        "#     return results        \n",
        "\n",
        "# Main function to prepare the dataset\n",
        "def prepare_dataset(data, train):\n",
        "    print(f\"Preparing BraTS21 dataset from: {data}\")\n",
        "    start = time.time()\n",
        "    run_parallel(prepare_nifty, sorted(glob(os.path.join(data, \"BraTS*\"))))   #hard code\n",
        "    # run_parallel(prepare_nifty, sorted(glob(os.path.join(data, \"ASH*\"))))\n",
        "    prepare_dirs(data, train)\n",
        "    prepare_dataset_json(data, train)\n",
        "    end = time.time()\n",
        "    print(f\"Preparing time: {(end - start):.2f}\")\n"
      ]
    },
    {
      "cell_type": "code",
      "execution_count": 4,
      "metadata": {
        "colab": {
          "base_uri": "https://localhost:8080/"
        },
        "id": "arEblGwFV6vh",
        "outputId": "a4269dec-9198-46f4-d769-cf911701cd64"
      },
      "outputs": [
        {
          "name": "stdout",
          "output_type": "stream",
          "text": [
            "Preparing BraTS21 dataset from: /home/workstation04/GP_MMMAI/data/BraTS2021_train\n"
          ]
        },
        {
          "name": "stdout",
          "output_type": "stream",
          "text": [
            "images ['images/BraTS2021_01667.nii.gz', 'images/BraTS2021_01668.nii.gz', 'images/BraTS2021_01669.nii.gz', 'images/BraTS2021_01670.nii.gz', 'images/BraTS2021_01671.nii.gz', 'images/BraTS2021_01672.nii.gz', 'images/BraTS2021_01673.nii.gz', 'images/BraTS2021_01674.nii.gz', 'images/BraTS2021_01675.nii.gz', 'images/BraTS2021_01676.nii.gz', 'images/BraTS2021_01677.nii.gz', 'images/BraTS2021_01678.nii.gz', 'images/BraTS2021_01679.nii.gz', 'images/BraTS2021_01680.nii.gz', 'images/BraTS2021_01681.nii.gz', 'images/BraTS2021_01682.nii.gz', 'images/BraTS2021_01683.nii.gz', 'images/BraTS2021_01684.nii.gz', 'images/BraTS2021_01685.nii.gz', 'images/BraTS2021_01686.nii.gz', 'images/BraTS2021_01687.nii.gz', 'images/BraTS2021_01688.nii.gz', 'images/BraTS2021_01689.nii.gz', 'images/BraTS2021_01690.nii.gz', 'images/BraTS2021_01691.nii.gz', 'images/BraTS2021_01692.nii.gz', 'images/BraTS2021_01693.nii.gz', 'images/BraTS2021_01694.nii.gz', 'images/BraTS2021_01695.nii.gz', 'images/BraTS2021_01696.nii.gz', 'images/BraTS2021_01697.nii.gz', 'images/BraTS2021_01698.nii.gz', 'images/BraTS2021_01699.nii.gz', 'images/BraTS2021_01700.nii.gz', 'images/BraTS2021_01701.nii.gz', 'images/BraTS2021_01702.nii.gz', 'images/BraTS2021_01703.nii.gz', 'images/BraTS2021_01704.nii.gz', 'images/BraTS2021_01705.nii.gz', 'images/BraTS2021_01706.nii.gz', 'images/BraTS2021_01707.nii.gz', 'images/BraTS2021_01708.nii.gz', 'images/BraTS2021_01709.nii.gz', 'images/BraTS2021_01710.nii.gz', 'images/BraTS2021_01711.nii.gz', 'images/BraTS2021_01712.nii.gz', 'images/BraTS2021_01713.nii.gz', 'images/BraTS2021_01714.nii.gz', 'images/BraTS2021_01715.nii.gz', 'images/BraTS2021_01716.nii.gz', 'images/BraTS2021_01717.nii.gz', 'images/BraTS2021_01718.nii.gz', 'images/BraTS2021_01719.nii.gz', 'images/BraTS2021_01720.nii.gz', 'images/BraTS2021_01721.nii.gz', 'images/BraTS2021_01722.nii.gz', 'images/BraTS2021_01723.nii.gz', 'images/BraTS2021_01724.nii.gz', 'images/BraTS2021_01725.nii.gz', 'images/BraTS2021_01726.nii.gz', 'images/BraTS2021_01727.nii.gz', 'images/BraTS2021_01728.nii.gz', 'images/BraTS2021_01729.nii.gz', 'images/BraTS2021_01730.nii.gz', 'images/BraTS2021_01731.nii.gz', 'images/BraTS2021_01732.nii.gz', 'images/BraTS2021_01733.nii.gz', 'images/BraTS2021_01734.nii.gz', 'images/BraTS2021_01735.nii.gz', 'images/BraTS2021_01736.nii.gz', 'images/BraTS2021_01737.nii.gz', 'images/BraTS2021_01738.nii.gz', 'images/BraTS2021_01739.nii.gz', 'images/BraTS2021_01740.nii.gz', 'images/BraTS2021_01741.nii.gz', 'images/BraTS2021_01742.nii.gz', 'images/BraTS2021_01743.nii.gz', 'images/BraTS2021_01744.nii.gz', 'images/BraTS2021_01745.nii.gz', 'images/BraTS2021_01746.nii.gz', 'images/BraTS2021_01747.nii.gz', 'images/BraTS2021_01748.nii.gz', 'images/BraTS2021_01749.nii.gz', 'images/BraTS2021_01750.nii.gz', 'images/BraTS2021_01751.nii.gz', 'images/BraTS2021_01752.nii.gz', 'images/BraTS2021_01753.nii.gz', 'images/BraTS2021_01754.nii.gz', 'images/BraTS2021_01755.nii.gz', 'images/BraTS2021_01756.nii.gz', 'images/BraTS2021_01757.nii.gz', 'images/BraTS2021_01758.nii.gz', 'images/BraTS2021_01759.nii.gz', 'images/BraTS2021_01760.nii.gz', 'images/BraTS2021_01761.nii.gz', 'images/BraTS2021_01762.nii.gz', 'images/BraTS2021_01763.nii.gz', 'images/BraTS2021_01764.nii.gz', 'images/BraTS2021_01765.nii.gz']\n",
            "labels ['labels/BraTS2021_01667_seg.nii.gz', 'labels/BraTS2021_01668_seg.nii.gz', 'labels/BraTS2021_01669_seg.nii.gz', 'labels/BraTS2021_01670_seg.nii.gz', 'labels/BraTS2021_01671_seg.nii.gz', 'labels/BraTS2021_01672_seg.nii.gz', 'labels/BraTS2021_01673_seg.nii.gz', 'labels/BraTS2021_01674_seg.nii.gz', 'labels/BraTS2021_01675_seg.nii.gz', 'labels/BraTS2021_01676_seg.nii.gz', 'labels/BraTS2021_01677_seg.nii.gz', 'labels/BraTS2021_01678_seg.nii.gz', 'labels/BraTS2021_01679_seg.nii.gz', 'labels/BraTS2021_01680_seg.nii.gz', 'labels/BraTS2021_01681_seg.nii.gz', 'labels/BraTS2021_01682_seg.nii.gz', 'labels/BraTS2021_01683_seg.nii.gz', 'labels/BraTS2021_01684_seg.nii.gz', 'labels/BraTS2021_01685_seg.nii.gz', 'labels/BraTS2021_01686_seg.nii.gz', 'labels/BraTS2021_01687_seg.nii.gz', 'labels/BraTS2021_01688_seg.nii.gz', 'labels/BraTS2021_01689_seg.nii.gz', 'labels/BraTS2021_01690_seg.nii.gz', 'labels/BraTS2021_01691_seg.nii.gz', 'labels/BraTS2021_01692_seg.nii.gz', 'labels/BraTS2021_01693_seg.nii.gz', 'labels/BraTS2021_01694_seg.nii.gz', 'labels/BraTS2021_01695_seg.nii.gz', 'labels/BraTS2021_01696_seg.nii.gz', 'labels/BraTS2021_01697_seg.nii.gz', 'labels/BraTS2021_01698_seg.nii.gz', 'labels/BraTS2021_01699_seg.nii.gz', 'labels/BraTS2021_01700_seg.nii.gz', 'labels/BraTS2021_01701_seg.nii.gz', 'labels/BraTS2021_01702_seg.nii.gz', 'labels/BraTS2021_01703_seg.nii.gz', 'labels/BraTS2021_01704_seg.nii.gz', 'labels/BraTS2021_01705_seg.nii.gz', 'labels/BraTS2021_01706_seg.nii.gz', 'labels/BraTS2021_01707_seg.nii.gz', 'labels/BraTS2021_01708_seg.nii.gz', 'labels/BraTS2021_01709_seg.nii.gz', 'labels/BraTS2021_01710_seg.nii.gz', 'labels/BraTS2021_01711_seg.nii.gz', 'labels/BraTS2021_01712_seg.nii.gz', 'labels/BraTS2021_01713_seg.nii.gz', 'labels/BraTS2021_01714_seg.nii.gz', 'labels/BraTS2021_01715_seg.nii.gz', 'labels/BraTS2021_01716_seg.nii.gz', 'labels/BraTS2021_01717_seg.nii.gz', 'labels/BraTS2021_01718_seg.nii.gz', 'labels/BraTS2021_01719_seg.nii.gz', 'labels/BraTS2021_01720_seg.nii.gz', 'labels/BraTS2021_01721_seg.nii.gz', 'labels/BraTS2021_01722_seg.nii.gz', 'labels/BraTS2021_01723_seg.nii.gz', 'labels/BraTS2021_01724_seg.nii.gz', 'labels/BraTS2021_01725_seg.nii.gz', 'labels/BraTS2021_01726_seg.nii.gz', 'labels/BraTS2021_01727_seg.nii.gz', 'labels/BraTS2021_01728_seg.nii.gz', 'labels/BraTS2021_01729_seg.nii.gz', 'labels/BraTS2021_01730_seg.nii.gz', 'labels/BraTS2021_01731_seg.nii.gz', 'labels/BraTS2021_01732_seg.nii.gz', 'labels/BraTS2021_01733_seg.nii.gz', 'labels/BraTS2021_01734_seg.nii.gz', 'labels/BraTS2021_01735_seg.nii.gz', 'labels/BraTS2021_01736_seg.nii.gz', 'labels/BraTS2021_01737_seg.nii.gz', 'labels/BraTS2021_01738_seg.nii.gz', 'labels/BraTS2021_01739_seg.nii.gz', 'labels/BraTS2021_01740_seg.nii.gz', 'labels/BraTS2021_01741_seg.nii.gz', 'labels/BraTS2021_01742_seg.nii.gz', 'labels/BraTS2021_01743_seg.nii.gz', 'labels/BraTS2021_01744_seg.nii.gz', 'labels/BraTS2021_01745_seg.nii.gz', 'labels/BraTS2021_01746_seg.nii.gz', 'labels/BraTS2021_01747_seg.nii.gz', 'labels/BraTS2021_01748_seg.nii.gz', 'labels/BraTS2021_01749_seg.nii.gz', 'labels/BraTS2021_01750_seg.nii.gz', 'labels/BraTS2021_01751_seg.nii.gz', 'labels/BraTS2021_01752_seg.nii.gz', 'labels/BraTS2021_01753_seg.nii.gz', 'labels/BraTS2021_01754_seg.nii.gz', 'labels/BraTS2021_01755_seg.nii.gz', 'labels/BraTS2021_01756_seg.nii.gz', 'labels/BraTS2021_01757_seg.nii.gz', 'labels/BraTS2021_01758_seg.nii.gz', 'labels/BraTS2021_01759_seg.nii.gz', 'labels/BraTS2021_01760_seg.nii.gz', 'labels/BraTS2021_01761_seg.nii.gz', 'labels/BraTS2021_01762_seg.nii.gz', 'labels/BraTS2021_01763_seg.nii.gz', 'labels/BraTS2021_01764_seg.nii.gz', 'labels/BraTS2021_01765_seg.nii.gz']\n",
            "Preparing time: 30.78\n",
            "Finished!\n"
          ]
        }
      ],
      "source": [
        "# this path '/content/drive/MyDrive/data/BraTS2021_train' should contain the folder containig the data with the ground truth (T1,T2,T1ce,flair,seg)\n",
        "prepare_dataset(\"/home/workstation04/GP_MMMAI/data/BraTS2021_train\", True)\n",
        "print(\"Finished!\")"
      ]
    },
    {
      "cell_type": "code",
      "execution_count": 5,
      "metadata": {},
      "outputs": [
        {
          "data": {
            "text/plain": [
              "99"
            ]
          },
          "execution_count": 5,
          "metadata": {},
          "output_type": "execute_result"
        }
      ],
      "source": [
        "import json\n",
        "\n",
        "# Specify the path to your JSON file\n",
        "json_file_path = '/home/workstation04/GP_MMMAI/data/BraTS2021_train/dataset.json'\n",
        "\n",
        "# Open the JSON file and load its contents\n",
        "with open(json_file_path, 'r') as json_file:\n",
        "    data = json.load(json_file)\n",
        "len(data['training'])"
      ]
    },
    {
      "cell_type": "markdown",
      "metadata": {
        "id": "cLju4kpgZ2MK"
      },
      "source": [
        "### Data Preprocessing"
      ]
    },
    {
      "cell_type": "code",
      "execution_count": 7,
      "metadata": {},
      "outputs": [
        {
          "name": "stdout",
          "output_type": "stream",
          "text": [
            "2024-02-03 18:34:05.301883: E tensorflow/compiler/xla/stream_executor/cuda/cuda_dnn.cc:9342] Unable to register cuDNN factory: Attempting to register factory for plugin cuDNN when one has already been registered\n",
            "2024-02-03 18:34:05.301925: E tensorflow/compiler/xla/stream_executor/cuda/cuda_fft.cc:609] Unable to register cuFFT factory: Attempting to register factory for plugin cuFFT when one has already been registered\n",
            "2024-02-03 18:34:05.301959: E tensorflow/compiler/xla/stream_executor/cuda/cuda_blas.cc:1518] Unable to register cuBLAS factory: Attempting to register factory for plugin cuBLAS when one has already been registered\n",
            "2024-02-03 18:34:05.308388: I tensorflow/core/platform/cpu_feature_guard.cc:182] This TensorFlow binary is optimized to use available CPU instructions in performance-critical operations.\n",
            "To enable the following instructions: AVX2 FMA, in other operations, rebuild TensorFlow with the appropriate compiler flags.\n",
            "2024-02-03 18:34:06.016377: W tensorflow/compiler/tf2tensorrt/utils/py_utils.cc:38] TF-TRT Warning: Could not find TensorRT\n",
            "pyarrow._fs.FileInfo size changed, may indicate binary incompatibility. Expected 64 from C header, got 88 from PyObject\n",
            "pyarrow._fs.FileSelector size changed, may indicate binary incompatibility. Expected 48 from C header, got 72 from PyObject\n",
            "usage: preprocess.py [-h] [--data DATA] [--results RESULTS]\n",
            "                     [--exec_mode {training,val,test}] [--ohe] [--verbose]\n",
            "                     [--task TASK] [--dim {2,3}] [--n_jobs N_JOBS]\n",
            "\n",
            "optional arguments:\n",
            "  -h, --help            show this help message and exit\n",
            "  --data DATA           Path to data directory (default: /data)\n",
            "  --results RESULTS     Path for saving results directory (default: /data)\n",
            "  --exec_mode {training,val,test}\n",
            "                        Mode for data preprocessing (default: training)\n",
            "  --ohe                 Add one-hot-encoding for foreground voxels (voxels >\n",
            "                        0) (default: False)\n",
            "  --verbose\n",
            "  --task TASK           Number of task to be run. MSD uses numbers 01-10\n",
            "                        (default: None)\n",
            "  --dim {2,3}           Data dimension to prepare (default: 3)\n",
            "  --n_jobs N_JOBS       Number of parallel jobs for data preprocessing\n",
            "                        (default: -1)\n"
          ]
        }
      ],
      "source": [
        "!python3 /home/workstation04/GP_MMMAI/Notebooks/NVIDIA_nnUNet/DeepLearningExamples/PyTorch/Segmentation/nnUNet/preprocess.py -h"
      ]
    },
    {
      "cell_type": "code",
      "execution_count": 1,
      "metadata": {
        "colab": {
          "base_uri": "https://localhost:8080/"
        },
        "collapsed": true,
        "id": "w76HR3BYOwy1",
        "outputId": "66820ef0-4827-4c99-a903-ec47570285be"
      },
      "outputs": [
        {
          "name": "stdout",
          "output_type": "stream",
          "text": [
            "2024-03-03 01:36:37.221638: E tensorflow/compiler/xla/stream_executor/cuda/cuda_dnn.cc:9342] Unable to register cuDNN factory: Attempting to register factory for plugin cuDNN when one has already been registered\n",
            "2024-03-03 01:36:37.221682: E tensorflow/compiler/xla/stream_executor/cuda/cuda_fft.cc:609] Unable to register cuFFT factory: Attempting to register factory for plugin cuFFT when one has already been registered\n",
            "2024-03-03 01:36:37.221718: E tensorflow/compiler/xla/stream_executor/cuda/cuda_blas.cc:1518] Unable to register cuBLAS factory: Attempting to register factory for plugin cuBLAS when one has already been registered\n",
            "2024-03-03 01:36:37.228529: I tensorflow/core/platform/cpu_feature_guard.cc:182] This TensorFlow binary is optimized to use available CPU instructions in performance-critical operations.\n",
            "To enable the following instructions: AVX2 FMA, in other operations, rebuild TensorFlow with the appropriate compiler flags.\n",
            "2024-03-03 01:36:38.200383: W tensorflow/compiler/tf2tensorrt/utils/py_utils.cc:38] TF-TRT Warning: Could not find TensorRT\n",
            "Preprocessing /home/workstation04/GP_MMMAI/data/BraTS2021_train\n",
            "2024-03-03 01:36:47.756526: E tensorflow/compiler/xla/stream_executor/cuda/cuda_dnn.cc:9342] Unable to register cuDNN factory: Attempting to register factory for plugin cuDNN when one has already been registered\n",
            "2024-03-03 01:36:47.756605: E tensorflow/compiler/xla/stream_executor/cuda/cuda_fft.cc:609] Unable to register cuFFT factory: Attempting to register factory for plugin cuFFT when one has already been registered\n",
            "2024-03-03 01:36:47.756678: E tensorflow/compiler/xla/stream_executor/cuda/cuda_blas.cc:1518] Unable to register cuBLAS factory: Attempting to register factory for plugin cuBLAS when one has already been registered\n",
            "2024-03-03 01:36:47.767246: I tensorflow/core/platform/cpu_feature_guard.cc:182] This TensorFlow binary is optimized to use available CPU instructions in performance-critical operations.\n",
            "To enable the following instructions: AVX2 FMA, in other operations, rebuild TensorFlow with the appropriate compiler flags.\n",
            "2024-03-03 01:36:47.916398: E tensorflow/compiler/xla/stream_executor/cuda/cuda_dnn.cc:9342] Unable to register cuDNN factory: Attempting to register factory for plugin cuDNN when one has already been registered\n",
            "2024-03-03 01:36:47.916571: E tensorflow/compiler/xla/stream_executor/cuda/cuda_fft.cc:609] Unable to register cuFFT factory: Attempting to register factory for plugin cuFFT when one has already been registered\n",
            "2024-03-03 01:36:47.916642: E tensorflow/compiler/xla/stream_executor/cuda/cuda_blas.cc:1518] Unable to register cuBLAS factory: Attempting to register factory for plugin cuBLAS when one has already been registered\n",
            "2024-03-03 01:36:47.928370: E tensorflow/compiler/xla/stream_executor/cuda/cuda_dnn.cc:9342] Unable to register cuDNN factory: Attempting to register factory for plugin cuDNN when one has already been registered\n",
            "2024-03-03 01:36:47.928525: E tensorflow/compiler/xla/stream_executor/cuda/cuda_fft.cc:609] Unable to register cuFFT factory: Attempting to register factory for plugin cuFFT when one has already been registered\n",
            "2024-03-03 01:36:47.928546: I tensorflow/core/platform/cpu_feature_guard.cc:182] This TensorFlow binary is optimized to use available CPU instructions in performance-critical operations.\n",
            "To enable the following instructions: AVX2 FMA, in other operations, rebuild TensorFlow with the appropriate compiler flags.\n",
            "2024-03-03 01:36:47.928606: E tensorflow/compiler/xla/stream_executor/cuda/cuda_blas.cc:1518] Unable to register cuBLAS factory: Attempting to register factory for plugin cuBLAS when one has already been registered\n",
            "2024-03-03 01:36:47.939342: I tensorflow/core/platform/cpu_feature_guard.cc:182] This TensorFlow binary is optimized to use available CPU instructions in performance-critical operations.\n",
            "To enable the following instructions: AVX2 FMA, in other operations, rebuild TensorFlow with the appropriate compiler flags.\n",
            "2024-03-03 01:36:48.072721: E tensorflow/compiler/xla/stream_executor/cuda/cuda_dnn.cc:9342] Unable to register cuDNN factory: Attempting to register factory for plugin cuDNN when one has already been registered\n",
            "2024-03-03 01:36:48.072781: E tensorflow/compiler/xla/stream_executor/cuda/cuda_fft.cc:609] Unable to register cuFFT factory: Attempting to register factory for plugin cuFFT when one has already been registered\n",
            "2024-03-03 01:36:48.072844: E tensorflow/compiler/xla/stream_executor/cuda/cuda_blas.cc:1518] Unable to register cuBLAS factory: Attempting to register factory for plugin cuBLAS when one has already been registered\n",
            "2024-03-03 01:36:48.073912: E tensorflow/compiler/xla/stream_executor/cuda/cuda_dnn.cc:9342] Unable to register cuDNN factory: Attempting to register factory for plugin cuDNN when one has already been registered\n",
            "2024-03-03 01:36:48.073965: E tensorflow/compiler/xla/stream_executor/cuda/cuda_fft.cc:609] Unable to register cuFFT factory: Attempting to register factory for plugin cuFFT when one has already been registered\n",
            "2024-03-03 01:36:48.074022: E tensorflow/compiler/xla/stream_executor/cuda/cuda_blas.cc:1518] Unable to register cuBLAS factory: Attempting to register factory for plugin cuBLAS when one has already been registered\n",
            "2024-03-03 01:36:48.082714: I tensorflow/core/platform/cpu_feature_guard.cc:182] This TensorFlow binary is optimized to use available CPU instructions in performance-critical operations.\n",
            "To enable the following instructions: AVX2 FMA, in other operations, rebuild TensorFlow with the appropriate compiler flags.\n",
            "2024-03-03 01:36:48.082714: I tensorflow/core/platform/cpu_feature_guard.cc:182] This TensorFlow binary is optimized to use available CPU instructions in performance-critical operations.\n",
            "To enable the following instructions: AVX2 FMA, in other operations, rebuild TensorFlow with the appropriate compiler flags.\n",
            "2024-03-03 01:36:48.136758: E tensorflow/compiler/xla/stream_executor/cuda/cuda_dnn.cc:9342] Unable to register cuDNN factory: Attempting to register factory for plugin cuDNN when one has already been registered\n",
            "2024-03-03 01:36:48.136922: E tensorflow/compiler/xla/stream_executor/cuda/cuda_fft.cc:609] Unable to register cuFFT factory: Attempting to register factory for plugin cuFFT when one has already been registered\n",
            "2024-03-03 01:36:48.136989: E tensorflow/compiler/xla/stream_executor/cuda/cuda_blas.cc:1518] Unable to register cuBLAS factory: Attempting to register factory for plugin cuBLAS when one has already been registered\n",
            "2024-03-03 01:36:48.149765: I tensorflow/core/platform/cpu_feature_guard.cc:182] This TensorFlow binary is optimized to use available CPU instructions in performance-critical operations.\n",
            "To enable the following instructions: AVX2 FMA, in other operations, rebuild TensorFlow with the appropriate compiler flags.\n",
            "2024-03-03 01:36:48.174108: E tensorflow/compiler/xla/stream_executor/cuda/cuda_dnn.cc:9342] Unable to register cuDNN factory: Attempting to register factory for plugin cuDNN when one has already been registered\n",
            "2024-03-03 01:36:48.174168: E tensorflow/compiler/xla/stream_executor/cuda/cuda_fft.cc:609] Unable to register cuFFT factory: Attempting to register factory for plugin cuFFT when one has already been registered\n",
            "2024-03-03 01:36:48.174225: E tensorflow/compiler/xla/stream_executor/cuda/cuda_blas.cc:1518] Unable to register cuBLAS factory: Attempting to register factory for plugin cuBLAS when one has already been registered\n",
            "2024-03-03 01:36:48.185013: I tensorflow/core/platform/cpu_feature_guard.cc:182] This TensorFlow binary is optimized to use available CPU instructions in performance-critical operations.\n",
            "To enable the following instructions: AVX2 FMA, in other operations, rebuild TensorFlow with the appropriate compiler flags.\n",
            "2024-03-03 01:36:48.293495: E tensorflow/compiler/xla/stream_executor/cuda/cuda_dnn.cc:9342] Unable to register cuDNN factory: Attempting to register factory for plugin cuDNN when one has already been registered\n",
            "2024-03-03 01:36:48.293648: E tensorflow/compiler/xla/stream_executor/cuda/cuda_fft.cc:609] Unable to register cuFFT factory: Attempting to register factory for plugin cuFFT when one has already been registered\n",
            "2024-03-03 01:36:48.293716: E tensorflow/compiler/xla/stream_executor/cuda/cuda_blas.cc:1518] Unable to register cuBLAS factory: Attempting to register factory for plugin cuBLAS when one has already been registered\n",
            "2024-03-03 01:36:48.304262: I tensorflow/core/platform/cpu_feature_guard.cc:182] This TensorFlow binary is optimized to use available CPU instructions in performance-critical operations.\n",
            "To enable the following instructions: AVX2 FMA, in other operations, rebuild TensorFlow with the appropriate compiler flags.\n",
            "2024-03-03 01:36:48.388953: E tensorflow/compiler/xla/stream_executor/cuda/cuda_dnn.cc:9342] Unable to register cuDNN factory: Attempting to register factory for plugin cuDNN when one has already been registered\n",
            "2024-03-03 01:36:48.389133: E tensorflow/compiler/xla/stream_executor/cuda/cuda_fft.cc:609] Unable to register cuFFT factory: Attempting to register factory for plugin cuFFT when one has already been registered\n",
            "2024-03-03 01:36:48.389214: E tensorflow/compiler/xla/stream_executor/cuda/cuda_blas.cc:1518] Unable to register cuBLAS factory: Attempting to register factory for plugin cuBLAS when one has already been registered\n",
            "2024-03-03 01:36:48.401040: I tensorflow/core/platform/cpu_feature_guard.cc:182] This TensorFlow binary is optimized to use available CPU instructions in performance-critical operations.\n",
            "To enable the following instructions: AVX2 FMA, in other operations, rebuild TensorFlow with the appropriate compiler flags.\n",
            "2024-03-03 01:36:48.431777: E tensorflow/compiler/xla/stream_executor/cuda/cuda_dnn.cc:9342] Unable to register cuDNN factory: Attempting to register factory for plugin cuDNN when one has already been registered\n",
            "2024-03-03 01:36:48.431901: E tensorflow/compiler/xla/stream_executor/cuda/cuda_fft.cc:609] Unable to register cuFFT factory: Attempting to register factory for plugin cuFFT when one has already been registered\n",
            "2024-03-03 01:36:48.431963: E tensorflow/compiler/xla/stream_executor/cuda/cuda_blas.cc:1518] Unable to register cuBLAS factory: Attempting to register factory for plugin cuBLAS when one has already been registered\n",
            "2024-03-03 01:36:48.437077: E tensorflow/compiler/xla/stream_executor/cuda/cuda_dnn.cc:9342] Unable to register cuDNN factory: Attempting to register factory for plugin cuDNN when one has already been registered\n",
            "2024-03-03 01:36:48.437224: E tensorflow/compiler/xla/stream_executor/cuda/cuda_fft.cc:609] Unable to register cuFFT factory: Attempting to register factory for plugin cuFFT when one has already been registered\n",
            "2024-03-03 01:36:48.437284: E tensorflow/compiler/xla/stream_executor/cuda/cuda_blas.cc:1518] Unable to register cuBLAS factory: Attempting to register factory for plugin cuBLAS when one has already been registered\n",
            "2024-03-03 01:36:48.443479: I tensorflow/core/platform/cpu_feature_guard.cc:182] This TensorFlow binary is optimized to use available CPU instructions in performance-critical operations.\n",
            "To enable the following instructions: AVX2 FMA, in other operations, rebuild TensorFlow with the appropriate compiler flags.\n",
            "2024-03-03 01:36:48.448204: I tensorflow/core/platform/cpu_feature_guard.cc:182] This TensorFlow binary is optimized to use available CPU instructions in performance-critical operations.\n",
            "To enable the following instructions: AVX2 FMA, in other operations, rebuild TensorFlow with the appropriate compiler flags.\n",
            "2024-03-03 01:36:48.494153: E tensorflow/compiler/xla/stream_executor/cuda/cuda_dnn.cc:9342] Unable to register cuDNN factory: Attempting to register factory for plugin cuDNN when one has already been registered\n",
            "2024-03-03 01:36:48.494214: E tensorflow/compiler/xla/stream_executor/cuda/cuda_fft.cc:609] Unable to register cuFFT factory: Attempting to register factory for plugin cuFFT when one has already been registered\n",
            "2024-03-03 01:36:48.494268: E tensorflow/compiler/xla/stream_executor/cuda/cuda_blas.cc:1518] Unable to register cuBLAS factory: Attempting to register factory for plugin cuBLAS when one has already been registered\n",
            "2024-03-03 01:36:48.505897: I tensorflow/core/platform/cpu_feature_guard.cc:182] This TensorFlow binary is optimized to use available CPU instructions in performance-critical operations.\n",
            "To enable the following instructions: AVX2 FMA, in other operations, rebuild TensorFlow with the appropriate compiler flags.\n",
            "2024-03-03 01:36:48.544453: E tensorflow/compiler/xla/stream_executor/cuda/cuda_dnn.cc:9342] Unable to register cuDNN factory: Attempting to register factory for plugin cuDNN when one has already been registered\n",
            "2024-03-03 01:36:48.544516: E tensorflow/compiler/xla/stream_executor/cuda/cuda_fft.cc:609] Unable to register cuFFT factory: Attempting to register factory for plugin cuFFT when one has already been registered\n",
            "2024-03-03 01:36:48.544586: E tensorflow/compiler/xla/stream_executor/cuda/cuda_blas.cc:1518] Unable to register cuBLAS factory: Attempting to register factory for plugin cuBLAS when one has already been registered\n",
            "2024-03-03 01:36:48.548600: E tensorflow/compiler/xla/stream_executor/cuda/cuda_dnn.cc:9342] Unable to register cuDNN factory: Attempting to register factory for plugin cuDNN when one has already been registered\n",
            "2024-03-03 01:36:48.548677: E tensorflow/compiler/xla/stream_executor/cuda/cuda_fft.cc:609] Unable to register cuFFT factory: Attempting to register factory for plugin cuFFT when one has already been registered\n",
            "2024-03-03 01:36:48.548737: E tensorflow/compiler/xla/stream_executor/cuda/cuda_blas.cc:1518] Unable to register cuBLAS factory: Attempting to register factory for plugin cuBLAS when one has already been registered\n",
            "2024-03-03 01:36:48.555758: I tensorflow/core/platform/cpu_feature_guard.cc:182] This TensorFlow binary is optimized to use available CPU instructions in performance-critical operations.\n",
            "To enable the following instructions: AVX2 FMA, in other operations, rebuild TensorFlow with the appropriate compiler flags.\n",
            "2024-03-03 01:36:48.560498: I tensorflow/core/platform/cpu_feature_guard.cc:182] This TensorFlow binary is optimized to use available CPU instructions in performance-critical operations.\n",
            "To enable the following instructions: AVX2 FMA, in other operations, rebuild TensorFlow with the appropriate compiler flags.\n",
            "2024-03-03 01:36:48.575902: E tensorflow/compiler/xla/stream_executor/cuda/cuda_dnn.cc:9342] Unable to register cuDNN factory: Attempting to register factory for plugin cuDNN when one has already been registered\n",
            "2024-03-03 01:36:48.575984: E tensorflow/compiler/xla/stream_executor/cuda/cuda_fft.cc:609] Unable to register cuFFT factory: Attempting to register factory for plugin cuFFT when one has already been registered\n",
            "2024-03-03 01:36:48.576057: E tensorflow/compiler/xla/stream_executor/cuda/cuda_blas.cc:1518] Unable to register cuBLAS factory: Attempting to register factory for plugin cuBLAS when one has already been registered\n",
            "2024-03-03 01:36:48.580455: E tensorflow/compiler/xla/stream_executor/cuda/cuda_dnn.cc:9342] Unable to register cuDNN factory: Attempting to register factory for plugin cuDNN when one has already been registered\n",
            "2024-03-03 01:36:48.580523: E tensorflow/compiler/xla/stream_executor/cuda/cuda_fft.cc:609] Unable to register cuFFT factory: Attempting to register factory for plugin cuFFT when one has already been registered\n",
            "2024-03-03 01:36:48.580587: E tensorflow/compiler/xla/stream_executor/cuda/cuda_blas.cc:1518] Unable to register cuBLAS factory: Attempting to register factory for plugin cuBLAS when one has already been registered\n",
            "2024-03-03 01:36:48.587734: I tensorflow/core/platform/cpu_feature_guard.cc:182] This TensorFlow binary is optimized to use available CPU instructions in performance-critical operations.\n",
            "To enable the following instructions: AVX2 FMA, in other operations, rebuild TensorFlow with the appropriate compiler flags.\n",
            "2024-03-03 01:36:48.590651: I tensorflow/core/platform/cpu_feature_guard.cc:182] This TensorFlow binary is optimized to use available CPU instructions in performance-critical operations.\n",
            "To enable the following instructions: AVX2 FMA, in other operations, rebuild TensorFlow with the appropriate compiler flags.\n",
            "2024-03-03 01:36:48.694806: E tensorflow/compiler/xla/stream_executor/cuda/cuda_dnn.cc:9342] Unable to register cuDNN factory: Attempting to register factory for plugin cuDNN when one has already been registered\n",
            "2024-03-03 01:36:48.694870: E tensorflow/compiler/xla/stream_executor/cuda/cuda_fft.cc:609] Unable to register cuFFT factory: Attempting to register factory for plugin cuFFT when one has already been registered\n",
            "2024-03-03 01:36:48.694945: E tensorflow/compiler/xla/stream_executor/cuda/cuda_blas.cc:1518] Unable to register cuBLAS factory: Attempting to register factory for plugin cuBLAS when one has already been registered\n",
            "2024-03-03 01:36:48.707870: I tensorflow/core/platform/cpu_feature_guard.cc:182] This TensorFlow binary is optimized to use available CPU instructions in performance-critical operations.\n",
            "To enable the following instructions: AVX2 FMA, in other operations, rebuild TensorFlow with the appropriate compiler flags.\n",
            "2024-03-03 01:36:48.724330: E tensorflow/compiler/xla/stream_executor/cuda/cuda_dnn.cc:9342] Unable to register cuDNN factory: Attempting to register factory for plugin cuDNN when one has already been registered\n",
            "2024-03-03 01:36:48.724421: E tensorflow/compiler/xla/stream_executor/cuda/cuda_fft.cc:609] Unable to register cuFFT factory: Attempting to register factory for plugin cuFFT when one has already been registered\n",
            "2024-03-03 01:36:48.724491: E tensorflow/compiler/xla/stream_executor/cuda/cuda_blas.cc:1518] Unable to register cuBLAS factory: Attempting to register factory for plugin cuBLAS when one has already been registered\n",
            "2024-03-03 01:36:48.735359: I tensorflow/core/platform/cpu_feature_guard.cc:182] This TensorFlow binary is optimized to use available CPU instructions in performance-critical operations.\n",
            "To enable the following instructions: AVX2 FMA, in other operations, rebuild TensorFlow with the appropriate compiler flags.\n",
            "2024-03-03 01:36:48.736127: E tensorflow/compiler/xla/stream_executor/cuda/cuda_dnn.cc:9342] Unable to register cuDNN factory: Attempting to register factory for plugin cuDNN when one has already been registered\n",
            "2024-03-03 01:36:48.736210: E tensorflow/compiler/xla/stream_executor/cuda/cuda_fft.cc:609] Unable to register cuFFT factory: Attempting to register factory for plugin cuFFT when one has already been registered\n",
            "2024-03-03 01:36:48.736271: E tensorflow/compiler/xla/stream_executor/cuda/cuda_blas.cc:1518] Unable to register cuBLAS factory: Attempting to register factory for plugin cuBLAS when one has already been registered\n",
            "2024-03-03 01:36:48.738489: E tensorflow/compiler/xla/stream_executor/cuda/cuda_dnn.cc:9342] Unable to register cuDNN factory: Attempting to register factory for plugin cuDNN when one has already been registered\n",
            "2024-03-03 01:36:48.738552: E tensorflow/compiler/xla/stream_executor/cuda/cuda_fft.cc:609] Unable to register cuFFT factory: Attempting to register factory for plugin cuFFT when one has already been registered\n",
            "2024-03-03 01:36:48.738619: E tensorflow/compiler/xla/stream_executor/cuda/cuda_blas.cc:1518] Unable to register cuBLAS factory: Attempting to register factory for plugin cuBLAS when one has already been registered\n",
            "2024-03-03 01:36:48.746950: I tensorflow/core/platform/cpu_feature_guard.cc:182] This TensorFlow binary is optimized to use available CPU instructions in performance-critical operations.\n",
            "To enable the following instructions: AVX2 FMA, in other operations, rebuild TensorFlow with the appropriate compiler flags.\n",
            "2024-03-03 01:36:48.749277: I tensorflow/core/platform/cpu_feature_guard.cc:182] This TensorFlow binary is optimized to use available CPU instructions in performance-critical operations.\n",
            "To enable the following instructions: AVX2 FMA, in other operations, rebuild TensorFlow with the appropriate compiler flags.\n",
            "2024-03-03 01:36:48.826334: E tensorflow/compiler/xla/stream_executor/cuda/cuda_dnn.cc:9342] Unable to register cuDNN factory: Attempting to register factory for plugin cuDNN when one has already been registered\n",
            "2024-03-03 01:36:48.826334: E tensorflow/compiler/xla/stream_executor/cuda/cuda_dnn.cc:9342] Unable to register cuDNN factory: Attempting to register factory for plugin cuDNN when one has already been registered\n",
            "2024-03-03 01:36:48.826521: E tensorflow/compiler/xla/stream_executor/cuda/cuda_fft.cc:609] Unable to register cuFFT factory: Attempting to register factory for plugin cuFFT when one has already been registered\n",
            "2024-03-03 01:36:48.826543: E tensorflow/compiler/xla/stream_executor/cuda/cuda_fft.cc:609] Unable to register cuFFT factory: Attempting to register factory for plugin cuFFT when one has already been registered\n",
            "2024-03-03 01:36:48.826596: E tensorflow/compiler/xla/stream_executor/cuda/cuda_blas.cc:1518] Unable to register cuBLAS factory: Attempting to register factory for plugin cuBLAS when one has already been registered\n",
            "2024-03-03 01:36:48.826629: E tensorflow/compiler/xla/stream_executor/cuda/cuda_blas.cc:1518] Unable to register cuBLAS factory: Attempting to register factory for plugin cuBLAS when one has already been registered\n",
            "2024-03-03 01:36:48.837706: I tensorflow/core/platform/cpu_feature_guard.cc:182] This TensorFlow binary is optimized to use available CPU instructions in performance-critical operations.\n",
            "To enable the following instructions: AVX2 FMA, in other operations, rebuild TensorFlow with the appropriate compiler flags.\n",
            "2024-03-03 01:36:48.838362: I tensorflow/core/platform/cpu_feature_guard.cc:182] This TensorFlow binary is optimized to use available CPU instructions in performance-critical operations.\n",
            "To enable the following instructions: AVX2 FMA, in other operations, rebuild TensorFlow with the appropriate compiler flags.\n",
            "2024-03-03 01:36:48.859204: E tensorflow/compiler/xla/stream_executor/cuda/cuda_dnn.cc:9342] Unable to register cuDNN factory: Attempting to register factory for plugin cuDNN when one has already been registered\n",
            "2024-03-03 01:36:48.859379: E tensorflow/compiler/xla/stream_executor/cuda/cuda_fft.cc:609] Unable to register cuFFT factory: Attempting to register factory for plugin cuFFT when one has already been registered\n",
            "2024-03-03 01:36:48.859445: E tensorflow/compiler/xla/stream_executor/cuda/cuda_blas.cc:1518] Unable to register cuBLAS factory: Attempting to register factory for plugin cuBLAS when one has already been registered\n",
            "2024-03-03 01:36:48.870777: I tensorflow/core/platform/cpu_feature_guard.cc:182] This TensorFlow binary is optimized to use available CPU instructions in performance-critical operations.\n",
            "To enable the following instructions: AVX2 FMA, in other operations, rebuild TensorFlow with the appropriate compiler flags.\n",
            "2024-03-03 01:36:48.891539: E tensorflow/compiler/xla/stream_executor/cuda/cuda_dnn.cc:9342] Unable to register cuDNN factory: Attempting to register factory for plugin cuDNN when one has already been registered\n",
            "2024-03-03 01:36:48.891605: E tensorflow/compiler/xla/stream_executor/cuda/cuda_fft.cc:609] Unable to register cuFFT factory: Attempting to register factory for plugin cuFFT when one has already been registered\n",
            "2024-03-03 01:36:48.891679: E tensorflow/compiler/xla/stream_executor/cuda/cuda_blas.cc:1518] Unable to register cuBLAS factory: Attempting to register factory for plugin cuBLAS when one has already been registered\n",
            "2024-03-03 01:36:48.906179: I tensorflow/core/platform/cpu_feature_guard.cc:182] This TensorFlow binary is optimized to use available CPU instructions in performance-critical operations.\n",
            "To enable the following instructions: AVX2 FMA, in other operations, rebuild TensorFlow with the appropriate compiler flags.\n",
            "2024-03-03 01:36:49.057878: W tensorflow/compiler/tf2tensorrt/utils/py_utils.cc:38] TF-TRT Warning: Could not find TensorRT\n",
            "2024-03-03 01:36:49.263129: W tensorflow/compiler/tf2tensorrt/utils/py_utils.cc:38] TF-TRT Warning: Could not find TensorRT\n",
            "2024-03-03 01:36:49.267178: W tensorflow/compiler/tf2tensorrt/utils/py_utils.cc:38] TF-TRT Warning: Could not find TensorRT\n",
            "2024-03-03 01:36:49.467226: W tensorflow/compiler/tf2tensorrt/utils/py_utils.cc:38] TF-TRT Warning: Could not find TensorRT\n",
            "2024-03-03 01:36:49.528543: W tensorflow/compiler/tf2tensorrt/utils/py_utils.cc:38] TF-TRT Warning: Could not find TensorRT\n",
            "2024-03-03 01:36:49.537029: W tensorflow/compiler/tf2tensorrt/utils/py_utils.cc:38] TF-TRT Warning: Could not find TensorRT\n",
            "2024-03-03 01:36:49.682855: W tensorflow/compiler/tf2tensorrt/utils/py_utils.cc:38] TF-TRT Warning: Could not find TensorRT\n",
            "2024-03-03 01:36:49.721831: W tensorflow/compiler/tf2tensorrt/utils/py_utils.cc:38] TF-TRT Warning: Could not find TensorRT\n",
            "2024-03-03 01:36:49.863924: W tensorflow/compiler/tf2tensorrt/utils/py_utils.cc:38] TF-TRT Warning: Could not find TensorRT\n",
            "2024-03-03 01:36:49.874934: W tensorflow/compiler/tf2tensorrt/utils/py_utils.cc:38] TF-TRT Warning: Could not find TensorRT\n",
            "2024-03-03 01:36:49.915453: W tensorflow/compiler/tf2tensorrt/utils/py_utils.cc:38] TF-TRT Warning: Could not find TensorRT\n",
            "2024-03-03 01:36:50.125474: W tensorflow/compiler/tf2tensorrt/utils/py_utils.cc:38] TF-TRT Warning: Could not find TensorRT\n",
            "2024-03-03 01:36:50.168299: W tensorflow/compiler/tf2tensorrt/utils/py_utils.cc:38] TF-TRT Warning: Could not find TensorRT\n",
            "2024-03-03 01:36:50.172071: W tensorflow/compiler/tf2tensorrt/utils/py_utils.cc:38] TF-TRT Warning: Could not find TensorRT\n",
            "2024-03-03 01:36:50.221220: W tensorflow/compiler/tf2tensorrt/utils/py_utils.cc:38] TF-TRT Warning: Could not find TensorRT\n",
            "2024-03-03 01:36:50.242669: W tensorflow/compiler/tf2tensorrt/utils/py_utils.cc:38] TF-TRT Warning: Could not find TensorRT\n",
            "2024-03-03 01:36:50.285447: W tensorflow/compiler/tf2tensorrt/utils/py_utils.cc:38] TF-TRT Warning: Could not find TensorRT\n",
            "2024-03-03 01:36:50.297373: W tensorflow/compiler/tf2tensorrt/utils/py_utils.cc:38] TF-TRT Warning: Could not find TensorRT\n",
            "2024-03-03 01:36:50.302700: W tensorflow/compiler/tf2tensorrt/utils/py_utils.cc:38] TF-TRT Warning: Could not find TensorRT\n",
            "2024-03-03 01:36:50.324417: W tensorflow/compiler/tf2tensorrt/utils/py_utils.cc:38] TF-TRT Warning: Could not find TensorRT\n",
            "2024-03-03 01:36:50.341341: W tensorflow/compiler/tf2tensorrt/utils/py_utils.cc:38] TF-TRT Warning: Could not find TensorRT\n",
            "2024-03-03 01:36:50.355946: W tensorflow/compiler/tf2tensorrt/utils/py_utils.cc:38] TF-TRT Warning: Could not find TensorRT\n",
            "2024-03-03 01:36:50.360555: W tensorflow/compiler/tf2tensorrt/utils/py_utils.cc:38] TF-TRT Warning: Could not find TensorRT\n",
            "2024-03-03 01:36:50.515616: W tensorflow/compiler/tf2tensorrt/utils/py_utils.cc:38] TF-TRT Warning: Could not find TensorRT\n",
            "Pre-processing time: 80.10\n",
            "Finished!\n"
          ]
        }
      ],
      "source": [
        "# Preprocessing the data (NVIDIA nnUNet)\n",
        "# task 11 is set for brats\n",
        "# change exec_mode to val --> wont expect seg\n",
        "!python3 /home/workstation04/GP_MMMAI/Notebooks/NVIDIA_nnUNet/DeepLearningExamples/PyTorch/Segmentation/nnUNet/preprocess.py --task 11  --exec_mode training --data \"/home/workstation04/GP_MMMAI/data\" --results \"/media/workstation04/New Volume/MMMAI/NVIDIA_PED\" --ohe\n",
        "\n",
        "print(\"Finished!\")"
      ]
    },
    {
      "cell_type": "code",
      "execution_count": null,
      "metadata": {
        "id": "CY8aB3sLRlyr"
      },
      "outputs": [],
      "source": [
        "# Preprocessing (3D UNet) / without one hot encoding (--ohe)\n",
        "!python3 /home/workstation04/GP_MMMAI/Notebooks/NVIDIA_nnUNet/DeepLearningExamples/PyTorch/Segmentation/nnUNet/preprocess.py --task 11  --exec_mode training --data \"/content/drive/MyDrive/data\" --results \"/content/drive/MyDrive/data\"\n",
        "print(\"Finished!\")"
      ]
    },
    {
      "cell_type": "code",
      "execution_count": 3,
      "metadata": {},
      "outputs": [
        {
          "name": "stdout",
          "output_type": "stream",
          "text": [
            "{'patch_size': [128, 128, 128], 'spacings': [1.0, 1.0, 1.0], 'n_class': 4, 'in_channels': 5}\n"
          ]
        }
      ],
      "source": [
        "import pickle\n",
        "with open('/media/workstation04/New Volume/MMMAI/NVIDIA_PED/11_3d/config.pkl', 'rb') as f:\n",
        "    data = pickle.load(f)\n",
        "print(data)"
      ]
    },
    {
      "cell_type": "markdown",
      "metadata": {
        "id": "Nin5k-QuZ8Ss"
      },
      "source": [
        "### Inference"
      ]
    },
    {
      "cell_type": "markdown",
      "metadata": {},
      "source": [
        "in case of this error ModuleNotFoundError: No module named 'nnunet.nn_unet'\n",
        "execute this command\n",
        "``` bash\n",
        "touch /home/workstation04/GP_MMMAI/Notebooks/NVIDIA_nnUNet/DeepLearningExamples/PyTorch/Segmentation/nnUNet/nnunet/__init__.py\n",
        "```\n"
      ]
    },
    {
      "cell_type": "markdown",
      "metadata": {},
      "source": [
        "### Validation set"
      ]
    },
    {
      "cell_type": "code",
      "execution_count": 2,
      "metadata": {},
      "outputs": [
        {
          "name": "stdout",
          "output_type": "stream",
          "text": [
            "2024-03-03 01:48:35.115727: E tensorflow/compiler/xla/stream_executor/cuda/cuda_dnn.cc:9342] Unable to register cuDNN factory: Attempting to register factory for plugin cuDNN when one has already been registered\n",
            "2024-03-03 01:48:35.115771: E tensorflow/compiler/xla/stream_executor/cuda/cuda_fft.cc:609] Unable to register cuFFT factory: Attempting to register factory for plugin cuFFT when one has already been registered\n",
            "2024-03-03 01:48:35.115810: E tensorflow/compiler/xla/stream_executor/cuda/cuda_blas.cc:1518] Unable to register cuBLAS factory: Attempting to register factory for plugin cuBLAS when one has already been registered\n",
            "2024-03-03 01:48:35.134078: I tensorflow/core/platform/cpu_feature_guard.cc:182] This TensorFlow binary is optimized to use available CPU instructions in performance-critical operations.\n",
            "To enable the following instructions: AVX2 FMA, in other operations, rebuild TensorFlow with the appropriate compiler flags.\n",
            "2024-03-03 01:48:36.189919: W tensorflow/compiler/tf2tensorrt/utils/py_utils.cc:38] TF-TRT Warning: Could not find TensorRT\n",
            "0 training, 0 validation, 99 test examples\n",
            "Filters: [64, 96, 128, 192, 256, 384, 512],\n",
            "Kernels: [[3, 3, 3], [3, 3, 3], [3, 3, 3], [3, 3, 3], [3, 3, 3], [3, 3, 3], [3, 3, 3]]\n",
            "Strides: [[1, 1, 1], [2, 2, 2], [2, 2, 2], [2, 2, 2], [2, 2, 2], [2, 2, 2], [2, 2, 2]]\n",
            "Found keys that are not in the model state dict but in the checkpoint: ['model.deep_supervision_heads.0.conv.conv.weight', 'model.deep_supervision_heads.0.conv.conv.bias', 'model.deep_supervision_heads.1.conv.conv.weight', 'model.deep_supervision_heads.1.conv.conv.bias', 'model.skip_layers.next_layer.super_head.conv.conv.weight', 'model.skip_layers.next_layer.super_head.conv.conv.bias', 'model.skip_layers.next_layer.next_layer.super_head.conv.conv.weight', 'model.skip_layers.next_layer.next_layer.super_head.conv.conv.bias']\n",
            "Using 16bit None Automatic Mixed Precision (AMP)\n",
            "Trainer already configured with model summary callbacks: [<class 'pytorch_lightning.callbacks.model_summary.ModelSummary'>]. Skipping setting a default `ModelSummary` callback.\n",
            "GPU available: True (cuda), used: True\n",
            "TPU available: False, using: 0 TPU cores\n",
            "IPU available: False, using: 0 IPUs\n",
            "HPU available: False, using: 0 HPUs\n",
            "`Trainer(limit_train_batches=1.0)` was configured so 100% of the batches per epoch will be used..\n",
            "`Trainer(limit_val_batches=1.0)` was configured so 100% of the batches will be used..\n",
            "`Trainer(limit_test_batches=1.0)` was configured so 100% of the batches will be used..\n",
            "Initializing distributed: GLOBAL_RANK: 0, MEMBER: 1/1\n",
            "----------------------------------------------------------------------------------------------------\n",
            "distributed_backend=nccl\n",
            "All distributed processes registered. Starting with 1 processes\n",
            "----------------------------------------------------------------------------------------------------\n",
            "\n",
            "LOCAL_RANK: 0 - CUDA_VISIBLE_DEVICES: [0]\n",
            "\u001b[2K\u001b[37mTesting\u001b[0m \u001b[35m━━━━━━━━━━━━━━━━━━━━━━━━━━━━━━━━━━━━━\u001b[0m \u001b[37m99/99\u001b[0m \u001b[37m0:45:03 • 0:00:00\u001b[0m \u001b[37m0.04it/s\u001b[0m it/s\u001b[0m it/s\u001b[0m \n",
            "\u001b[?25h"
          ]
        }
      ],
      "source": [
        "# Prediction (NVIDIA nnUNet)\n",
        "!python /home/workstation04/GP_MMMAI/Notebooks/NVIDIA_nnUNet/DeepLearningExamples/PyTorch/Segmentation/nnUNet/main.py --exec_mode \"predict\" --gpus 1 --depth 6 --filters 64 96 128 192 256 384 512 --min_fmap 2 --amp --save_preds --task 11 --data \"/media/workstation04/New Volume/MMMAI/NVIDIA_PED/11_3d\" --ckpt_path \"/home/workstation04/GP_MMMAI/Notebooks/NVIDIA_nnUNet/nvidia_util/epoch=7-dice=84.40.ckpt\" --results \"/media/workstation04/New Volume/MMMAI/NVIDIA_PED/prediction\" --tta\n"
      ]
    },
    {
      "cell_type": "markdown",
      "metadata": {},
      "source": [
        "-------------------------------------------\n",
        "### Test set"
      ]
    },
    {
      "cell_type": "code",
      "execution_count": 7,
      "metadata": {},
      "outputs": [
        {
          "name": "stdout",
          "output_type": "stream",
          "text": [
            "2024-03-14 08:52:51.293282: E tensorflow/compiler/xla/stream_executor/cuda/cuda_dnn.cc:9342] Unable to register cuDNN factory: Attempting to register factory for plugin cuDNN when one has already been registered\n",
            "2024-03-14 08:52:51.293328: E tensorflow/compiler/xla/stream_executor/cuda/cuda_fft.cc:609] Unable to register cuFFT factory: Attempting to register factory for plugin cuFFT when one has already been registered\n",
            "2024-03-14 08:52:51.293370: E tensorflow/compiler/xla/stream_executor/cuda/cuda_blas.cc:1518] Unable to register cuBLAS factory: Attempting to register factory for plugin cuBLAS when one has already been registered\n",
            "2024-03-14 08:52:51.300770: I tensorflow/core/platform/cpu_feature_guard.cc:182] This TensorFlow binary is optimized to use available CPU instructions in performance-critical operations.\n",
            "To enable the following instructions: AVX2 FMA, in other operations, rebuild TensorFlow with the appropriate compiler flags.\n",
            "2024-03-14 08:52:52.353208: W tensorflow/compiler/tf2tensorrt/utils/py_utils.cc:38] TF-TRT Warning: Could not find TensorRT\n",
            "0 training, 0 validation, 10 test examples\n",
            "Filters: [64, 96, 128, 192, 256, 384, 512],\n",
            "Kernels: [[3, 3, 3], [3, 3, 3], [3, 3, 3], [3, 3, 3], [3, 3, 3], [3, 3, 3], [3, 3, 3]]\n",
            "Strides: [[1, 1, 1], [2, 2, 2], [2, 2, 2], [2, 2, 2], [2, 2, 2], [2, 2, 2], [2, 2, 2]]\n",
            "Found keys that are not in the model state dict but in the checkpoint: ['model.deep_supervision_heads.0.conv.conv.weight', 'model.deep_supervision_heads.0.conv.conv.bias', 'model.deep_supervision_heads.1.conv.conv.weight', 'model.deep_supervision_heads.1.conv.conv.bias', 'model.skip_layers.next_layer.super_head.conv.conv.weight', 'model.skip_layers.next_layer.super_head.conv.conv.bias', 'model.skip_layers.next_layer.next_layer.super_head.conv.conv.weight', 'model.skip_layers.next_layer.next_layer.super_head.conv.conv.bias']\n",
            "Using 16bit None Automatic Mixed Precision (AMP)\n",
            "Trainer already configured with model summary callbacks: [<class 'pytorch_lightning.callbacks.model_summary.ModelSummary'>]. Skipping setting a default `ModelSummary` callback.\n",
            "GPU available: True (cuda), used: True\n",
            "TPU available: False, using: 0 TPU cores\n",
            "IPU available: False, using: 0 IPUs\n",
            "HPU available: False, using: 0 HPUs\n",
            "`Trainer(limit_train_batches=1.0)` was configured so 100% of the batches per epoch will be used..\n",
            "`Trainer(limit_val_batches=1.0)` was configured so 100% of the batches will be used..\n",
            "`Trainer(limit_test_batches=1.0)` was configured so 100% of the batches will be used..\n",
            "Initializing distributed: GLOBAL_RANK: 0, MEMBER: 1/1\n",
            "----------------------------------------------------------------------------------------------------\n",
            "distributed_backend=nccl\n",
            "All distributed processes registered. Starting with 1 processes\n",
            "----------------------------------------------------------------------------------------------------\n",
            "\n",
            "LOCAL_RANK: 0 - CUDA_VISIBLE_DEVICES: [0]\n",
            "\u001b[2K\u001b[37mTesting\u001b[0m \u001b[35m━━━━━━━━━━━━━━━━━━━━━━━━━━━━━━━━━━━━━\u001b[0m \u001b[37m10/10\u001b[0m \u001b[37m0:05:37 • 0:00:00\u001b[0m \u001b[37m0.04it/s\u001b[0m \u001b[37m0.04it/s\u001b[0m \n",
            "\u001b[?25h"
          ]
        }
      ],
      "source": [
        "# pretrained on testset\n",
        "!python /home/workstation04/GP_MMMAI/Notebooks/NVIDIA_nnUNet/DeepLearningExamples/PyTorch/Segmentation/nnUNet/main.py --exec_mode \"predict\" --gpus 1 --depth 6 --filters 64 96 128 192 256 384 512 --min_fmap 2 --amp --save_preds --task 11 --data \"/media/workstation04/New Volume/MMMAI/NVIDIA_PED_Trial/PED_testset/11_3d\" --ckpt_path \"/media/workstation04/New Volume/MMMAI/NVIDIA_PED_Trial/Uncertainty_sampling180/checkpoints/epoch=14-dice=78.28.ckpt\" --results \"/media/workstation04/New Volume/MMMAI/NVIDIA_PED_Trial/PED_testset\" --tta"
      ]
    },
    {
      "cell_type": "markdown",
      "metadata": {},
      "source": [
        "---------------------"
      ]
    },
    {
      "cell_type": "code",
      "execution_count": 8,
      "metadata": {
        "id": "-V_fjJg0TbRl"
      },
      "outputs": [],
      "source": [
        "# The prediction will produce a npy file containing the probability to belong to a class for each voxel\n",
        "# so we need to set each voxel to the class with the highest probability\n",
        "# and then save the segmentation as nifti file\n",
        "\n",
        "# Function to set each voxel to the class with the highest probability\n",
        "def to_lbl(pred):\n",
        "    # pred.shape = (num_classes, depth , height, width)\n",
        "    print(pred.shape)\n",
        "    pred = np.argmax(pred, axis=0)\n",
        "    # Transpose to be  (height, width, depth)\n",
        "    pred = np.transpose(pred, (2, 1, 0)).astype(np.uint8)\n",
        "    print(pred.shape)\n",
        "    return pred\n",
        "\n",
        "# Function to save the predicted segmentation as nifti file\n",
        "def prepare_preditions(e):\n",
        "    fname = e[0].split(\"/\")[-1].split(\".\")[0]\n",
        "    preds = [np.load(f) for f in e]\n",
        "    p = to_lbl(np.mean(preds, 0))\n",
        "\n",
        "\n",
        "    # img is the input volumes stacked together ,needed so that the saved prediction have the same affine (map voxel coordinates to real-world coordinates) and header (contains metadata information about the image)\n",
        "    img = nibabel.load(f\"/media/workstation04/New Volume/MMMAI/NVIDIA_PED_Trial/PED_testset/data/BraTS2021_train/images/{fname}.nii.gz\")\n",
        "    nibabel.save(\n",
        "        nibabel.Nifti1Image(p, img.affine, header=img.header),\n",
        "        os.path.join(\"/media/workstation04/New Volume/MMMAI/NVIDIA_PED_Trial/PED_testset/prediction_uncertainty180\", fname + \".nii.gz\"),\n",
        "    )"
      ]
    },
    {
      "cell_type": "code",
      "execution_count": 9,
      "metadata": {
        "colab": {
          "base_uri": "https://localhost:8080/"
        },
        "id": "rEJBg3r7V91z",
        "outputId": "4fdd6687-124b-4eba-9674-a79278588325"
      },
      "outputs": [
        {
          "name": "stdout",
          "output_type": "stream",
          "text": [
            "Preparing final predictions\n"
          ]
        },
        {
          "name": "stdout",
          "output_type": "stream",
          "text": [
            "(4, 155, 240, 240)\n",
            "(240, 240, 155)\n",
            "(4, 155, 240, 240)\n",
            "(240, 240, 155)\n",
            "(4, 155, 240, 240)\n",
            "(240, 240, 155)\n",
            "(4, 155, 240, 240)\n",
            "(240, 240, 155)\n",
            "(4, 155, 240, 240)\n",
            "(240, 240, 155)\n",
            "(4, 155, 240, 240)\n",
            "(240, 240, 155)\n",
            "(4, 155, 240, 240)\n",
            "(240, 240, 155)\n",
            "(4, 155, 240, 240)\n",
            "(240, 240, 155)\n",
            "(4, 155, 240, 240)\n",
            "(240, 240, 155)\n",
            "(4, 155, 240, 240)\n",
            "(240, 240, 155)\n",
            "Finished!\n"
          ]
        }
      ],
      "source": [
        "preds = sorted(glob(f\"/media/workstation04/New Volume/MMMAI/NVIDIA_PED_Trial/PED_testset/predictions_epoch=14-dice=78_28_task=11_fold=0_tta*\"))\n",
        "examples = list(zip(*[sorted(glob(f\"{p}/*.npy\")) for p in preds]))\n",
        "print(\"Preparing final predictions\")\n",
        "for e in examples:\n",
        "    prepare_preditions(e)\n",
        "print(\"Finished!\")"
      ]
    },
    {
      "cell_type": "code",
      "execution_count": null,
      "metadata": {},
      "outputs": [],
      "source": []
    }
  ],
  "metadata": {
    "accelerator": "GPU",
    "colab": {
      "provenance": []
    },
    "kernelspec": {
      "display_name": "Python 3",
      "name": "python3"
    },
    "language_info": {
      "codemirror_mode": {
        "name": "ipython",
        "version": 3
      },
      "file_extension": ".py",
      "mimetype": "text/x-python",
      "name": "python",
      "nbconvert_exporter": "python",
      "pygments_lexer": "ipython3",
      "version": "3.9.18"
    },
    "widgets": {
      "application/vnd.jupyter.widget-state+json": {
        "37f1b7fef754442bbfa582b09dd72509": {
          "model_module": "@jupyter-widgets/controls",
          "model_module_version": "1.5.0",
          "model_name": "SliderStyleModel",
          "state": {
            "_model_module": "@jupyter-widgets/controls",
            "_model_module_version": "1.5.0",
            "_model_name": "SliderStyleModel",
            "_view_count": null,
            "_view_module": "@jupyter-widgets/base",
            "_view_module_version": "1.2.0",
            "_view_name": "StyleView",
            "description_width": "",
            "handle_color": null
          }
        },
        "3d24f5f2947a4b42b994adfabd2c2223": {
          "model_module": "@jupyter-widgets/base",
          "model_module_version": "1.2.0",
          "model_name": "LayoutModel",
          "state": {
            "_model_module": "@jupyter-widgets/base",
            "_model_module_version": "1.2.0",
            "_model_name": "LayoutModel",
            "_view_count": null,
            "_view_module": "@jupyter-widgets/base",
            "_view_module_version": "1.2.0",
            "_view_name": "LayoutView",
            "align_content": null,
            "align_items": null,
            "align_self": null,
            "border": null,
            "bottom": null,
            "display": null,
            "flex": null,
            "flex_flow": null,
            "grid_area": null,
            "grid_auto_columns": null,
            "grid_auto_flow": null,
            "grid_auto_rows": null,
            "grid_column": null,
            "grid_gap": null,
            "grid_row": null,
            "grid_template_areas": null,
            "grid_template_columns": null,
            "grid_template_rows": null,
            "height": null,
            "justify_content": null,
            "justify_items": null,
            "left": null,
            "margin": null,
            "max_height": null,
            "max_width": null,
            "min_height": null,
            "min_width": null,
            "object_fit": null,
            "object_position": null,
            "order": null,
            "overflow": null,
            "overflow_x": null,
            "overflow_y": null,
            "padding": null,
            "right": null,
            "top": null,
            "visibility": null,
            "width": null
          }
        },
        "46eec92781a144f69b0d2deb7a1e5280": {
          "model_module": "@jupyter-widgets/controls",
          "model_module_version": "1.5.0",
          "model_name": "VBoxModel",
          "state": {
            "_dom_classes": [
              "widget-interact"
            ],
            "_model_module": "@jupyter-widgets/controls",
            "_model_module_version": "1.5.0",
            "_model_name": "VBoxModel",
            "_view_count": null,
            "_view_module": "@jupyter-widgets/controls",
            "_view_module_version": "1.5.0",
            "_view_name": "VBoxView",
            "box_style": "",
            "children": [
              "IPY_MODEL_bf5f1c9799194f3ca0166b026988e7b2",
              "IPY_MODEL_a343ce52c8d849a8aa48e8254f3c4cae"
            ],
            "layout": "IPY_MODEL_3d24f5f2947a4b42b994adfabd2c2223"
          }
        },
        "4e39aac4ea754360b51501483cc95422": {
          "model_module": "@jupyter-widgets/base",
          "model_module_version": "1.2.0",
          "model_name": "LayoutModel",
          "state": {
            "_model_module": "@jupyter-widgets/base",
            "_model_module_version": "1.2.0",
            "_model_name": "LayoutModel",
            "_view_count": null,
            "_view_module": "@jupyter-widgets/base",
            "_view_module_version": "1.2.0",
            "_view_name": "LayoutView",
            "align_content": null,
            "align_items": null,
            "align_self": null,
            "border": null,
            "bottom": null,
            "display": null,
            "flex": null,
            "flex_flow": null,
            "grid_area": null,
            "grid_auto_columns": null,
            "grid_auto_flow": null,
            "grid_auto_rows": null,
            "grid_column": null,
            "grid_gap": null,
            "grid_row": null,
            "grid_template_areas": null,
            "grid_template_columns": null,
            "grid_template_rows": null,
            "height": null,
            "justify_content": null,
            "justify_items": null,
            "left": null,
            "margin": null,
            "max_height": null,
            "max_width": null,
            "min_height": null,
            "min_width": null,
            "object_fit": null,
            "object_position": null,
            "order": null,
            "overflow": null,
            "overflow_x": null,
            "overflow_y": null,
            "padding": null,
            "right": null,
            "top": null,
            "visibility": null,
            "width": null
          }
        },
        "a343ce52c8d849a8aa48e8254f3c4cae": {
          "model_module": "@jupyter-widgets/output",
          "model_module_version": "1.0.0",
          "model_name": "OutputModel",
          "state": {
            "_dom_classes": [],
            "_model_module": "@jupyter-widgets/output",
            "_model_module_version": "1.0.0",
            "_model_name": "OutputModel",
            "_view_count": null,
            "_view_module": "@jupyter-widgets/output",
            "_view_module_version": "1.0.0",
            "_view_name": "OutputView",
            "layout": "IPY_MODEL_d1f72e8f574d4f29a5f1a2d3d151f7f3",
            "msg_id": "",
            "outputs": [
              {
                "data": {
                  "image/png": "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\n",
                  "text/plain": "<Figure size 1500x700 with 3 Axes>"
                },
                "metadata": {},
                "output_type": "display_data"
              }
            ]
          }
        },
        "bf5f1c9799194f3ca0166b026988e7b2": {
          "model_module": "@jupyter-widgets/controls",
          "model_module_version": "1.5.0",
          "model_name": "IntSliderModel",
          "state": {
            "_dom_classes": [],
            "_model_module": "@jupyter-widgets/controls",
            "_model_module_version": "1.5.0",
            "_model_name": "IntSliderModel",
            "_view_count": null,
            "_view_module": "@jupyter-widgets/controls",
            "_view_module_version": "1.5.0",
            "_view_name": "IntSliderView",
            "continuous_update": true,
            "description": "slice_index",
            "description_tooltip": null,
            "disabled": false,
            "layout": "IPY_MODEL_4e39aac4ea754360b51501483cc95422",
            "max": 239,
            "min": 0,
            "orientation": "horizontal",
            "readout": true,
            "readout_format": "d",
            "step": 1,
            "style": "IPY_MODEL_37f1b7fef754442bbfa582b09dd72509",
            "value": 68
          }
        },
        "d1f72e8f574d4f29a5f1a2d3d151f7f3": {
          "model_module": "@jupyter-widgets/base",
          "model_module_version": "1.2.0",
          "model_name": "LayoutModel",
          "state": {
            "_model_module": "@jupyter-widgets/base",
            "_model_module_version": "1.2.0",
            "_model_name": "LayoutModel",
            "_view_count": null,
            "_view_module": "@jupyter-widgets/base",
            "_view_module_version": "1.2.0",
            "_view_name": "LayoutView",
            "align_content": null,
            "align_items": null,
            "align_self": null,
            "border": null,
            "bottom": null,
            "display": null,
            "flex": null,
            "flex_flow": null,
            "grid_area": null,
            "grid_auto_columns": null,
            "grid_auto_flow": null,
            "grid_auto_rows": null,
            "grid_column": null,
            "grid_gap": null,
            "grid_row": null,
            "grid_template_areas": null,
            "grid_template_columns": null,
            "grid_template_rows": null,
            "height": null,
            "justify_content": null,
            "justify_items": null,
            "left": null,
            "margin": null,
            "max_height": null,
            "max_width": null,
            "min_height": null,
            "min_width": null,
            "object_fit": null,
            "object_position": null,
            "order": null,
            "overflow": null,
            "overflow_x": null,
            "overflow_y": null,
            "padding": null,
            "right": null,
            "top": null,
            "visibility": null,
            "width": null
          }
        }
      }
    }
  },
  "nbformat": 4,
  "nbformat_minor": 0
}
