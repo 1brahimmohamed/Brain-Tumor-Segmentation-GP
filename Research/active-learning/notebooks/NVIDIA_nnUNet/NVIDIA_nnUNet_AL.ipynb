{
 "cells": [
  {
   "cell_type": "markdown",
   "metadata": {},
   "source": [
    "# preparing brats PED dataset for NVIDIA model\n",
    ". changing folders and files names to match BraTS2021 dataset"
   ]
  },
  {
   "cell_type": "code",
   "execution_count": 23,
   "metadata": {},
   "outputs": [
    {
     "name": "stdout",
     "output_type": "stream",
     "text": [
      "tar: /home/workstation04/GP_MMMAI/All_Data: Cannot open: No such file or directory\n",
      "tar: Error is not recoverable: exiting now\n"
     ]
    }
   ],
   "source": [
    "# extracting the contents of the \"BraTS2021_Training_Data.tar\"\n",
    "!tar -xvf  \"/media/workstation04/New Volume/MMMAI/BraTSData/BraTS2021_Training_Data.tar\" -C \"/home/workstation04/GP_MMMAI/All_Data\""
   ]
  },
  {
   "cell_type": "code",
   "execution_count": 24,
   "metadata": {},
   "outputs": [
    {
     "name": "stdout",
     "output_type": "stream",
     "text": [
      "Archive:  /media/workstation04/New Volume/MMMAI/BraTSData/ASNR-MICCAI-BraTS2023-PED-Challenge-TrainingData.zip\n",
      "   creating: /home/workstation04/GP_MMMAI/PED/ASNR-MICCAI-BraTS2023-PED-Challenge-TrainingData/\n",
      "   creating: /home/workstation04/GP_MMMAI/PED/ASNR-MICCAI-BraTS2023-PED-Challenge-TrainingData/BraTS-PED-00020-000/\n",
      "  inflating: /home/workstation04/GP_MMMAI/PED/ASNR-MICCAI-BraTS2023-PED-Challenge-TrainingData/BraTS-PED-00020-000/BraTS-PED-00020-000-t2f.nii.gz  \n",
      "  inflating: /home/workstation04/GP_MMMAI/PED/ASNR-MICCAI-BraTS2023-PED-Challenge-TrainingData/BraTS-PED-00020-000/BraTS-PED-00020-000-t1c.nii.gz  \n",
      "  inflating: /home/workstation04/GP_MMMAI/PED/ASNR-MICCAI-BraTS2023-PED-Challenge-TrainingData/BraTS-PED-00020-000/BraTS-PED-00020-000-t2w.nii.gz  \n",
      "  inflating: /home/workstation04/GP_MMMAI/PED/ASNR-MICCAI-BraTS2023-PED-Challenge-TrainingData/BraTS-PED-00020-000/BraTS-PED-00020-000-t1n.nii.gz  \n",
      "  inflating: /home/workstation04/GP_MMMAI/PED/ASNR-MICCAI-BraTS2023-PED-Challenge-TrainingData/BraTS-PED-00020-000/BraTS-PED-00020-000-seg.nii.gz  \n",
      "   creating: /home/workstation04/GP_MMMAI/PED/ASNR-MICCAI-BraTS2023-PED-Challenge-TrainingData/BraTS-PED-00111-000/\n",
      "  inflating: /home/workstation04/GP_MMMAI/PED/ASNR-MICCAI-BraTS2023-PED-Challenge-TrainingData/BraTS-PED-00111-000/BraTS-PED-00111-000-seg.nii.gz  \n",
      "  inflating: /home/workstation04/GP_MMMAI/PED/ASNR-MICCAI-BraTS2023-PED-Challenge-TrainingData/BraTS-PED-00111-000/BraTS-PED-00111-000-t2w.nii.gz  \n",
      "  inflating: /home/workstation04/GP_MMMAI/PED/ASNR-MICCAI-BraTS2023-PED-Challenge-TrainingData/BraTS-PED-00111-000/BraTS-PED-00111-000-t2f.nii.gz  \n",
      "  inflating: /home/workstation04/GP_MMMAI/PED/ASNR-MICCAI-BraTS2023-PED-Challenge-TrainingData/BraTS-PED-00111-000/BraTS-PED-00111-000-t1n.nii.gz  \n",
      "  inflating: /home/workstation04/GP_MMMAI/PED/ASNR-MICCAI-BraTS2023-PED-Challenge-TrainingData/BraTS-PED-00111-000/BraTS-PED-00111-000-t1c.nii.gz  \n",
      "   creating: /home/workstation04/GP_MMMAI/PED/ASNR-MICCAI-BraTS2023-PED-Challenge-TrainingData/BraTS-PED-00100-000/\n",
      "  inflating: /home/workstation04/GP_MMMAI/PED/ASNR-MICCAI-BraTS2023-PED-Challenge-TrainingData/BraTS-PED-00100-000/BraTS-PED-00100-000-seg.nii.gz  \n",
      "  inflating: /home/workstation04/GP_MMMAI/PED/ASNR-MICCAI-BraTS2023-PED-Challenge-TrainingData/BraTS-PED-00100-000/BraTS-PED-00100-000-t1c.nii.gz  \n",
      "  inflating: /home/workstation04/GP_MMMAI/PED/ASNR-MICCAI-BraTS2023-PED-Challenge-TrainingData/BraTS-PED-00100-000/BraTS-PED-00100-000-t2f.nii.gz  \n",
      "  inflating: /home/workstation04/GP_MMMAI/PED/ASNR-MICCAI-BraTS2023-PED-Challenge-TrainingData/BraTS-PED-00100-000/BraTS-PED-00100-000-t2w.nii.gz  \n",
      "  inflating: /home/workstation04/GP_MMMAI/PED/ASNR-MICCAI-BraTS2023-PED-Challenge-TrainingData/BraTS-PED-00100-000/BraTS-PED-00100-000-t1n.nii.gz  \n",
      "   creating: /home/workstation04/GP_MMMAI/PED/ASNR-MICCAI-BraTS2023-PED-Challenge-TrainingData/BraTS-PED-00135-000/\n",
      "  inflating: /home/workstation04/GP_MMMAI/PED/ASNR-MICCAI-BraTS2023-PED-Challenge-TrainingData/BraTS-PED-00135-000/BraTS-PED-00135-000-t1n.nii.gz  \n",
      "  inflating: /home/workstation04/GP_MMMAI/PED/ASNR-MICCAI-BraTS2023-PED-Challenge-TrainingData/BraTS-PED-00135-000/BraTS-PED-00135-000-t1c.nii.gz  \n",
      "  inflating: /home/workstation04/GP_MMMAI/PED/ASNR-MICCAI-BraTS2023-PED-Challenge-TrainingData/BraTS-PED-00135-000/BraTS-PED-00135-000-seg.nii.gz  \n",
      "  inflating: /home/workstation04/GP_MMMAI/PED/ASNR-MICCAI-BraTS2023-PED-Challenge-TrainingData/BraTS-PED-00135-000/BraTS-PED-00135-000-t2w.nii.gz  \n",
      "  inflating: /home/workstation04/GP_MMMAI/PED/ASNR-MICCAI-BraTS2023-PED-Challenge-TrainingData/BraTS-PED-00135-000/BraTS-PED-00135-000-t2f.nii.gz  \n",
      "   creating: /home/workstation04/GP_MMMAI/PED/ASNR-MICCAI-BraTS2023-PED-Challenge-TrainingData/BraTS-PED-00003-000/\n",
      "  inflating: /home/workstation04/GP_MMMAI/PED/ASNR-MICCAI-BraTS2023-PED-Challenge-TrainingData/BraTS-PED-00003-000/BraTS-PED-00003-000-t1n.nii.gz  \n",
      "  inflating: /home/workstation04/GP_MMMAI/PED/ASNR-MICCAI-BraTS2023-PED-Challenge-TrainingData/BraTS-PED-00003-000/BraTS-PED-00003-000-t2w.nii.gz  \n",
      "  inflating: /home/workstation04/GP_MMMAI/PED/ASNR-MICCAI-BraTS2023-PED-Challenge-TrainingData/BraTS-PED-00003-000/BraTS-PED-00003-000-t1c.nii.gz  \n",
      "  inflating: /home/workstation04/GP_MMMAI/PED/ASNR-MICCAI-BraTS2023-PED-Challenge-TrainingData/BraTS-PED-00003-000/BraTS-PED-00003-000-t2f.nii.gz  \n",
      "  inflating: /home/workstation04/GP_MMMAI/PED/ASNR-MICCAI-BraTS2023-PED-Challenge-TrainingData/BraTS-PED-00003-000/BraTS-PED-00003-000-seg.nii.gz  \n",
      "   creating: /home/workstation04/GP_MMMAI/PED/ASNR-MICCAI-BraTS2023-PED-Challenge-TrainingData/BraTS-PED-00143-000/\n",
      "  inflating: /home/workstation04/GP_MMMAI/PED/ASNR-MICCAI-BraTS2023-PED-Challenge-TrainingData/BraTS-PED-00143-000/BraTS-PED-00143-000-t1c.nii.gz  \n",
      "  inflating: /home/workstation04/GP_MMMAI/PED/ASNR-MICCAI-BraTS2023-PED-Challenge-TrainingData/BraTS-PED-00143-000/BraTS-PED-00143-000-seg.nii.gz  \n",
      "  inflating: /home/workstation04/GP_MMMAI/PED/ASNR-MICCAI-BraTS2023-PED-Challenge-TrainingData/BraTS-PED-00143-000/BraTS-PED-00143-000-t2w.nii.gz  \n",
      "  inflating: /home/workstation04/GP_MMMAI/PED/ASNR-MICCAI-BraTS2023-PED-Challenge-TrainingData/BraTS-PED-00143-000/BraTS-PED-00143-000-t2f.nii.gz  \n",
      "  inflating: /home/workstation04/GP_MMMAI/PED/ASNR-MICCAI-BraTS2023-PED-Challenge-TrainingData/BraTS-PED-00143-000/BraTS-PED-00143-000-t1n.nii.gz  \n",
      "   creating: /home/workstation04/GP_MMMAI/PED/ASNR-MICCAI-BraTS2023-PED-Challenge-TrainingData/BraTS-PED-00133-000/\n",
      "  inflating: /home/workstation04/GP_MMMAI/PED/ASNR-MICCAI-BraTS2023-PED-Challenge-TrainingData/BraTS-PED-00133-000/BraTS-PED-00133-000-seg.nii.gz  \n",
      "  inflating: /home/workstation04/GP_MMMAI/PED/ASNR-MICCAI-BraTS2023-PED-Challenge-TrainingData/BraTS-PED-00133-000/BraTS-PED-00133-000-t1c.nii.gz  \n",
      "  inflating: /home/workstation04/GP_MMMAI/PED/ASNR-MICCAI-BraTS2023-PED-Challenge-TrainingData/BraTS-PED-00133-000/BraTS-PED-00133-000-t1n.nii.gz  \n",
      "  inflating: /home/workstation04/GP_MMMAI/PED/ASNR-MICCAI-BraTS2023-PED-Challenge-TrainingData/BraTS-PED-00133-000/BraTS-PED-00133-000-t2w.nii.gz  \n",
      "  inflating: /home/workstation04/GP_MMMAI/PED/ASNR-MICCAI-BraTS2023-PED-Challenge-TrainingData/BraTS-PED-00133-000/BraTS-PED-00133-000-t2f.nii.gz  \n",
      "   creating: /home/workstation04/GP_MMMAI/PED/ASNR-MICCAI-BraTS2023-PED-Challenge-TrainingData/BraTS-PED-00127-000/\n",
      "  inflating: /home/workstation04/GP_MMMAI/PED/ASNR-MICCAI-BraTS2023-PED-Challenge-TrainingData/BraTS-PED-00127-000/BraTS-PED-00127-000-seg.nii.gz  \n",
      "  inflating: /home/workstation04/GP_MMMAI/PED/ASNR-MICCAI-BraTS2023-PED-Challenge-TrainingData/BraTS-PED-00127-000/BraTS-PED-00127-000-t1c.nii.gz  \n",
      "  inflating: /home/workstation04/GP_MMMAI/PED/ASNR-MICCAI-BraTS2023-PED-Challenge-TrainingData/BraTS-PED-00127-000/BraTS-PED-00127-000-t2w.nii.gz  \n",
      "  inflating: /home/workstation04/GP_MMMAI/PED/ASNR-MICCAI-BraTS2023-PED-Challenge-TrainingData/BraTS-PED-00127-000/BraTS-PED-00127-000-t2f.nii.gz  \n",
      "  inflating: /home/workstation04/GP_MMMAI/PED/ASNR-MICCAI-BraTS2023-PED-Challenge-TrainingData/BraTS-PED-00127-000/BraTS-PED-00127-000-t1n.nii.gz  \n",
      "   creating: /home/workstation04/GP_MMMAI/PED/ASNR-MICCAI-BraTS2023-PED-Challenge-TrainingData/BraTS-PED-00021-000/\n",
      "  inflating: /home/workstation04/GP_MMMAI/PED/ASNR-MICCAI-BraTS2023-PED-Challenge-TrainingData/BraTS-PED-00021-000/BraTS-PED-00021-000-seg.nii.gz  \n",
      "  inflating: /home/workstation04/GP_MMMAI/PED/ASNR-MICCAI-BraTS2023-PED-Challenge-TrainingData/BraTS-PED-00021-000/BraTS-PED-00021-000-t1n.nii.gz  \n",
      "  inflating: /home/workstation04/GP_MMMAI/PED/ASNR-MICCAI-BraTS2023-PED-Challenge-TrainingData/BraTS-PED-00021-000/BraTS-PED-00021-000-t1c.nii.gz  \n",
      "  inflating: /home/workstation04/GP_MMMAI/PED/ASNR-MICCAI-BraTS2023-PED-Challenge-TrainingData/BraTS-PED-00021-000/BraTS-PED-00021-000-t2w.nii.gz  \n",
      "  inflating: /home/workstation04/GP_MMMAI/PED/ASNR-MICCAI-BraTS2023-PED-Challenge-TrainingData/BraTS-PED-00021-000/BraTS-PED-00021-000-t2f.nii.gz  \n",
      "   creating: /home/workstation04/GP_MMMAI/PED/ASNR-MICCAI-BraTS2023-PED-Challenge-TrainingData/BraTS-PED-00098-000/\n",
      "  inflating: /home/workstation04/GP_MMMAI/PED/ASNR-MICCAI-BraTS2023-PED-Challenge-TrainingData/BraTS-PED-00098-000/BraTS-PED-00098-000-t2w.nii.gz  \n",
      "  inflating: /home/workstation04/GP_MMMAI/PED/ASNR-MICCAI-BraTS2023-PED-Challenge-TrainingData/BraTS-PED-00098-000/BraTS-PED-00098-000-seg.nii.gz  \n",
      "  inflating: /home/workstation04/GP_MMMAI/PED/ASNR-MICCAI-BraTS2023-PED-Challenge-TrainingData/BraTS-PED-00098-000/BraTS-PED-00098-000-t2f.nii.gz  \n",
      "  inflating: /home/workstation04/GP_MMMAI/PED/ASNR-MICCAI-BraTS2023-PED-Challenge-TrainingData/BraTS-PED-00098-000/BraTS-PED-00098-000-t1n.nii.gz  \n",
      "  inflating: /home/workstation04/GP_MMMAI/PED/ASNR-MICCAI-BraTS2023-PED-Challenge-TrainingData/BraTS-PED-00098-000/BraTS-PED-00098-000-t1c.nii.gz  \n",
      "   creating: /home/workstation04/GP_MMMAI/PED/ASNR-MICCAI-BraTS2023-PED-Challenge-TrainingData/BraTS-PED-00050-000/\n",
      "  inflating: /home/workstation04/GP_MMMAI/PED/ASNR-MICCAI-BraTS2023-PED-Challenge-TrainingData/BraTS-PED-00050-000/BraTS-PED-00050-000-t1c.nii.gz  \n",
      "  inflating: /home/workstation04/GP_MMMAI/PED/ASNR-MICCAI-BraTS2023-PED-Challenge-TrainingData/BraTS-PED-00050-000/BraTS-PED-00050-000-seg.nii.gz  \n",
      "  inflating: /home/workstation04/GP_MMMAI/PED/ASNR-MICCAI-BraTS2023-PED-Challenge-TrainingData/BraTS-PED-00050-000/BraTS-PED-00050-000-t2w.nii.gz  \n",
      "  inflating: /home/workstation04/GP_MMMAI/PED/ASNR-MICCAI-BraTS2023-PED-Challenge-TrainingData/BraTS-PED-00050-000/BraTS-PED-00050-000-t2f.nii.gz  \n",
      "  inflating: /home/workstation04/GP_MMMAI/PED/ASNR-MICCAI-BraTS2023-PED-Challenge-TrainingData/BraTS-PED-00050-000/BraTS-PED-00050-000-t1n.nii.gz  \n",
      "   creating: /home/workstation04/GP_MMMAI/PED/ASNR-MICCAI-BraTS2023-PED-Challenge-TrainingData/BraTS-PED-00086-000/\n",
      "  inflating: /home/workstation04/GP_MMMAI/PED/ASNR-MICCAI-BraTS2023-PED-Challenge-TrainingData/BraTS-PED-00086-000/BraTS-PED-00086-000-t2w.nii.gz  \n",
      "  inflating: /home/workstation04/GP_MMMAI/PED/ASNR-MICCAI-BraTS2023-PED-Challenge-TrainingData/BraTS-PED-00086-000/BraTS-PED-00086-000-t2f.nii.gz  \n",
      "  inflating: /home/workstation04/GP_MMMAI/PED/ASNR-MICCAI-BraTS2023-PED-Challenge-TrainingData/BraTS-PED-00086-000/BraTS-PED-00086-000-seg.nii.gz  \n",
      "  inflating: /home/workstation04/GP_MMMAI/PED/ASNR-MICCAI-BraTS2023-PED-Challenge-TrainingData/BraTS-PED-00086-000/BraTS-PED-00086-000-t1n.nii.gz  \n",
      "  inflating: /home/workstation04/GP_MMMAI/PED/ASNR-MICCAI-BraTS2023-PED-Challenge-TrainingData/BraTS-PED-00086-000/BraTS-PED-00086-000-t1c.nii.gz  \n",
      "   creating: /home/workstation04/GP_MMMAI/PED/ASNR-MICCAI-BraTS2023-PED-Challenge-TrainingData/BraTS-PED-00067-000/\n",
      "  inflating: /home/workstation04/GP_MMMAI/PED/ASNR-MICCAI-BraTS2023-PED-Challenge-TrainingData/BraTS-PED-00067-000/BraTS-PED-00067-000-t2w.nii.gz  \n",
      "  inflating: /home/workstation04/GP_MMMAI/PED/ASNR-MICCAI-BraTS2023-PED-Challenge-TrainingData/BraTS-PED-00067-000/BraTS-PED-00067-000-seg.nii.gz  \n",
      "  inflating: /home/workstation04/GP_MMMAI/PED/ASNR-MICCAI-BraTS2023-PED-Challenge-TrainingData/BraTS-PED-00067-000/BraTS-PED-00067-000-t1n.nii.gz  \n",
      "  inflating: /home/workstation04/GP_MMMAI/PED/ASNR-MICCAI-BraTS2023-PED-Challenge-TrainingData/BraTS-PED-00067-000/BraTS-PED-00067-000-t1c.nii.gz  \n",
      "  inflating: /home/workstation04/GP_MMMAI/PED/ASNR-MICCAI-BraTS2023-PED-Challenge-TrainingData/BraTS-PED-00067-000/BraTS-PED-00067-000-t2f.nii.gz  \n",
      "   creating: /home/workstation04/GP_MMMAI/PED/ASNR-MICCAI-BraTS2023-PED-Challenge-TrainingData/BraTS-PED-00082-000/\n",
      "  inflating: /home/workstation04/GP_MMMAI/PED/ASNR-MICCAI-BraTS2023-PED-Challenge-TrainingData/BraTS-PED-00082-000/BraTS-PED-00082-000-t1n.nii.gz  \n",
      "  inflating: /home/workstation04/GP_MMMAI/PED/ASNR-MICCAI-BraTS2023-PED-Challenge-TrainingData/BraTS-PED-00082-000/BraTS-PED-00082-000-t2w.nii.gz  \n",
      "  inflating: /home/workstation04/GP_MMMAI/PED/ASNR-MICCAI-BraTS2023-PED-Challenge-TrainingData/BraTS-PED-00082-000/BraTS-PED-00082-000-seg.nii.gz  \n",
      "  inflating: /home/workstation04/GP_MMMAI/PED/ASNR-MICCAI-BraTS2023-PED-Challenge-TrainingData/BraTS-PED-00082-000/BraTS-PED-00082-000-t2f.nii.gz  \n",
      "  inflating: /home/workstation04/GP_MMMAI/PED/ASNR-MICCAI-BraTS2023-PED-Challenge-TrainingData/BraTS-PED-00082-000/BraTS-PED-00082-000-t1c.nii.gz  \n",
      "   creating: /home/workstation04/GP_MMMAI/PED/ASNR-MICCAI-BraTS2023-PED-Challenge-TrainingData/BraTS-PED-00123-000/\n",
      "  inflating: /home/workstation04/GP_MMMAI/PED/ASNR-MICCAI-BraTS2023-PED-Challenge-TrainingData/BraTS-PED-00123-000/BraTS-PED-00123-000-t2w.nii.gz  \n",
      "  inflating: /home/workstation04/GP_MMMAI/PED/ASNR-MICCAI-BraTS2023-PED-Challenge-TrainingData/BraTS-PED-00123-000/BraTS-PED-00123-000-t2f.nii.gz  \n",
      "  inflating: /home/workstation04/GP_MMMAI/PED/ASNR-MICCAI-BraTS2023-PED-Challenge-TrainingData/BraTS-PED-00123-000/BraTS-PED-00123-000-t1n.nii.gz  \n",
      "  inflating: /home/workstation04/GP_MMMAI/PED/ASNR-MICCAI-BraTS2023-PED-Challenge-TrainingData/BraTS-PED-00123-000/BraTS-PED-00123-000-t1c.nii.gz  \n",
      "  inflating: /home/workstation04/GP_MMMAI/PED/ASNR-MICCAI-BraTS2023-PED-Challenge-TrainingData/BraTS-PED-00123-000/BraTS-PED-00123-000-seg.nii.gz  \n",
      "   creating: /home/workstation04/GP_MMMAI/PED/ASNR-MICCAI-BraTS2023-PED-Challenge-TrainingData/BraTS-PED-00069-000/\n",
      "  inflating: /home/workstation04/GP_MMMAI/PED/ASNR-MICCAI-BraTS2023-PED-Challenge-TrainingData/BraTS-PED-00069-000/BraTS-PED-00069-000-t1n.nii.gz  \n",
      "  inflating: /home/workstation04/GP_MMMAI/PED/ASNR-MICCAI-BraTS2023-PED-Challenge-TrainingData/BraTS-PED-00069-000/BraTS-PED-00069-000-t2w.nii.gz  \n",
      "  inflating: /home/workstation04/GP_MMMAI/PED/ASNR-MICCAI-BraTS2023-PED-Challenge-TrainingData/BraTS-PED-00069-000/BraTS-PED-00069-000-seg.nii.gz  \n",
      "  inflating: /home/workstation04/GP_MMMAI/PED/ASNR-MICCAI-BraTS2023-PED-Challenge-TrainingData/BraTS-PED-00069-000/BraTS-PED-00069-000-t2f.nii.gz  \n",
      "  inflating: /home/workstation04/GP_MMMAI/PED/ASNR-MICCAI-BraTS2023-PED-Challenge-TrainingData/BraTS-PED-00069-000/BraTS-PED-00069-000-t1c.nii.gz  \n",
      "   creating: /home/workstation04/GP_MMMAI/PED/ASNR-MICCAI-BraTS2023-PED-Challenge-TrainingData/BraTS-PED-00037-000/\n",
      "  inflating: /home/workstation04/GP_MMMAI/PED/ASNR-MICCAI-BraTS2023-PED-Challenge-TrainingData/BraTS-PED-00037-000/BraTS-PED-00037-000-seg.nii.gz  \n",
      "  inflating: /home/workstation04/GP_MMMAI/PED/ASNR-MICCAI-BraTS2023-PED-Challenge-TrainingData/BraTS-PED-00037-000/BraTS-PED-00037-000-t2f.nii.gz  \n",
      "  inflating: /home/workstation04/GP_MMMAI/PED/ASNR-MICCAI-BraTS2023-PED-Challenge-TrainingData/BraTS-PED-00037-000/BraTS-PED-00037-000-t1n.nii.gz  \n",
      "  inflating: /home/workstation04/GP_MMMAI/PED/ASNR-MICCAI-BraTS2023-PED-Challenge-TrainingData/BraTS-PED-00037-000/BraTS-PED-00037-000-t1c.nii.gz  \n",
      "  inflating: /home/workstation04/GP_MMMAI/PED/ASNR-MICCAI-BraTS2023-PED-Challenge-TrainingData/BraTS-PED-00037-000/BraTS-PED-00037-000-t2w.nii.gz  \n",
      "   creating: /home/workstation04/GP_MMMAI/PED/ASNR-MICCAI-BraTS2023-PED-Challenge-TrainingData/BraTS-PED-00126-000/\n",
      "  inflating: /home/workstation04/GP_MMMAI/PED/ASNR-MICCAI-BraTS2023-PED-Challenge-TrainingData/BraTS-PED-00126-000/BraTS-PED-00126-000-seg.nii.gz  \n",
      "  inflating: /home/workstation04/GP_MMMAI/PED/ASNR-MICCAI-BraTS2023-PED-Challenge-TrainingData/BraTS-PED-00126-000/BraTS-PED-00126-000-t2f.nii.gz  \n",
      "  inflating: /home/workstation04/GP_MMMAI/PED/ASNR-MICCAI-BraTS2023-PED-Challenge-TrainingData/BraTS-PED-00126-000/BraTS-PED-00126-000-t1c.nii.gz  \n",
      "  inflating: /home/workstation04/GP_MMMAI/PED/ASNR-MICCAI-BraTS2023-PED-Challenge-TrainingData/BraTS-PED-00126-000/BraTS-PED-00126-000-t2w.nii.gz  \n",
      "  inflating: /home/workstation04/GP_MMMAI/PED/ASNR-MICCAI-BraTS2023-PED-Challenge-TrainingData/BraTS-PED-00126-000/BraTS-PED-00126-000-t1n.nii.gz  \n",
      "   creating: /home/workstation04/GP_MMMAI/PED/ASNR-MICCAI-BraTS2023-PED-Challenge-TrainingData/BraTS-PED-00006-000/\n",
      "  inflating: /home/workstation04/GP_MMMAI/PED/ASNR-MICCAI-BraTS2023-PED-Challenge-TrainingData/BraTS-PED-00006-000/BraTS-PED-00006-000-t2f.nii.gz  \n",
      "  inflating: /home/workstation04/GP_MMMAI/PED/ASNR-MICCAI-BraTS2023-PED-Challenge-TrainingData/BraTS-PED-00006-000/BraTS-PED-00006-000-t2w.nii.gz  \n",
      "  inflating: /home/workstation04/GP_MMMAI/PED/ASNR-MICCAI-BraTS2023-PED-Challenge-TrainingData/BraTS-PED-00006-000/BraTS-PED-00006-000-t1c.nii.gz  \n",
      "  inflating: /home/workstation04/GP_MMMAI/PED/ASNR-MICCAI-BraTS2023-PED-Challenge-TrainingData/BraTS-PED-00006-000/BraTS-PED-00006-000-seg.nii.gz  \n",
      "  inflating: /home/workstation04/GP_MMMAI/PED/ASNR-MICCAI-BraTS2023-PED-Challenge-TrainingData/BraTS-PED-00006-000/BraTS-PED-00006-000-t1n.nii.gz  \n",
      "   creating: /home/workstation04/GP_MMMAI/PED/ASNR-MICCAI-BraTS2023-PED-Challenge-TrainingData/BraTS-PED-00108-000/\n",
      "  inflating: /home/workstation04/GP_MMMAI/PED/ASNR-MICCAI-BraTS2023-PED-Challenge-TrainingData/BraTS-PED-00108-000/BraTS-PED-00108-000-t1c.nii.gz  \n",
      "  inflating: /home/workstation04/GP_MMMAI/PED/ASNR-MICCAI-BraTS2023-PED-Challenge-TrainingData/BraTS-PED-00108-000/BraTS-PED-00108-000-t1n.nii.gz  \n",
      "  inflating: /home/workstation04/GP_MMMAI/PED/ASNR-MICCAI-BraTS2023-PED-Challenge-TrainingData/BraTS-PED-00108-000/BraTS-PED-00108-000-seg.nii.gz  \n",
      "  inflating: /home/workstation04/GP_MMMAI/PED/ASNR-MICCAI-BraTS2023-PED-Challenge-TrainingData/BraTS-PED-00108-000/BraTS-PED-00108-000-t2f.nii.gz  \n",
      "  inflating: /home/workstation04/GP_MMMAI/PED/ASNR-MICCAI-BraTS2023-PED-Challenge-TrainingData/BraTS-PED-00108-000/BraTS-PED-00108-000-t2w.nii.gz  \n",
      "   creating: /home/workstation04/GP_MMMAI/PED/ASNR-MICCAI-BraTS2023-PED-Challenge-TrainingData/BraTS-PED-00142-000/\n",
      "  inflating: /home/workstation04/GP_MMMAI/PED/ASNR-MICCAI-BraTS2023-PED-Challenge-TrainingData/BraTS-PED-00142-000/BraTS-PED-00142-000-t1n.nii.gz  \n",
      "  inflating: /home/workstation04/GP_MMMAI/PED/ASNR-MICCAI-BraTS2023-PED-Challenge-TrainingData/BraTS-PED-00142-000/BraTS-PED-00142-000-t2f.nii.gz  \n",
      "  inflating: /home/workstation04/GP_MMMAI/PED/ASNR-MICCAI-BraTS2023-PED-Challenge-TrainingData/BraTS-PED-00142-000/BraTS-PED-00142-000-seg.nii.gz  \n",
      "  inflating: /home/workstation04/GP_MMMAI/PED/ASNR-MICCAI-BraTS2023-PED-Challenge-TrainingData/BraTS-PED-00142-000/BraTS-PED-00142-000-t2w.nii.gz  \n",
      "  inflating: /home/workstation04/GP_MMMAI/PED/ASNR-MICCAI-BraTS2023-PED-Challenge-TrainingData/BraTS-PED-00142-000/BraTS-PED-00142-000-t1c.nii.gz  \n",
      "   creating: /home/workstation04/GP_MMMAI/PED/ASNR-MICCAI-BraTS2023-PED-Challenge-TrainingData/BraTS-PED-00140-000/\n",
      "  inflating: /home/workstation04/GP_MMMAI/PED/ASNR-MICCAI-BraTS2023-PED-Challenge-TrainingData/BraTS-PED-00140-000/BraTS-PED-00140-000-seg.nii.gz  \n",
      "  inflating: /home/workstation04/GP_MMMAI/PED/ASNR-MICCAI-BraTS2023-PED-Challenge-TrainingData/BraTS-PED-00140-000/BraTS-PED-00140-000-t1n.nii.gz  \n",
      "  inflating: /home/workstation04/GP_MMMAI/PED/ASNR-MICCAI-BraTS2023-PED-Challenge-TrainingData/BraTS-PED-00140-000/BraTS-PED-00140-000-t2f.nii.gz  \n",
      "  inflating: /home/workstation04/GP_MMMAI/PED/ASNR-MICCAI-BraTS2023-PED-Challenge-TrainingData/BraTS-PED-00140-000/BraTS-PED-00140-000-t2w.nii.gz  \n",
      "  inflating: /home/workstation04/GP_MMMAI/PED/ASNR-MICCAI-BraTS2023-PED-Challenge-TrainingData/BraTS-PED-00140-000/BraTS-PED-00140-000-t1c.nii.gz  \n",
      "   creating: /home/workstation04/GP_MMMAI/PED/ASNR-MICCAI-BraTS2023-PED-Challenge-TrainingData/BraTS-PED-00084-000/\n",
      "  inflating: /home/workstation04/GP_MMMAI/PED/ASNR-MICCAI-BraTS2023-PED-Challenge-TrainingData/BraTS-PED-00084-000/BraTS-PED-00084-000-t2w.nii.gz  \n",
      "  inflating: /home/workstation04/GP_MMMAI/PED/ASNR-MICCAI-BraTS2023-PED-Challenge-TrainingData/BraTS-PED-00084-000/BraTS-PED-00084-000-seg.nii.gz  \n",
      "  inflating: /home/workstation04/GP_MMMAI/PED/ASNR-MICCAI-BraTS2023-PED-Challenge-TrainingData/BraTS-PED-00084-000/BraTS-PED-00084-000-t1c.nii.gz  \n",
      "  inflating: /home/workstation04/GP_MMMAI/PED/ASNR-MICCAI-BraTS2023-PED-Challenge-TrainingData/BraTS-PED-00084-000/BraTS-PED-00084-000-t2f.nii.gz  \n",
      "  inflating: /home/workstation04/GP_MMMAI/PED/ASNR-MICCAI-BraTS2023-PED-Challenge-TrainingData/BraTS-PED-00084-000/BraTS-PED-00084-000-t1n.nii.gz  \n",
      "   creating: /home/workstation04/GP_MMMAI/PED/ASNR-MICCAI-BraTS2023-PED-Challenge-TrainingData/BraTS-PED-00023-000/\n",
      "  inflating: /home/workstation04/GP_MMMAI/PED/ASNR-MICCAI-BraTS2023-PED-Challenge-TrainingData/BraTS-PED-00023-000/BraTS-PED-00023-000-t2f.nii.gz  \n",
      "  inflating: /home/workstation04/GP_MMMAI/PED/ASNR-MICCAI-BraTS2023-PED-Challenge-TrainingData/BraTS-PED-00023-000/BraTS-PED-00023-000-t2w.nii.gz  \n",
      "  inflating: /home/workstation04/GP_MMMAI/PED/ASNR-MICCAI-BraTS2023-PED-Challenge-TrainingData/BraTS-PED-00023-000/BraTS-PED-00023-000-t1n.nii.gz  \n",
      "  inflating: /home/workstation04/GP_MMMAI/PED/ASNR-MICCAI-BraTS2023-PED-Challenge-TrainingData/BraTS-PED-00023-000/BraTS-PED-00023-000-t1c.nii.gz  \n",
      "  inflating: /home/workstation04/GP_MMMAI/PED/ASNR-MICCAI-BraTS2023-PED-Challenge-TrainingData/BraTS-PED-00023-000/BraTS-PED-00023-000-seg.nii.gz  \n",
      "   creating: /home/workstation04/GP_MMMAI/PED/ASNR-MICCAI-BraTS2023-PED-Challenge-TrainingData/BraTS-PED-00136-000/\n",
      "  inflating: /home/workstation04/GP_MMMAI/PED/ASNR-MICCAI-BraTS2023-PED-Challenge-TrainingData/BraTS-PED-00136-000/BraTS-PED-00136-000-t2w.nii.gz  \n",
      "  inflating: /home/workstation04/GP_MMMAI/PED/ASNR-MICCAI-BraTS2023-PED-Challenge-TrainingData/BraTS-PED-00136-000/BraTS-PED-00136-000-t1c.nii.gz  \n",
      "  inflating: /home/workstation04/GP_MMMAI/PED/ASNR-MICCAI-BraTS2023-PED-Challenge-TrainingData/BraTS-PED-00136-000/BraTS-PED-00136-000-t1n.nii.gz  \n",
      "  inflating: /home/workstation04/GP_MMMAI/PED/ASNR-MICCAI-BraTS2023-PED-Challenge-TrainingData/BraTS-PED-00136-000/BraTS-PED-00136-000-seg.nii.gz  \n",
      "  inflating: /home/workstation04/GP_MMMAI/PED/ASNR-MICCAI-BraTS2023-PED-Challenge-TrainingData/BraTS-PED-00136-000/BraTS-PED-00136-000-t2f.nii.gz  \n",
      "   creating: /home/workstation04/GP_MMMAI/PED/ASNR-MICCAI-BraTS2023-PED-Challenge-TrainingData/BraTS-PED-00134-000/\n",
      "  inflating: /home/workstation04/GP_MMMAI/PED/ASNR-MICCAI-BraTS2023-PED-Challenge-TrainingData/BraTS-PED-00134-000/BraTS-PED-00134-000-t2w.nii.gz  \n",
      "  inflating: /home/workstation04/GP_MMMAI/PED/ASNR-MICCAI-BraTS2023-PED-Challenge-TrainingData/BraTS-PED-00134-000/BraTS-PED-00134-000-t1n.nii.gz  \n",
      "  inflating: /home/workstation04/GP_MMMAI/PED/ASNR-MICCAI-BraTS2023-PED-Challenge-TrainingData/BraTS-PED-00134-000/BraTS-PED-00134-000-t2f.nii.gz  \n",
      "  inflating: /home/workstation04/GP_MMMAI/PED/ASNR-MICCAI-BraTS2023-PED-Challenge-TrainingData/BraTS-PED-00134-000/BraTS-PED-00134-000-seg.nii.gz  \n",
      "  inflating: /home/workstation04/GP_MMMAI/PED/ASNR-MICCAI-BraTS2023-PED-Challenge-TrainingData/BraTS-PED-00134-000/BraTS-PED-00134-000-t1c.nii.gz  \n",
      "   creating: /home/workstation04/GP_MMMAI/PED/ASNR-MICCAI-BraTS2023-PED-Challenge-TrainingData/BraTS-PED-00087-000/\n",
      "  inflating: /home/workstation04/GP_MMMAI/PED/ASNR-MICCAI-BraTS2023-PED-Challenge-TrainingData/BraTS-PED-00087-000/BraTS-PED-00087-000-t2f.nii.gz  \n",
      "  inflating: /home/workstation04/GP_MMMAI/PED/ASNR-MICCAI-BraTS2023-PED-Challenge-TrainingData/BraTS-PED-00087-000/BraTS-PED-00087-000-seg.nii.gz  \n",
      "  inflating: /home/workstation04/GP_MMMAI/PED/ASNR-MICCAI-BraTS2023-PED-Challenge-TrainingData/BraTS-PED-00087-000/BraTS-PED-00087-000-t1n.nii.gz  \n",
      "  inflating: /home/workstation04/GP_MMMAI/PED/ASNR-MICCAI-BraTS2023-PED-Challenge-TrainingData/BraTS-PED-00087-000/BraTS-PED-00087-000-t2w.nii.gz  \n",
      "  inflating: /home/workstation04/GP_MMMAI/PED/ASNR-MICCAI-BraTS2023-PED-Challenge-TrainingData/BraTS-PED-00087-000/BraTS-PED-00087-000-t1c.nii.gz  \n",
      "   creating: /home/workstation04/GP_MMMAI/PED/ASNR-MICCAI-BraTS2023-PED-Challenge-TrainingData/BraTS-PED-00124-000/\n",
      "  inflating: /home/workstation04/GP_MMMAI/PED/ASNR-MICCAI-BraTS2023-PED-Challenge-TrainingData/BraTS-PED-00124-000/BraTS-PED-00124-000-seg.nii.gz  \n",
      "  inflating: /home/workstation04/GP_MMMAI/PED/ASNR-MICCAI-BraTS2023-PED-Challenge-TrainingData/BraTS-PED-00124-000/BraTS-PED-00124-000-t2w.nii.gz  \n",
      "  inflating: /home/workstation04/GP_MMMAI/PED/ASNR-MICCAI-BraTS2023-PED-Challenge-TrainingData/BraTS-PED-00124-000/BraTS-PED-00124-000-t1c.nii.gz  \n",
      "  inflating: /home/workstation04/GP_MMMAI/PED/ASNR-MICCAI-BraTS2023-PED-Challenge-TrainingData/BraTS-PED-00124-000/BraTS-PED-00124-000-t2f.nii.gz  \n",
      "  inflating: /home/workstation04/GP_MMMAI/PED/ASNR-MICCAI-BraTS2023-PED-Challenge-TrainingData/BraTS-PED-00124-000/BraTS-PED-00124-000-t1n.nii.gz  \n",
      "   creating: /home/workstation04/GP_MMMAI/PED/ASNR-MICCAI-BraTS2023-PED-Challenge-TrainingData/BraTS-PED-00131-000/\n",
      "  inflating: /home/workstation04/GP_MMMAI/PED/ASNR-MICCAI-BraTS2023-PED-Challenge-TrainingData/BraTS-PED-00131-000/BraTS-PED-00131-000-t1n.nii.gz  \n",
      "  inflating: /home/workstation04/GP_MMMAI/PED/ASNR-MICCAI-BraTS2023-PED-Challenge-TrainingData/BraTS-PED-00131-000/BraTS-PED-00131-000-t2w.nii.gz  \n",
      "  inflating: /home/workstation04/GP_MMMAI/PED/ASNR-MICCAI-BraTS2023-PED-Challenge-TrainingData/BraTS-PED-00131-000/BraTS-PED-00131-000-t1c.nii.gz  \n",
      "  inflating: /home/workstation04/GP_MMMAI/PED/ASNR-MICCAI-BraTS2023-PED-Challenge-TrainingData/BraTS-PED-00131-000/BraTS-PED-00131-000-seg.nii.gz  \n",
      "  inflating: /home/workstation04/GP_MMMAI/PED/ASNR-MICCAI-BraTS2023-PED-Challenge-TrainingData/BraTS-PED-00131-000/BraTS-PED-00131-000-t2f.nii.gz  \n",
      "   creating: /home/workstation04/GP_MMMAI/PED/ASNR-MICCAI-BraTS2023-PED-Challenge-TrainingData/BraTS-PED-00008-000/\n",
      "  inflating: /home/workstation04/GP_MMMAI/PED/ASNR-MICCAI-BraTS2023-PED-Challenge-TrainingData/BraTS-PED-00008-000/BraTS-PED-00008-000-t2f.nii.gz  \n",
      "  inflating: /home/workstation04/GP_MMMAI/PED/ASNR-MICCAI-BraTS2023-PED-Challenge-TrainingData/BraTS-PED-00008-000/BraTS-PED-00008-000-t1n.nii.gz  \n",
      "  inflating: /home/workstation04/GP_MMMAI/PED/ASNR-MICCAI-BraTS2023-PED-Challenge-TrainingData/BraTS-PED-00008-000/BraTS-PED-00008-000-t1c.nii.gz  \n",
      "  inflating: /home/workstation04/GP_MMMAI/PED/ASNR-MICCAI-BraTS2023-PED-Challenge-TrainingData/BraTS-PED-00008-000/BraTS-PED-00008-000-t2w.nii.gz  \n",
      "  inflating: /home/workstation04/GP_MMMAI/PED/ASNR-MICCAI-BraTS2023-PED-Challenge-TrainingData/BraTS-PED-00008-000/BraTS-PED-00008-000-seg.nii.gz  \n",
      "   creating: /home/workstation04/GP_MMMAI/PED/ASNR-MICCAI-BraTS2023-PED-Challenge-TrainingData/BraTS-PED-00109-000/\n",
      "  inflating: /home/workstation04/GP_MMMAI/PED/ASNR-MICCAI-BraTS2023-PED-Challenge-TrainingData/BraTS-PED-00109-000/BraTS-PED-00109-000-t2w.nii.gz  \n",
      "  inflating: /home/workstation04/GP_MMMAI/PED/ASNR-MICCAI-BraTS2023-PED-Challenge-TrainingData/BraTS-PED-00109-000/BraTS-PED-00109-000-seg.nii.gz  \n",
      "  inflating: /home/workstation04/GP_MMMAI/PED/ASNR-MICCAI-BraTS2023-PED-Challenge-TrainingData/BraTS-PED-00109-000/BraTS-PED-00109-000-t2f.nii.gz  \n",
      "  inflating: /home/workstation04/GP_MMMAI/PED/ASNR-MICCAI-BraTS2023-PED-Challenge-TrainingData/BraTS-PED-00109-000/BraTS-PED-00109-000-t1n.nii.gz  \n",
      "  inflating: /home/workstation04/GP_MMMAI/PED/ASNR-MICCAI-BraTS2023-PED-Challenge-TrainingData/BraTS-PED-00109-000/BraTS-PED-00109-000-t1c.nii.gz  \n",
      "   creating: /home/workstation04/GP_MMMAI/PED/ASNR-MICCAI-BraTS2023-PED-Challenge-TrainingData/BraTS-PED-00002-000/\n",
      "  inflating: /home/workstation04/GP_MMMAI/PED/ASNR-MICCAI-BraTS2023-PED-Challenge-TrainingData/BraTS-PED-00002-000/BraTS-PED-00002-000-t1n.nii.gz  \n",
      "  inflating: /home/workstation04/GP_MMMAI/PED/ASNR-MICCAI-BraTS2023-PED-Challenge-TrainingData/BraTS-PED-00002-000/BraTS-PED-00002-000-t1c.nii.gz  \n",
      "  inflating: /home/workstation04/GP_MMMAI/PED/ASNR-MICCAI-BraTS2023-PED-Challenge-TrainingData/BraTS-PED-00002-000/BraTS-PED-00002-000-t2w.nii.gz  \n",
      "  inflating: /home/workstation04/GP_MMMAI/PED/ASNR-MICCAI-BraTS2023-PED-Challenge-TrainingData/BraTS-PED-00002-000/BraTS-PED-00002-000-seg.nii.gz  \n",
      "  inflating: /home/workstation04/GP_MMMAI/PED/ASNR-MICCAI-BraTS2023-PED-Challenge-TrainingData/BraTS-PED-00002-000/BraTS-PED-00002-000-t2f.nii.gz  \n",
      "   creating: /home/workstation04/GP_MMMAI/PED/ASNR-MICCAI-BraTS2023-PED-Challenge-TrainingData/BraTS-PED-00081-000/\n",
      "  inflating: /home/workstation04/GP_MMMAI/PED/ASNR-MICCAI-BraTS2023-PED-Challenge-TrainingData/BraTS-PED-00081-000/BraTS-PED-00081-000-t1c.nii.gz  \n",
      "  inflating: /home/workstation04/GP_MMMAI/PED/ASNR-MICCAI-BraTS2023-PED-Challenge-TrainingData/BraTS-PED-00081-000/BraTS-PED-00081-000-t1n.nii.gz  \n",
      "  inflating: /home/workstation04/GP_MMMAI/PED/ASNR-MICCAI-BraTS2023-PED-Challenge-TrainingData/BraTS-PED-00081-000/BraTS-PED-00081-000-seg.nii.gz  \n",
      "  inflating: /home/workstation04/GP_MMMAI/PED/ASNR-MICCAI-BraTS2023-PED-Challenge-TrainingData/BraTS-PED-00081-000/BraTS-PED-00081-000-t2f.nii.gz  \n",
      "  inflating: /home/workstation04/GP_MMMAI/PED/ASNR-MICCAI-BraTS2023-PED-Challenge-TrainingData/BraTS-PED-00081-000/BraTS-PED-00081-000-t2w.nii.gz  \n",
      "   creating: /home/workstation04/GP_MMMAI/PED/ASNR-MICCAI-BraTS2023-PED-Challenge-TrainingData/BraTS-PED-00010-000/\n",
      "  inflating: /home/workstation04/GP_MMMAI/PED/ASNR-MICCAI-BraTS2023-PED-Challenge-TrainingData/BraTS-PED-00010-000/BraTS-PED-00010-000-seg.nii.gz  \n",
      "  inflating: /home/workstation04/GP_MMMAI/PED/ASNR-MICCAI-BraTS2023-PED-Challenge-TrainingData/BraTS-PED-00010-000/BraTS-PED-00010-000-t2f.nii.gz  \n",
      "  inflating: /home/workstation04/GP_MMMAI/PED/ASNR-MICCAI-BraTS2023-PED-Challenge-TrainingData/BraTS-PED-00010-000/BraTS-PED-00010-000-t2w.nii.gz  \n",
      "  inflating: /home/workstation04/GP_MMMAI/PED/ASNR-MICCAI-BraTS2023-PED-Challenge-TrainingData/BraTS-PED-00010-000/BraTS-PED-00010-000-t1n.nii.gz  \n",
      "  inflating: /home/workstation04/GP_MMMAI/PED/ASNR-MICCAI-BraTS2023-PED-Challenge-TrainingData/BraTS-PED-00010-000/BraTS-PED-00010-000-t1c.nii.gz  \n",
      "   creating: /home/workstation04/GP_MMMAI/PED/ASNR-MICCAI-BraTS2023-PED-Challenge-TrainingData/BraTS-PED-00102-000/\n",
      "  inflating: /home/workstation04/GP_MMMAI/PED/ASNR-MICCAI-BraTS2023-PED-Challenge-TrainingData/BraTS-PED-00102-000/BraTS-PED-00102-000-t2f.nii.gz  \n",
      "  inflating: /home/workstation04/GP_MMMAI/PED/ASNR-MICCAI-BraTS2023-PED-Challenge-TrainingData/BraTS-PED-00102-000/BraTS-PED-00102-000-t2w.nii.gz  \n",
      "  inflating: /home/workstation04/GP_MMMAI/PED/ASNR-MICCAI-BraTS2023-PED-Challenge-TrainingData/BraTS-PED-00102-000/BraTS-PED-00102-000-t1c.nii.gz  \n",
      "  inflating: /home/workstation04/GP_MMMAI/PED/ASNR-MICCAI-BraTS2023-PED-Challenge-TrainingData/BraTS-PED-00102-000/BraTS-PED-00102-000-seg.nii.gz  \n",
      "  inflating: /home/workstation04/GP_MMMAI/PED/ASNR-MICCAI-BraTS2023-PED-Challenge-TrainingData/BraTS-PED-00102-000/BraTS-PED-00102-000-t1n.nii.gz  \n",
      "   creating: /home/workstation04/GP_MMMAI/PED/ASNR-MICCAI-BraTS2023-PED-Challenge-TrainingData/BraTS-PED-00115-000/\n",
      "  inflating: /home/workstation04/GP_MMMAI/PED/ASNR-MICCAI-BraTS2023-PED-Challenge-TrainingData/BraTS-PED-00115-000/BraTS-PED-00115-000-seg.nii.gz  \n",
      "  inflating: /home/workstation04/GP_MMMAI/PED/ASNR-MICCAI-BraTS2023-PED-Challenge-TrainingData/BraTS-PED-00115-000/BraTS-PED-00115-000-t1n.nii.gz  \n",
      "  inflating: /home/workstation04/GP_MMMAI/PED/ASNR-MICCAI-BraTS2023-PED-Challenge-TrainingData/BraTS-PED-00115-000/BraTS-PED-00115-000-t2f.nii.gz  \n",
      "  inflating: /home/workstation04/GP_MMMAI/PED/ASNR-MICCAI-BraTS2023-PED-Challenge-TrainingData/BraTS-PED-00115-000/BraTS-PED-00115-000-t2w.nii.gz  \n",
      "  inflating: /home/workstation04/GP_MMMAI/PED/ASNR-MICCAI-BraTS2023-PED-Challenge-TrainingData/BraTS-PED-00115-000/BraTS-PED-00115-000-t1c.nii.gz  \n",
      "   creating: /home/workstation04/GP_MMMAI/PED/ASNR-MICCAI-BraTS2023-PED-Challenge-TrainingData/BraTS-PED-00167-000/\n",
      "  inflating: /home/workstation04/GP_MMMAI/PED/ASNR-MICCAI-BraTS2023-PED-Challenge-TrainingData/BraTS-PED-00167-000/BraTS-PED-00167-000-t2f.nii.gz  \n",
      "  inflating: /home/workstation04/GP_MMMAI/PED/ASNR-MICCAI-BraTS2023-PED-Challenge-TrainingData/BraTS-PED-00167-000/BraTS-PED-00167-000-t2w.nii.gz  \n",
      "  inflating: /home/workstation04/GP_MMMAI/PED/ASNR-MICCAI-BraTS2023-PED-Challenge-TrainingData/BraTS-PED-00167-000/BraTS-PED-00167-000-seg.nii.gz  \n",
      "  inflating: /home/workstation04/GP_MMMAI/PED/ASNR-MICCAI-BraTS2023-PED-Challenge-TrainingData/BraTS-PED-00167-000/BraTS-PED-00167-000-t1n.nii.gz  \n",
      "  inflating: /home/workstation04/GP_MMMAI/PED/ASNR-MICCAI-BraTS2023-PED-Challenge-TrainingData/BraTS-PED-00167-000/BraTS-PED-00167-000-t1c.nii.gz  \n",
      "   creating: /home/workstation04/GP_MMMAI/PED/ASNR-MICCAI-BraTS2023-PED-Challenge-TrainingData/BraTS-PED-00078-000/\n",
      "  inflating: /home/workstation04/GP_MMMAI/PED/ASNR-MICCAI-BraTS2023-PED-Challenge-TrainingData/BraTS-PED-00078-000/BraTS-PED-00078-000-t1n.nii.gz  \n",
      "  inflating: /home/workstation04/GP_MMMAI/PED/ASNR-MICCAI-BraTS2023-PED-Challenge-TrainingData/BraTS-PED-00078-000/BraTS-PED-00078-000-t2f.nii.gz  \n",
      "  inflating: /home/workstation04/GP_MMMAI/PED/ASNR-MICCAI-BraTS2023-PED-Challenge-TrainingData/BraTS-PED-00078-000/BraTS-PED-00078-000-seg.nii.gz  \n",
      "  inflating: /home/workstation04/GP_MMMAI/PED/ASNR-MICCAI-BraTS2023-PED-Challenge-TrainingData/BraTS-PED-00078-000/BraTS-PED-00078-000-t2w.nii.gz  \n",
      "  inflating: /home/workstation04/GP_MMMAI/PED/ASNR-MICCAI-BraTS2023-PED-Challenge-TrainingData/BraTS-PED-00078-000/BraTS-PED-00078-000-t1c.nii.gz  \n",
      "   creating: /home/workstation04/GP_MMMAI/PED/ASNR-MICCAI-BraTS2023-PED-Challenge-TrainingData/BraTS-PED-00063-000/\n",
      "  inflating: /home/workstation04/GP_MMMAI/PED/ASNR-MICCAI-BraTS2023-PED-Challenge-TrainingData/BraTS-PED-00063-000/BraTS-PED-00063-000-t1c.nii.gz  \n",
      "  inflating: /home/workstation04/GP_MMMAI/PED/ASNR-MICCAI-BraTS2023-PED-Challenge-TrainingData/BraTS-PED-00063-000/BraTS-PED-00063-000-t2f.nii.gz  \n",
      "  inflating: /home/workstation04/GP_MMMAI/PED/ASNR-MICCAI-BraTS2023-PED-Challenge-TrainingData/BraTS-PED-00063-000/BraTS-PED-00063-000-t2w.nii.gz  \n",
      "  inflating: /home/workstation04/GP_MMMAI/PED/ASNR-MICCAI-BraTS2023-PED-Challenge-TrainingData/BraTS-PED-00063-000/BraTS-PED-00063-000-seg.nii.gz  \n",
      "  inflating: /home/workstation04/GP_MMMAI/PED/ASNR-MICCAI-BraTS2023-PED-Challenge-TrainingData/BraTS-PED-00063-000/BraTS-PED-00063-000-t1n.nii.gz  \n",
      "  inflating: /home/workstation04/GP_MMMAI/PED/ASNR-MICCAI-BraTS2023-PED-Challenge-TrainingData/BraTS-PED-00032-000/BraTS-PED-00032-000-t2f.nii.gz  ^C\n"
     ]
    }
   ],
   "source": [
    "# unzipping brats PED data(only once)\n",
    "!unzip \"/media/workstation04/New Volume/MMMAI/BraTSData/ASNR-MICCAI-BraTS2023-PED-Challenge-TrainingData.zip\" -d \"/home/workstation04/GP_MMMAI/PED\""
   ]
  },
  {
   "cell_type": "markdown",
   "metadata": {},
   "source": [
    "#### visualisation and comparing to brats2021 dataset"
   ]
  },
  {
   "cell_type": "code",
   "execution_count": 1,
   "metadata": {},
   "outputs": [],
   "source": [
    "import nibabel as nib\n",
    "import matplotlib.pyplot as plt\n",
    "from matplotlib.colors import ListedColormap\n",
    "from matplotlib.patches import Patch\n",
    "import numpy as np\n",
    "\n",
    "def read_nifti(file_path):\n",
    "    img = nib.load(file_path)\n",
    "    data = img.get_fdata()\n",
    "    return data\n",
    "\n",
    "def generate_legend(color_map, labels):\n",
    "    legend_elements = [Patch(color=color_map[label], label=f\"Label {label}\") for label in labels]\n",
    "    return legend_elements\n",
    "\n",
    "def visualize_segmentation(image, segmentation, color_map, slice_no,flag):\n",
    "    unique_labels = np.unique(segmentation)\n",
    "    \n",
    "    # Display original image\n",
    "    plt.subplot(1, 2, 1)\n",
    "    if flag:\n",
    "        plt.imshow(image[:,:,slice_no,0], cmap='gray')\n",
    "    else:     \n",
    "        plt.imshow(image[:,:,slice_no], cmap='gray')\n",
    "\n",
    "    plt.title(\"Original Image\")\n",
    "\n",
    "    # Display segmentation\n",
    "    plt.subplot(1, 2, 2)\n",
    "    overlay = np.zeros_like(segmentation)\n",
    "\n",
    "    for label in unique_labels:\n",
    "        mask = (segmentation == label)\n",
    "        overlay[mask] = label\n",
    "\n",
    "    cmap = ListedColormap([color_map[label] for label in unique_labels])\n",
    "    plt.imshow(overlay[:,:,slice_no], cmap=cmap, vmin=0, vmax=len(color_map)-1)\n",
    "    plt.title(\"Segmentation Overlay\")\n",
    "\n",
    "    # Display legend\n",
    "    legend_elements = generate_legend(color_map, unique_labels)\n",
    "    plt.legend(handles=legend_elements, loc='lower right')\n",
    "\n",
    "    plt.show()"
   ]
  },
  {
   "cell_type": "code",
   "execution_count": null,
   "metadata": {},
   "outputs": [
    {
     "name": "stdout",
     "output_type": "stream",
     "text": [
      "Segmentation Dimensions: (240, 240, 155)\n",
      "Segmentation labels: [0. 1. 2. 3.]\n"
     ]
    },
    {
     "data": {
      "image/png": "[encoded data removed]",
      "text/plain": [
       "<Figure size 640x480 with 2 Axes>"
      ]
     },
     "metadata": {},
     "output_type": "display_data"
    }
   ],
   "source": [
    "# BraTS PED\n",
    "image_path = \"/home/workstation04/GP_MMMAI/data/ASNR-MICCAI-BraTS2023-PED-Challenge-TrainingData/BraTS-PED-00064-000/BraTS-PED-00064-000-t2f.nii.gz\"\n",
    "segmentation_path = \"/home/workstation04/GP_MMMAI/data/ASNR-MICCAI-BraTS2023-PED-Challenge-TrainingData/BraTS-PED-00064-000/BraTS-PED-00064-000-seg.nii.gz\"\n",
    "# Read NIfTI files\n",
    "image_data = read_nifti(image_path)\n",
    "segmentation_data = read_nifti(segmentation_path)\n",
    "\n",
    "# Display dimensions of the segmentation file\n",
    "print(f\"Segmentation Dimensions: {segmentation_data.shape}\")\n",
    "\n",
    "# Define the colormap based on specified labels and colors\n",
    "labels = np.unique(segmentation_data)\n",
    "print(f\"Segmentation labels: {labels}\")\n",
    "\n",
    "colors = ['black', 'red', 'green', 'blue']\n",
    "color_map = dict(zip(labels, colors))\n",
    "\n",
    "# Visualize segmentation overlay\n",
    "visualize_segmentation(image_data, segmentation_data, color_map, 40, 0)"
   ]
  },
  {
   "cell_type": "markdown",
   "metadata": {},
   "source": [
    "### 2 things should be changed\n",
    "1. sequences naming \n",
    "2. segmentation labels\n",
    "```\n",
    "    . labels in BraTS2021 :{\"0\": \"background\", \"1\": \"non-enhancing tumor\", \"2\": \"edema\", \"4\": \"enhancing tumour\"}\n",
    "    . labels in BraTS PED :{\"0\": \"background\", \"1\": \"non-enhancing tumor\", \"2\": \"edema\", \"3\": \"enhancing tumour\"}\n",
    "    . 3 --> 4\n",
    "```\n",
    "\n"
   ]
  },
  {
   "cell_type": "code",
   "execution_count": null,
   "metadata": {},
   "outputs": [],
   "source": [
    "def modify_seg_file(seg_file_path):\n",
    "    img = nib.load(seg_file_path)\n",
    "    data = img.get_fdata()\n",
    "    # Modify segmentation values\n",
    "    data[data == 3] = 4\n",
    "\n",
    "    # Save the modified segmentation file\n",
    "    nib.save(nib.Nifti1Image(data, img.affine), seg_file_path)"
   ]
  },
  {
   "cell_type": "code",
   "execution_count": null,
   "metadata": {},
   "outputs": [],
   "source": [
    "# change sequence naming of africa dataset to match BraTS2021\n",
    "\n",
    "\n",
    "\n",
    "import os\n",
    "\n",
    "folder_path = '/home/workstation04/GP_MMMAI/data/ASNR-MICCAI-BraTS2023-PED-Challenge-TrainingData'  # Replace with the actual path to your folder\n",
    "\n",
    "for subdir, dirs, files in os.walk(folder_path):\n",
    "    for file_name in files:\n",
    "        if file_name.startswith('BraTS-PED-') and file_name.endswith('.nii.gz'):\n",
    "            old_file_path = os.path.join(subdir, file_name)\n",
    "            parts = file_name.split('-')\n",
    "            file_prefix = parts[2]\n",
    "            file_suffix = parts[4].split('.')[0]\n",
    "\n",
    "            if 'seg' not in file_suffix:\n",
    "                if 't1c' in file_suffix:\n",
    "                    file_suffix = file_suffix.replace('t1c', 't1ce')\n",
    "                if 't1n' in file_suffix:\n",
    "                    file_suffix = file_suffix.replace('t1n', 't1')\n",
    "                if 't2f' in file_suffix:\n",
    "                    file_suffix = file_suffix.replace('t2f', 'flair')\n",
    "                if 't2w' in file_suffix:\n",
    "                    file_suffix = file_suffix.replace('t2w', 't2')\n",
    "            else:\n",
    "                modify_seg_file(os.path.join(folder_path,subdir ,file_name))        \n",
    "\n",
    "            new_file_name = 'BraTS-PED_{}_{}.nii.gz'.format(file_prefix, file_suffix)\n",
    "            new_file_path = os.path.join(subdir, new_file_name)\n",
    "            os.rename(old_file_path, new_file_path)\n"
   ]
  },
  {
   "cell_type": "code",
   "execution_count": null,
   "metadata": {},
   "outputs": [
    {
     "name": "stdout",
     "output_type": "stream",
     "text": [
      "Folder renaming and CSV file creation completed.\n"
     ]
    }
   ],
   "source": [
    "# changing folders named to match BraTS2021\n",
    "import os\n",
    "import csv\n",
    "\n",
    "folder_path = '/home/workstation04/GP_MMMAI/data/ASNR-MICCAI-BraTS2023-PED-Challenge-TrainingData'  # Replace with the actual path to your folder\n",
    "folders = [f for f in os.listdir(folder_path) if os.path.isdir(os.path.join(folder_path, f))]\n",
    "file_prefix = 1667\n",
    "\n",
    "# Create and open the CSV file for writing\n",
    "csv_file_path = '/media/workstation04/New Volume/MMMAI/NVIDIA_PED/BraTS_PED_rename.csv'\n",
    "with open(csv_file_path, 'w', newline='') as csvfile:\n",
    "    fieldnames = ['Old Name', 'New Name']\n",
    "    writer = csv.DictWriter(csvfile, fieldnames=fieldnames)\n",
    "    writer.writeheader()\n",
    "    \n",
    "    # Iterate through each folder\n",
    "    for old_name in folders:\n",
    "        new_file_name = 'BraTS2021_0{}'.format(file_prefix)\n",
    "        old_file_path = os.path.join(folder_path, old_name)\n",
    "        new_file_path = os.path.join(folder_path, new_file_name)\n",
    "        \n",
    "        # Rename the folder\n",
    "        os.rename(old_file_path, new_file_path)\n",
    "        \n",
    "        # Write the old and new names to the CSV file\n",
    "        writer.writerow({'Old Name': old_name, 'New Name': new_file_name})\n",
    "        \n",
    "        file_prefix += 1\n",
    "\n",
    "print(\"Folder renaming and CSV file creation completed.\")\n"
   ]
  },
  {
   "cell_type": "code",
   "execution_count": null,
   "metadata": {},
   "outputs": [
    {
     "name": "stdout",
     "output_type": "stream",
     "text": [
      "Renamed folder from BraTS-PED-00002-000 to BraTS2021_01667\n",
      "Renamed folder from BraTS-PED-00003-000 to BraTS2021_01668\n",
      "Renamed folder from BraTS-PED-00004-000 to BraTS2021_01669\n",
      "Renamed folder from BraTS-PED-00006-000 to BraTS2021_01670\n",
      "Renamed folder from BraTS-PED-00008-000 to BraTS2021_01671\n",
      "Renamed folder from BraTS-PED-00009-000 to BraTS2021_01672\n",
      "Renamed folder from BraTS-PED-00010-000 to BraTS2021_01673\n",
      "Renamed folder from BraTS-PED-00019-000 to BraTS2021_01674\n",
      "Renamed folder from BraTS-PED-00020-000 to BraTS2021_01675\n",
      "Renamed folder from BraTS-PED-00021-000 to BraTS2021_01676\n",
      "Renamed folder from BraTS-PED-00023-000 to BraTS2021_01677\n",
      "Renamed folder from BraTS-PED-00024-000 to BraTS2021_01678\n",
      "Renamed folder from BraTS-PED-00025-000 to BraTS2021_01679\n",
      "Renamed folder from BraTS-PED-00026-000 to BraTS2021_01680\n",
      "Renamed folder from BraTS-PED-00032-000 to BraTS2021_01681\n",
      "Renamed folder from BraTS-PED-00036-000 to BraTS2021_01682\n",
      "Renamed folder from BraTS-PED-00037-000 to BraTS2021_01683\n",
      "Renamed folder from BraTS-PED-00039-000 to BraTS2021_01684\n",
      "Renamed folder from BraTS-PED-00040-000 to BraTS2021_01685\n",
      "Renamed folder from BraTS-PED-00041-000 to BraTS2021_01686\n",
      "Renamed folder from BraTS-PED-00042-000 to BraTS2021_01687\n",
      "Renamed folder from BraTS-PED-00044-000 to BraTS2021_01688\n",
      "Renamed folder from BraTS-PED-00046-000 to BraTS2021_01689\n",
      "Renamed folder from BraTS-PED-00047-000 to BraTS2021_01690\n",
      "Renamed folder from BraTS-PED-00048-000 to BraTS2021_01691\n",
      "Renamed folder from BraTS-PED-00099-000 to BraTS2021_01692\n",
      "Renamed folder from BraTS-PED-00100-000 to BraTS2021_01693\n",
      "Renamed folder from BraTS-PED-00101-000 to BraTS2021_01694\n",
      "Renamed folder from BraTS-PED-00102-000 to BraTS2021_01695\n",
      "Renamed folder from BraTS-PED-00103-000 to BraTS2021_01696\n",
      "Renamed folder from BraTS-PED-00104-000 to BraTS2021_01697\n",
      "Renamed folder from BraTS-PED-00105-000 to BraTS2021_01698\n",
      "Renamed folder from BraTS-PED-00106-000 to BraTS2021_01699\n",
      "Renamed folder from BraTS-PED-00107-000 to BraTS2021_01700\n",
      "Renamed folder from BraTS-PED-00108-000 to BraTS2021_01701\n",
      "Renamed folder from BraTS-PED-00109-000 to BraTS2021_01702\n",
      "Renamed folder from BraTS-PED-00110-000 to BraTS2021_01703\n",
      "Renamed folder from BraTS-PED-00111-000 to BraTS2021_01704\n",
      "Renamed folder from BraTS-PED-00112-000 to BraTS2021_01705\n",
      "Renamed folder from BraTS-PED-00113-000 to BraTS2021_01706\n",
      "Renamed folder from BraTS-PED-00114-000 to BraTS2021_01707\n",
      "Renamed folder from BraTS-PED-00115-000 to BraTS2021_01708\n",
      "Renamed folder from BraTS-PED-00116-000 to BraTS2021_01709\n",
      "Renamed folder from BraTS-PED-00117-000 to BraTS2021_01710\n",
      "Renamed folder from BraTS-PED-00118-000 to BraTS2021_01711\n",
      "Renamed folder from BraTS-PED-00119-000 to BraTS2021_01712\n",
      "Renamed folder from BraTS-PED-00120-000 to BraTS2021_01713\n",
      "Renamed folder from BraTS-PED-00121-000 to BraTS2021_01714\n",
      "Renamed folder from BraTS-PED-00122-000 to BraTS2021_01715\n",
      "Renamed folder from BraTS-PED-00123-000 to BraTS2021_01716\n",
      "Renamed folder from BraTS-PED-00125-000 to BraTS2021_01717\n",
      "Renamed folder from BraTS-PED-00126-000 to BraTS2021_01718\n",
      "Renamed folder from BraTS-PED-00127-000 to BraTS2021_01719\n",
      "Renamed folder from BraTS-PED-00128-000 to BraTS2021_01720\n",
      "Renamed folder from BraTS-PED-00129-000 to BraTS2021_01721\n",
      "Renamed folder from BraTS-PED-00130-000 to BraTS2021_01722\n",
      "Renamed folder from BraTS-PED-00131-000 to BraTS2021_01723\n",
      "Renamed folder from BraTS-PED-00132-000 to BraTS2021_01724\n",
      "Renamed folder from BraTS-PED-00133-000 to BraTS2021_01725\n",
      "Renamed folder from BraTS-PED-00134-000 to BraTS2021_01726\n",
      "Renamed folder from BraTS-PED-00135-000 to BraTS2021_01727\n",
      "Renamed folder from BraTS-PED-00136-000 to BraTS2021_01728\n",
      "Renamed folder from BraTS-PED-00137-000 to BraTS2021_01729\n",
      "Renamed folder from BraTS-PED-00138-000 to BraTS2021_01730\n",
      "Renamed folder from BraTS-PED-00139-000 to BraTS2021_01731\n",
      "Renamed folder from BraTS-PED-00140-000 to BraTS2021_01732\n",
      "Renamed folder from BraTS-PED-00142-000 to BraTS2021_01733\n",
      "Renamed folder from BraTS-PED-00143-000 to BraTS2021_01734\n",
      "Renamed folder from BraTS-PED-00167-000 to BraTS2021_01735\n",
      "Renamed folder from BraTS-PED-00170-000 to BraTS2021_01736\n",
      "Renamed folder from BraTS-PED-00171-000 to BraTS2021_01737\n",
      "Renamed folder from BraTS-PED-00051-000 to BraTS2021_01738\n",
      "Renamed folder from BraTS-PED-00052-000 to BraTS2021_01739\n",
      "Renamed folder from BraTS-PED-00055-000 to BraTS2021_01740\n",
      "Renamed folder from BraTS-PED-00057-000 to BraTS2021_01741\n",
      "Renamed folder from BraTS-PED-00060-000 to BraTS2021_01742\n",
      "Renamed folder from BraTS-PED-00061-000 to BraTS2021_01743\n",
      "Renamed folder from BraTS-PED-00062-000 to BraTS2021_01744\n",
      "Renamed folder from BraTS-PED-00063-000 to BraTS2021_01745\n",
      "Renamed folder from BraTS-PED-00064-000 to BraTS2021_01746\n",
      "Renamed folder from BraTS-PED-00067-000 to BraTS2021_01747\n",
      "Renamed folder from BraTS-PED-00069-000 to BraTS2021_01748\n",
      "Renamed folder from BraTS-PED-00070-000 to BraTS2021_01749\n",
      "Renamed folder from BraTS-PED-00072-000 to BraTS2021_01750\n",
      "Renamed folder from BraTS-PED-00078-000 to BraTS2021_01751\n",
      "Renamed folder from BraTS-PED-00079-000 to BraTS2021_01752\n",
      "Renamed folder from BraTS-PED-00080-000 to BraTS2021_01753\n",
      "Renamed folder from BraTS-PED-00081-000 to BraTS2021_01754\n",
      "Renamed folder from BraTS-PED-00082-000 to BraTS2021_01755\n",
      "Renamed folder from BraTS-PED-00083-000 to BraTS2021_01756\n",
      "Renamed folder from BraTS-PED-00084-000 to BraTS2021_01757\n",
      "Renamed folder from BraTS-PED-00085-000 to BraTS2021_01758\n",
      "Renamed folder from BraTS-PED-00086-000 to BraTS2021_01759\n",
      "Renamed folder from BraTS-PED-00087-000 to BraTS2021_01760\n",
      "Renamed folder from BraTS-PED-00096-000 to BraTS2021_01761\n",
      "Renamed folder from BraTS-PED-00097-000 to BraTS2021_01762\n",
      "Renamed folder from BraTS-PED-00050-000 to BraTS2021_01763\n",
      "Renamed folder from BraTS-PED-00098-000 to BraTS2021_01764\n",
      "Renamed folder from BraTS-PED-00124-000 to BraTS2021_01765\n",
      "Folder renaming completed.\n"
     ]
    }
   ],
   "source": [
    "# to rename with the same naming map\n",
    "\n",
    "import os\n",
    "import csv\n",
    "\n",
    "folder_path = '/home/workstation04/GP_MMMAI/data/ASNR-MICCAI-BraTS2023-PED-Challenge-TrainingData'  # Replace with the actual path to your folder\n",
    "csv_file_path = '/media/workstation04/New Volume/MMMAI/NVIDIA_PED_Testing/BraTS_PED_rename.csv'\n",
    "\n",
    "# Create a dictionary to store the mapping of old names to new names\n",
    "name_mapping = {}\n",
    "\n",
    "# Read the CSV file and populate the name mapping dictionary\n",
    "with open(csv_file_path, 'r') as csvfile:\n",
    "    reader = csv.DictReader(csvfile)\n",
    "    for row in reader:\n",
    "        name_mapping[row['Old Name']] = row['New Name']\n",
    "\n",
    "# Iterate through each folder and rename according to the mapping\n",
    "for old_name, new_name in name_mapping.items():\n",
    "    old_file_path = os.path.join(folder_path, old_name)\n",
    "    new_file_path = os.path.join(folder_path, new_name)\n",
    "    \n",
    "    # Rename the folder\n",
    "    os.rename(old_file_path, new_file_path)\n",
    "    print(f'Renamed folder from {old_name} to {new_name}')\n",
    "\n",
    "print(\"Folder renaming completed.\")\n"
   ]
  },
  {
   "cell_type": "code",
   "execution_count": null,
   "metadata": {},
   "outputs": [
    {
     "name": "stdout",
     "output_type": "stream",
     "text": [
      "               Old Name         New Name\n",
      "0   BraTS-PED-00002-000  BraTS2021_01667\n",
      "1   BraTS-PED-00003-000  BraTS2021_01668\n",
      "2   BraTS-PED-00004-000  BraTS2021_01669\n",
      "3   BraTS-PED-00006-000  BraTS2021_01670\n",
      "4   BraTS-PED-00008-000  BraTS2021_01671\n",
      "..                  ...              ...\n",
      "94  BraTS-PED-00096-000  BraTS2021_01761\n",
      "95  BraTS-PED-00097-000  BraTS2021_01762\n",
      "96  BraTS-PED-00050-000  BraTS2021_01763\n",
      "97  BraTS-PED-00098-000  BraTS2021_01764\n",
      "98  BraTS-PED-00124-000  BraTS2021_01765\n",
      "\n",
      "[99 rows x 2 columns]\n"
     ]
    }
   ],
   "source": [
    "import pandas as pd\n",
    "\n",
    "# Path to the CSV file\n",
    "csv_file_path = '/media/workstation04/New Volume/MMMAI/NVIDIA_PED/BraTS_PED_rename.csv'\n",
    "\n",
    "# Read the CSV file as a DataFrame\n",
    "df = pd.read_csv(csv_file_path)\n",
    "\n",
    "# Print the DataFrame\n",
    "print(df)\n"
   ]
  },
  {
   "cell_type": "code",
   "execution_count": null,
   "metadata": {},
   "outputs": [],
   "source": [
    "# change naming of PED dataset to match BraTS2021\n",
    "import os\n",
    "\n",
    "folder_path = '/home/workstation04/GP_MMMAI/data/ASNR-MICCAI-BraTS2023-PED-Challenge-TrainingData'  # Replace with the actual path to your folder\n",
    "\n",
    "for subdir, dirs, files in os.walk(folder_path):\n",
    "\n",
    "    for file_name in files:\n",
    "        if file_name.startswith('BraTS-PED_') and file_name.endswith('.nii.gz'):\n",
    "            old_file_path = os.path.join(subdir, file_name)\n",
    "            folder_name = os.path.basename(os.path.dirname(old_file_path))\n",
    "            parts = file_name.split('_')\n",
    "            file_suffix = parts[2]\n",
    "            new_file_name = '{}_{}'.format(folder_name, file_suffix)\n",
    "            new_file_path = os.path.join(subdir, new_file_name)\n",
    "            os.rename(old_file_path, new_file_path)\n"
   ]
  },
  {
   "cell_type": "markdown",
   "metadata": {},
   "source": [
    "### Take random 10 samples to be a test set"
   ]
  },
  {
   "cell_type": "code",
   "execution_count": null,
   "metadata": {},
   "outputs": [
    {
     "name": "stdout",
     "output_type": "stream",
     "text": [
      "Test folders moved to test folder, picked sample names saved in a CSV file, and unpicked sample names saved in another CSV file.\n"
     ]
    }
   ],
   "source": [
    "import os\n",
    "import csv\n",
    "import random\n",
    "import shutil\n",
    "\n",
    "# Path to the folder containing the data\n",
    "folder_path = '/home/workstation04/GP_MMMAI/data/ASNR-MICCAI-BraTS2023-PED-Challenge-TrainingData'\n",
    "\n",
    "# Path to the CSV file containing old and new folder names\n",
    "csv_file_path = '/media/workstation04/New Volume/MMMAI/NVIDIA_PED_Testing/BraTS_PED_rename.csv'\n",
    "\n",
    "# Path to the test folder where the selected folders will be moved\n",
    "test_folder_path = '/home/workstation04/GP_MMMAI/PED_testset'\n",
    "\n",
    "\n",
    "# Read the new names from the CSV file\n",
    "new_names = []\n",
    "with open(csv_file_path, 'r') as csvfile:\n",
    "    reader = csv.DictReader(csvfile)\n",
    "    for row in reader:\n",
    "        new_names.append(row['New Name'])\n",
    "\n",
    "# Randomly select 10 folder names for the test set\n",
    "test_folders = random.sample(new_names, 10)\n",
    "\n",
    "# Move the selected folders to the test folder\n",
    "for folder_name in test_folders:\n",
    "    src_folder_path = os.path.join(folder_path, folder_name)\n",
    "    dest_folder_path = os.path.join(test_folder_path, folder_name)\n",
    "    shutil.move(src_folder_path, dest_folder_path)\n",
    "\n",
    "# Write the selected folder names to a new CSV file\n",
    "picked_samples_csv_path = '/media/workstation04/New Volume/MMMAI/NVIDIA_PED_Trial/testset.csv'\n",
    "with open(picked_samples_csv_path, 'w', newline='') as csvfile:\n",
    "    fieldnames = ['Sample Name']\n",
    "    writer = csv.DictWriter(csvfile, fieldnames=fieldnames)\n",
    "    writer.writeheader()\n",
    "    for folder_name in test_folders:\n",
    "        writer.writerow({'Sample Name': folder_name})\n",
    "\n",
    "# Write the unpicked folder names to a new CSV file\n",
    "unpicked_samples = set(new_names) - set(test_folders)\n",
    "unpicked_samples_csv_path = '/media/workstation04/New Volume/MMMAI/NVIDIA_PED_Trial/unlabelledpool.csv'\n",
    "with open(unpicked_samples_csv_path, 'w', newline='') as csvfile:\n",
    "    fieldnames = ['Sample Name']\n",
    "    writer = csv.DictWriter(csvfile, fieldnames=fieldnames)\n",
    "    writer.writeheader()\n",
    "    for folder_name in unpicked_samples:\n",
    "        writer.writerow({'Sample Name': folder_name})\n",
    "\n",
    "print(\"Test folders moved to test folder, picked sample names saved in a CSV file, and unpicked sample names saved in another CSV file.\")"
   ]
  },
  {
   "cell_type": "code",
   "execution_count": null,
   "metadata": {},
   "outputs": [
    {
     "name": "stdout",
     "output_type": "stream",
     "text": [
      "       Sample Name\n",
      "0  BraTS2021_01710\n",
      "1  BraTS2021_01701\n",
      "2  BraTS2021_01705\n",
      "3  BraTS2021_01762\n",
      "4  BraTS2021_01738\n",
      "5  BraTS2021_01696\n",
      "6  BraTS2021_01674\n",
      "7  BraTS2021_01739\n",
      "8  BraTS2021_01748\n",
      "9  BraTS2021_01730\n"
     ]
    }
   ],
   "source": [
    "import pandas as pd\n",
    "\n",
    "# Path to the CSV file\n",
    "csv_file_path = '/media/workstation04/New Volume/MMMAI/NVIDIA_PED_Trial/testset.csv'\n",
    "# Read the CSV file as a DataFrame\n",
    "df = pd.read_csv(csv_file_path)\n",
    "# Print the DataFrame\n",
    "print(df)\n"
   ]
  },
  {
   "cell_type": "code",
   "execution_count": null,
   "metadata": {},
   "outputs": [],
   "source": [
    "import shutil\n",
    "import os\n",
    "\n",
    "def copy_folder_contents(source_folder, destination_folder):\n",
    "\n",
    "    # Ensure the destination folder exists; create it if not\n",
    "    if not os.path.exists(destination_folder):\n",
    "        os.makedirs(destination_folder)\n",
    "    # Get the list of files and subdirectories in the source folder\n",
    "    contents = os.listdir(source_folder)\n",
    "\n",
    "    # Iterate over each item in the source folder\n",
    "    for item in contents:\n",
    "        # Create the full path of the item in the source folder\n",
    "        source_path = os.path.join(source_folder, item)\n",
    "\n",
    "        # Create the full path of the item in the destination folder\n",
    "        destination_path = os.path.join(destination_folder, item)\n",
    "\n",
    "        # Copy the item to the destination folder\n",
    "        if os.path.isdir(source_path):\n",
    "            # If the item is a directory, recursively copy its contents\n",
    "            shutil.copytree(source_path, destination_path)\n",
    "        else:\n",
    "            # If the item is a file, copy it\n",
    "            shutil.copy2(source_path, destination_path)\n",
    "\n",
    "# Example usage\n",
    "source_folder = '/home/workstation04/GP_MMMAI/Brats_Africa60/ASNR-MICCAI-BraTS2023-SSA-Challenge-TrainingData_V2'\n",
    "destination_folder = '/home/workstation04/GP_MMMAI/data/BraTS2021_train'\n",
    "\n",
    "copy_folder_contents(source_folder, destination_folder)"
   ]
  },
  {
   "cell_type": "markdown",
   "metadata": {},
   "source": [
    "-------------------------------------------\n",
    "## Random Sampling\n",
    "\n"
   ]
  },
  {
   "cell_type": "code",
   "execution_count": null,
   "metadata": {},
   "outputs": [
    {
     "name": "stdout",
     "output_type": "stream",
     "text": [
      "Selected folders copied to the random folder, and names saved in a CSV file.\n"
     ]
    }
   ],
   "source": [
    "import os\n",
    "import csv\n",
    "import random\n",
    "import shutil\n",
    "\n",
    "# Path to the folder containing the data\n",
    "folder_path = '/home/workstation04/GP_MMMAI/data/ASNR-MICCAI-BraTS2023-PED-Challenge-TrainingData'\n",
    "\n",
    "# Path to the folder where selected folders will be copied\n",
    "random_folder_path = '/home/workstation04/GP_MMMAI/BraTS2021_PED_Random'\n",
    "\n",
    "# Read folder names from the data folder\n",
    "folder_names = os.listdir(folder_path)\n",
    "\n",
    "# Randomly select 20 folder names\n",
    "selected_folders = random.sample(folder_names, 20)\n",
    "\n",
    "\n",
    "# Copy the selected folders to the random folder\n",
    "for folder_name in selected_folders:\n",
    "    src_folder_path = os.path.join(folder_path, folder_name)\n",
    "    dest_folder_path = os.path.join(random_folder_path, folder_name)\n",
    "    shutil.copytree(src_folder_path, dest_folder_path)\n",
    "\n",
    "# Write the selected folder names to a CSV file\n",
    "selected_samples_csv_path = '/media/workstation04/New Volume/MMMAI/NVIDIA_PED_Trial/random_selected_samples.csv'\n",
    "with open(selected_samples_csv_path, 'w', newline='') as csvfile:\n",
    "    fieldnames = ['Sample Name']\n",
    "    writer = csv.DictWriter(csvfile, fieldnames=fieldnames)\n",
    "    writer.writeheader()\n",
    "    for folder_name in selected_folders:\n",
    "        writer.writerow({'Sample Name': folder_name})\n",
    "\n",
    "print(\"Selected folders copied to the random folder, and names saved in a CSV file.\")\n"
   ]
  },
  {
   "cell_type": "markdown",
   "metadata": {},
   "source": [
    "-----------------------------------------------------------\n",
    "# Prepare Data\n",
    "\n",
    "- this path /home/workstation04/GP_MMMAI/Brats_Africa60/ASNR-MICCAI-BraTS2023-SSA-Challenge-TrainingData_V2 is changed to /home/workstation04/GP_MMMAI/data/BraTS2021_train"
   ]
  },
  {
   "cell_type": "code",
   "execution_count": null,
   "metadata": {},
   "outputs": [
    {
     "name": "stderr",
     "output_type": "stream",
     "text": [
      "/tmp/ipykernel_106541/409192400.py:10: DeprecationWarning: Please use `label` from the `scipy.ndimage` namespace, the `scipy.ndimage.measurements` namespace is deprecated.\n",
      "  from scipy.ndimage.measurements import label\n"
     ]
    }
   ],
   "source": [
    "import json\n",
    "import os\n",
    "from glob import glob\n",
    "from subprocess import call\n",
    "import time\n",
    "import nibabel\n",
    "import numpy as np\n",
    "from joblib import Parallel, delayed\n",
    "from skimage.exposure import rescale_intensity\n",
    "from scipy.ndimage.measurements import label\n",
    "import matplotlib.pyplot as plt\n",
    "\n",
    "\n",
    "# Preparing the data for the model\n",
    "def get_folder_paths(directory):\n",
    "    folder_paths = [os.path.join(directory, folder) for folder in os.listdir(directory) if os.path.isdir(os.path.join(directory, folder))]\n",
    "    return folder_paths\n",
    "\n",
    "\n",
    "# Function to load a NIfTI file\n",
    "def load_nifty(directory, example_id, suffix):\n",
    "    return nibabel.load(os.path.join(directory, example_id + \"_\" + suffix + \".nii.gz\"))\n",
    "\n",
    "# Function to load all sequences for a given example\n",
    "def load_channels(d, example_id):\n",
    "    return [load_nifty(d, example_id, suffix) for suffix in [\"flair\", \"t1\", \"t1ce\", \"t2\"]]\n",
    "\n",
    "# Function to get data from a NIfTI file\n",
    "def get_data(nifty, dtype=\"int16\"):\n",
    "    if dtype == \"int16\":\n",
    "        data = np.abs(nifty.get_fdata().astype(np.int16))\n",
    "        data[data == -32768] = 0\n",
    "        return data\n",
    "    return nifty.get_fdata().astype(np.uint8)\n",
    "\n",
    "# Function to prepare a NIfTI file\n",
    "def prepare_nifty(d):\n",
    "    example_id = d.split(\"/\")[-1]\n",
    "    flair, t1, t1ce, t2 = load_channels(d, example_id)\n",
    "    affine, header = t1.affine, t1.header\n",
    "    vol = np.stack([get_data(flair), get_data(t1), get_data(t1ce), get_data(t2)], axis=-1)\n",
    "    vol = nibabel.nifti1.Nifti1Image(vol, affine, header=header)\n",
    "    nibabel.save(vol, os.path.join(d, example_id + \".nii.gz\"))\n",
    "\n",
    "    if os.path.exists(os.path.join(d, example_id + \"_seg.nii.gz\")):\n",
    "        seg = load_nifty(d, example_id, \"seg\")\n",
    "        affine, header = seg.affine, seg.header\n",
    "        vol = get_data(seg, \"unit8\")\n",
    "        # changing label 4 with 3 (for Brats dataset)\n",
    "        vol[vol == 4] = 3\n",
    "        seg = nibabel.nifti1.Nifti1Image(vol, affine, header=header)\n",
    "        nibabel.save(seg, os.path.join(d, example_id + \"_seg.nii.gz\"))\n",
    "\n",
    "# making the model's required file structure\n",
    "def prepare_dirs(data, train):\n",
    "    img_path, lbl_path = os.path.join(data, \"images\"), os.path.join(data, \"labels\")\n",
    "    call(f\"mkdir {img_path}\", shell=True)\n",
    "    if train:\n",
    "        call(f\"mkdir {lbl_path}\", shell=True)\n",
    "\n",
    "\n",
    "    dirs = glob(os.path.join(data, \"BraTS*\"))    #hard code\n",
    "    # dirs = glob(os.path.join(data, \"ASH*\"))\n",
    "    for d in dirs:\n",
    "        if \"_\" in d.split(\"/\")[-1]:\n",
    "            files = glob(os.path.join(d, \"*.nii.gz\"))\n",
    "            for f in files:\n",
    "                if \"flair\" in f or \"t1\" in f or \"t1ce\" in f or \"t2\" in f:\n",
    "                    continue\n",
    "                if \"_seg\" in f:\n",
    "                    call(f\"mv {f} {lbl_path}\", shell=True)\n",
    "                else:\n",
    "                    call(f\"mv {f} {img_path}\", shell=True)\n",
    "        call(f\"rm -rf {d}\", shell=True)\n",
    "\n",
    "\n",
    "# making the model's required json file\n",
    "def prepare_dataset_json(data, train):\n",
    "    images, labels = glob(os.path.join(data, \"images\", \"*\")), glob(os.path.join(data, \"labels\", \"*\"))\n",
    "    images = sorted([img.replace(data + \"/\", \"\") for img in images])\n",
    "    labels = sorted([lbl.replace(data + \"/\", \"\") for lbl in labels])\n",
    "\n",
    "    modality = {\"0\": \"FLAIR\", \"1\": \"T1\", \"2\": \"T1CE\", \"3\": \"T2\"}\n",
    "    labels_dict = {\"0\": \"background\", \"1\": \"edema\", \"2\": \"non-enhancing tumor\", \"3\": \"enhancing tumour\"}\n",
    "    if train:\n",
    "        key = \"training\"\n",
    "        print(\"images\", images)\n",
    "        print(\"labels\", labels)\n",
    "        data_pairs = [{\"image\": img, \"label\": lbl} for (img, lbl) in zip(images, labels)]\n",
    "    else:\n",
    "        key = \"test\"\n",
    "        data_pairs = [{\"image\": img} for img in images]\n",
    "\n",
    "    dataset = {\n",
    "        \"labels\": labels_dict,\n",
    "        \"modality\": modality,\n",
    "        key: data_pairs,\n",
    "    }\n",
    "\n",
    "    with open(os.path.join(data, \"dataset.json\"), \"w\") as outfile:\n",
    "        json.dump(dataset, outfile)\n",
    "\n",
    "# Function to run a function in parallel\n",
    "def run_parallel(func, args):\n",
    "    return Parallel(n_jobs=os.cpu_count())(delayed(func)(arg) for arg in args)\n",
    "\n",
    "# Main function to prepare the dataset\n",
    "def prepare_dataset(data, train):\n",
    "    print(f\"Preparing BraTS21 dataset from: {data}\")\n",
    "    start = time.time()\n",
    "    run_parallel(prepare_nifty, sorted(glob(os.path.join(data, \"BraTS*\"))))   #hard code\n",
    "    # run_parallel(prepare_nifty, sorted(glob(os.path.join(data, \"ASH*\"))))\n",
    "    prepare_dirs(data, train)\n",
    "    prepare_dataset_json(data, train)\n",
    "    end = time.time()\n",
    "    print(f\"Preparing time: {(end - start):.2f}\")\n"
   ]
  },
  {
   "cell_type": "code",
   "execution_count": null,
   "metadata": {},
   "outputs": [
    {
     "name": "stdout",
     "output_type": "stream",
     "text": [
      "Preparing BraTS21 dataset from: /home/workstation04/GP_MMMAI/data/BraTS2021_train\n"
     ]
    },
    {
     "name": "stdout",
     "output_type": "stream",
     "text": [
      "images ['images/BraTS2021_01667.nii.gz', 'images/BraTS2021_01668.nii.gz', 'images/BraTS2021_01669.nii.gz', 'images/BraTS2021_01670.nii.gz', 'images/BraTS2021_01671.nii.gz', 'images/BraTS2021_01672.nii.gz', 'images/BraTS2021_01673.nii.gz', 'images/BraTS2021_01675.nii.gz', 'images/BraTS2021_01676.nii.gz', 'images/BraTS2021_01677.nii.gz', 'images/BraTS2021_01678.nii.gz', 'images/BraTS2021_01679.nii.gz', 'images/BraTS2021_01680.nii.gz', 'images/BraTS2021_01681.nii.gz', 'images/BraTS2021_01682.nii.gz', 'images/BraTS2021_01683.nii.gz', 'images/BraTS2021_01684.nii.gz', 'images/BraTS2021_01685.nii.gz', 'images/BraTS2021_01686.nii.gz', 'images/BraTS2021_01687.nii.gz', 'images/BraTS2021_01688.nii.gz', 'images/BraTS2021_01689.nii.gz', 'images/BraTS2021_01690.nii.gz', 'images/BraTS2021_01691.nii.gz', 'images/BraTS2021_01692.nii.gz', 'images/BraTS2021_01693.nii.gz', 'images/BraTS2021_01694.nii.gz', 'images/BraTS2021_01695.nii.gz', 'images/BraTS2021_01697.nii.gz', 'images/BraTS2021_01698.nii.gz', 'images/BraTS2021_01699.nii.gz', 'images/BraTS2021_01700.nii.gz', 'images/BraTS2021_01702.nii.gz', 'images/BraTS2021_01703.nii.gz', 'images/BraTS2021_01704.nii.gz', 'images/BraTS2021_01706.nii.gz', 'images/BraTS2021_01707.nii.gz', 'images/BraTS2021_01708.nii.gz', 'images/BraTS2021_01709.nii.gz', 'images/BraTS2021_01711.nii.gz', 'images/BraTS2021_01712.nii.gz', 'images/BraTS2021_01713.nii.gz', 'images/BraTS2021_01714.nii.gz', 'images/BraTS2021_01715.nii.gz', 'images/BraTS2021_01716.nii.gz', 'images/BraTS2021_01717.nii.gz', 'images/BraTS2021_01718.nii.gz', 'images/BraTS2021_01719.nii.gz', 'images/BraTS2021_01720.nii.gz', 'images/BraTS2021_01721.nii.gz', 'images/BraTS2021_01722.nii.gz', 'images/BraTS2021_01723.nii.gz', 'images/BraTS2021_01724.nii.gz', 'images/BraTS2021_01725.nii.gz', 'images/BraTS2021_01726.nii.gz', 'images/BraTS2021_01727.nii.gz', 'images/BraTS2021_01728.nii.gz', 'images/BraTS2021_01729.nii.gz', 'images/BraTS2021_01731.nii.gz', 'images/BraTS2021_01732.nii.gz', 'images/BraTS2021_01733.nii.gz', 'images/BraTS2021_01734.nii.gz', 'images/BraTS2021_01735.nii.gz', 'images/BraTS2021_01736.nii.gz', 'images/BraTS2021_01737.nii.gz', 'images/BraTS2021_01740.nii.gz', 'images/BraTS2021_01741.nii.gz', 'images/BraTS2021_01742.nii.gz', 'images/BraTS2021_01743.nii.gz', 'images/BraTS2021_01744.nii.gz', 'images/BraTS2021_01745.nii.gz', 'images/BraTS2021_01746.nii.gz', 'images/BraTS2021_01747.nii.gz', 'images/BraTS2021_01749.nii.gz', 'images/BraTS2021_01750.nii.gz', 'images/BraTS2021_01751.nii.gz', 'images/BraTS2021_01752.nii.gz', 'images/BraTS2021_01753.nii.gz', 'images/BraTS2021_01754.nii.gz', 'images/BraTS2021_01755.nii.gz', 'images/BraTS2021_01756.nii.gz', 'images/BraTS2021_01757.nii.gz', 'images/BraTS2021_01758.nii.gz', 'images/BraTS2021_01759.nii.gz', 'images/BraTS2021_01760.nii.gz', 'images/BraTS2021_01761.nii.gz', 'images/BraTS2021_01763.nii.gz', 'images/BraTS2021_01764.nii.gz', 'images/BraTS2021_01765.nii.gz']\n",
      "labels ['labels/BraTS2021_01667_seg.nii.gz', 'labels/BraTS2021_01668_seg.nii.gz', 'labels/BraTS2021_01669_seg.nii.gz', 'labels/BraTS2021_01670_seg.nii.gz', 'labels/BraTS2021_01671_seg.nii.gz', 'labels/BraTS2021_01672_seg.nii.gz', 'labels/BraTS2021_01673_seg.nii.gz', 'labels/BraTS2021_01675_seg.nii.gz', 'labels/BraTS2021_01676_seg.nii.gz', 'labels/BraTS2021_01677_seg.nii.gz', 'labels/BraTS2021_01678_seg.nii.gz', 'labels/BraTS2021_01679_seg.nii.gz', 'labels/BraTS2021_01680_seg.nii.gz', 'labels/BraTS2021_01681_seg.nii.gz', 'labels/BraTS2021_01682_seg.nii.gz', 'labels/BraTS2021_01683_seg.nii.gz', 'labels/BraTS2021_01684_seg.nii.gz', 'labels/BraTS2021_01685_seg.nii.gz', 'labels/BraTS2021_01686_seg.nii.gz', 'labels/BraTS2021_01687_seg.nii.gz', 'labels/BraTS2021_01688_seg.nii.gz', 'labels/BraTS2021_01689_seg.nii.gz', 'labels/BraTS2021_01690_seg.nii.gz', 'labels/BraTS2021_01691_seg.nii.gz', 'labels/BraTS2021_01692_seg.nii.gz', 'labels/BraTS2021_01693_seg.nii.gz', 'labels/BraTS2021_01694_seg.nii.gz', 'labels/BraTS2021_01695_seg.nii.gz', 'labels/BraTS2021_01697_seg.nii.gz', 'labels/BraTS2021_01698_seg.nii.gz', 'labels/BraTS2021_01699_seg.nii.gz', 'labels/BraTS2021_01700_seg.nii.gz', 'labels/BraTS2021_01702_seg.nii.gz', 'labels/BraTS2021_01703_seg.nii.gz', 'labels/BraTS2021_01704_seg.nii.gz', 'labels/BraTS2021_01706_seg.nii.gz', 'labels/BraTS2021_01707_seg.nii.gz', 'labels/BraTS2021_01708_seg.nii.gz', 'labels/BraTS2021_01709_seg.nii.gz', 'labels/BraTS2021_01711_seg.nii.gz', 'labels/BraTS2021_01712_seg.nii.gz', 'labels/BraTS2021_01713_seg.nii.gz', 'labels/BraTS2021_01714_seg.nii.gz', 'labels/BraTS2021_01715_seg.nii.gz', 'labels/BraTS2021_01716_seg.nii.gz', 'labels/BraTS2021_01717_seg.nii.gz', 'labels/BraTS2021_01718_seg.nii.gz', 'labels/BraTS2021_01719_seg.nii.gz', 'labels/BraTS2021_01720_seg.nii.gz', 'labels/BraTS2021_01721_seg.nii.gz', 'labels/BraTS2021_01722_seg.nii.gz', 'labels/BraTS2021_01723_seg.nii.gz', 'labels/BraTS2021_01724_seg.nii.gz', 'labels/BraTS2021_01725_seg.nii.gz', 'labels/BraTS2021_01726_seg.nii.gz', 'labels/BraTS2021_01727_seg.nii.gz', 'labels/BraTS2021_01728_seg.nii.gz', 'labels/BraTS2021_01729_seg.nii.gz', 'labels/BraTS2021_01731_seg.nii.gz', 'labels/BraTS2021_01732_seg.nii.gz', 'labels/BraTS2021_01733_seg.nii.gz', 'labels/BraTS2021_01734_seg.nii.gz', 'labels/BraTS2021_01735_seg.nii.gz', 'labels/BraTS2021_01736_seg.nii.gz', 'labels/BraTS2021_01737_seg.nii.gz', 'labels/BraTS2021_01740_seg.nii.gz', 'labels/BraTS2021_01741_seg.nii.gz', 'labels/BraTS2021_01742_seg.nii.gz', 'labels/BraTS2021_01743_seg.nii.gz', 'labels/BraTS2021_01744_seg.nii.gz', 'labels/BraTS2021_01745_seg.nii.gz', 'labels/BraTS2021_01746_seg.nii.gz', 'labels/BraTS2021_01747_seg.nii.gz', 'labels/BraTS2021_01749_seg.nii.gz', 'labels/BraTS2021_01750_seg.nii.gz', 'labels/BraTS2021_01751_seg.nii.gz', 'labels/BraTS2021_01752_seg.nii.gz', 'labels/BraTS2021_01753_seg.nii.gz', 'labels/BraTS2021_01754_seg.nii.gz', 'labels/BraTS2021_01755_seg.nii.gz', 'labels/BraTS2021_01756_seg.nii.gz', 'labels/BraTS2021_01757_seg.nii.gz', 'labels/BraTS2021_01758_seg.nii.gz', 'labels/BraTS2021_01759_seg.nii.gz', 'labels/BraTS2021_01760_seg.nii.gz', 'labels/BraTS2021_01761_seg.nii.gz', 'labels/BraTS2021_01763_seg.nii.gz', 'labels/BraTS2021_01764_seg.nii.gz', 'labels/BraTS2021_01765_seg.nii.gz']\n",
      "Preparing time: 31.02\n",
      "Finished!\n"
     ]
    }
   ],
   "source": [
    "# this path '/content/drive/MyDrive/data/BraTS2021_train' should contain the folder containig the data with the ground truth (T1,T2,T1ce,flair,seg)\n",
    "prepare_dataset(\"/home/workstation04/GP_MMMAI/data/BraTS2021_train\", True)\n",
    "print(\"Finished!\")"
   ]
  },
  {
   "cell_type": "code",
   "execution_count": null,
   "metadata": {},
   "outputs": [
    {
     "name": "stdout",
     "output_type": "stream",
     "text": [
      "Preparing BraTS21 dataset from: /home/workstation04/GP_MMMAI/BraTS2021_PED_Random\n",
      "images ['images/BraTS2021_00000.nii.gz', 'images/BraTS2021_00002.nii.gz', 'images/BraTS2021_00003.nii.gz', 'images/BraTS2021_00005.nii.gz', 'images/BraTS2021_00006.nii.gz', 'images/BraTS2021_00008.nii.gz', 'images/BraTS2021_00009.nii.gz', 'images/BraTS2021_00011.nii.gz', 'images/BraTS2021_00012.nii.gz', 'images/BraTS2021_00014.nii.gz', 'images/BraTS2021_00016.nii.gz', 'images/BraTS2021_00017.nii.gz', 'images/BraTS2021_00018.nii.gz', 'images/BraTS2021_00019.nii.gz', 'images/BraTS2021_00020.nii.gz', 'images/BraTS2021_00021.nii.gz', 'images/BraTS2021_00022.nii.gz', 'images/BraTS2021_00024.nii.gz', 'images/BraTS2021_00025.nii.gz', 'images/BraTS2021_00026.nii.gz', 'images/BraTS2021_00028.nii.gz', 'images/BraTS2021_00030.nii.gz', 'images/BraTS2021_00031.nii.gz', 'images/BraTS2021_00032.nii.gz', 'images/BraTS2021_00033.nii.gz', 'images/BraTS2021_00035.nii.gz', 'images/BraTS2021_00036.nii.gz', 'images/BraTS2021_00043.nii.gz', 'images/BraTS2021_00044.nii.gz', 'images/BraTS2021_00045.nii.gz', 'images/BraTS2021_00046.nii.gz', 'images/BraTS2021_00048.nii.gz', 'images/BraTS2021_00049.nii.gz', 'images/BraTS2021_00051.nii.gz', 'images/BraTS2021_00052.nii.gz', 'images/BraTS2021_00053.nii.gz', 'images/BraTS2021_00054.nii.gz', 'images/BraTS2021_00056.nii.gz', 'images/BraTS2021_00058.nii.gz', 'images/BraTS2021_00059.nii.gz', 'images/BraTS2021_00060.nii.gz', 'images/BraTS2021_00061.nii.gz', 'images/BraTS2021_00062.nii.gz', 'images/BraTS2021_00063.nii.gz', 'images/BraTS2021_00064.nii.gz', 'images/BraTS2021_00066.nii.gz', 'images/BraTS2021_00068.nii.gz', 'images/BraTS2021_00070.nii.gz', 'images/BraTS2021_00071.nii.gz', 'images/BraTS2021_00072.nii.gz', 'images/BraTS2021_00074.nii.gz', 'images/BraTS2021_00077.nii.gz', 'images/BraTS2021_00078.nii.gz', 'images/BraTS2021_00081.nii.gz', 'images/BraTS2021_00084.nii.gz', 'images/BraTS2021_00085.nii.gz', 'images/BraTS2021_00087.nii.gz', 'images/BraTS2021_00088.nii.gz', 'images/BraTS2021_00089.nii.gz', 'images/BraTS2021_00090.nii.gz', 'images/BraTS2021_00094.nii.gz', 'images/BraTS2021_00095.nii.gz', 'images/BraTS2021_00096.nii.gz', 'images/BraTS2021_00097.nii.gz', 'images/BraTS2021_00098.nii.gz', 'images/BraTS2021_00099.nii.gz', 'images/BraTS2021_00100.nii.gz', 'images/BraTS2021_00101.nii.gz', 'images/BraTS2021_00102.nii.gz', 'images/BraTS2021_00103.nii.gz', 'images/BraTS2021_00104.nii.gz', 'images/BraTS2021_00105.nii.gz', 'images/BraTS2021_00106.nii.gz', 'images/BraTS2021_00107.nii.gz', 'images/BraTS2021_00108.nii.gz', 'images/BraTS2021_00109.nii.gz', 'images/BraTS2021_00110.nii.gz', 'images/BraTS2021_00111.nii.gz', 'images/BraTS2021_00112.nii.gz', 'images/BraTS2021_00113.nii.gz', 'images/BraTS2021_00115.nii.gz', 'images/BraTS2021_00116.nii.gz', 'images/BraTS2021_00117.nii.gz', 'images/BraTS2021_00118.nii.gz', 'images/BraTS2021_00120.nii.gz', 'images/BraTS2021_00121.nii.gz', 'images/BraTS2021_00122.nii.gz', 'images/BraTS2021_00123.nii.gz', 'images/BraTS2021_00124.nii.gz', 'images/BraTS2021_00126.nii.gz', 'images/BraTS2021_00127.nii.gz', 'images/BraTS2021_00128.nii.gz', 'images/BraTS2021_00130.nii.gz', 'images/BraTS2021_00131.nii.gz', 'images/BraTS2021_00132.nii.gz', 'images/BraTS2021_00133.nii.gz', 'images/BraTS2021_00134.nii.gz', 'images/BraTS2021_00136.nii.gz', 'images/BraTS2021_00137.nii.gz', 'images/BraTS2021_00138.nii.gz', 'images/BraTS2021_00139.nii.gz', 'images/BraTS2021_00140.nii.gz', 'images/BraTS2021_00142.nii.gz', 'images/BraTS2021_00143.nii.gz', 'images/BraTS2021_00144.nii.gz', 'images/BraTS2021_00146.nii.gz', 'images/BraTS2021_00147.nii.gz', 'images/BraTS2021_00148.nii.gz', 'images/BraTS2021_00149.nii.gz', 'images/BraTS2021_00150.nii.gz', 'images/BraTS2021_00151.nii.gz', 'images/BraTS2021_00152.nii.gz', 'images/BraTS2021_00154.nii.gz', 'images/BraTS2021_00155.nii.gz', 'images/BraTS2021_00156.nii.gz', 'images/BraTS2021_00157.nii.gz', 'images/BraTS2021_00158.nii.gz', 'images/BraTS2021_00159.nii.gz', 'images/BraTS2021_00160.nii.gz', 'images/BraTS2021_00162.nii.gz', 'images/BraTS2021_00165.nii.gz', 'images/BraTS2021_00166.nii.gz', 'images/BraTS2021_00167.nii.gz', 'images/BraTS2021_00170.nii.gz', 'images/BraTS2021_00171.nii.gz', 'images/BraTS2021_00172.nii.gz', 'images/BraTS2021_00176.nii.gz', 'images/BraTS2021_00177.nii.gz', 'images/BraTS2021_00178.nii.gz', 'images/BraTS2021_00183.nii.gz', 'images/BraTS2021_00184.nii.gz', 'images/BraTS2021_00185.nii.gz', 'images/BraTS2021_00186.nii.gz', 'images/BraTS2021_00187.nii.gz', 'images/BraTS2021_00192.nii.gz', 'images/BraTS2021_00194.nii.gz', 'images/BraTS2021_00211.nii.gz', 'images/BraTS2021_00212.nii.gz', 'images/BraTS2021_00214.nii.gz', 'images/BraTS2021_00217.nii.gz', 'images/BraTS2021_00218.nii.gz', 'images/BraTS2021_00231.nii.gz', 'images/BraTS2021_00243.nii.gz', 'images/BraTS2021_00251.nii.gz', 'images/BraTS2021_00266.nii.gz', 'images/BraTS2021_00270.nii.gz', 'images/BraTS2021_00274.nii.gz', 'images/BraTS2021_00283.nii.gz', 'images/BraTS2021_00286.nii.gz', 'images/BraTS2021_00292.nii.gz', 'images/BraTS2021_00294.nii.gz', 'images/BraTS2021_00304.nii.gz', 'images/BraTS2021_00311.nii.gz', 'images/BraTS2021_00313.nii.gz', 'images/BraTS2021_00334.nii.gz', 'images/BraTS2021_00336.nii.gz', 'images/BraTS2021_00350.nii.gz', 'images/BraTS2021_00353.nii.gz', 'images/BraTS2021_00366.nii.gz', 'images/BraTS2021_00375.nii.gz', 'images/BraTS2021_00376.nii.gz', 'images/BraTS2021_00379.nii.gz', 'images/BraTS2021_00391.nii.gz', 'images/BraTS2021_00399.nii.gz', 'images/BraTS2021_00402.nii.gz', 'images/BraTS2021_00419.nii.gz', 'images/BraTS2021_00423.nii.gz', 'images/BraTS2021_00426.nii.gz', 'images/BraTS2021_00430.nii.gz', 'images/BraTS2021_00433.nii.gz', 'images/BraTS2021_00436.nii.gz', 'images/BraTS2021_00442.nii.gz', 'images/BraTS2021_00464.nii.gz', 'images/BraTS2021_00480.nii.gz', 'images/BraTS2021_00485.nii.gz', 'images/BraTS2021_00495.nii.gz', 'images/BraTS2021_00500.nii.gz', 'images/BraTS2021_00514.nii.gz', 'images/BraTS2021_00516.nii.gz', 'images/BraTS2021_00549.nii.gz', 'images/BraTS2021_00558.nii.gz', 'images/BraTS2021_00583.nii.gz', 'images/BraTS2021_00586.nii.gz', 'images/BraTS2021_00587.nii.gz', 'images/BraTS2021_00597.nii.gz', 'images/BraTS2021_00602.nii.gz', 'images/BraTS2021_00605.nii.gz', 'images/BraTS2021_00607.nii.gz', 'images/BraTS2021_00630.nii.gz', 'images/BraTS2021_00639.nii.gz', 'images/BraTS2021_00641.nii.gz', 'images/BraTS2021_00654.nii.gz', 'images/BraTS2021_00693.nii.gz', 'images/BraTS2021_00709.nii.gz', 'images/BraTS2021_00715.nii.gz', 'images/BraTS2021_00716.nii.gz', 'images/BraTS2021_00727.nii.gz', 'images/BraTS2021_00733.nii.gz', 'images/BraTS2021_00735.nii.gz', 'images/BraTS2021_00753.nii.gz', 'images/BraTS2021_00757.nii.gz', 'images/BraTS2021_00759.nii.gz', 'images/BraTS2021_00772.nii.gz', 'images/BraTS2021_00775.nii.gz', 'images/BraTS2021_00777.nii.gz', 'images/BraTS2021_00782.nii.gz', 'images/BraTS2021_00791.nii.gz', 'images/BraTS2021_00793.nii.gz', 'images/BraTS2021_00810.nii.gz', 'images/BraTS2021_00818.nii.gz', 'images/BraTS2021_00834.nii.gz', 'images/BraTS2021_00836.nii.gz', 'images/BraTS2021_01001.nii.gz', 'images/BraTS2021_01004.nii.gz', 'images/BraTS2021_01005.nii.gz', 'images/BraTS2021_01018.nii.gz', 'images/BraTS2021_01037.nii.gz', 'images/BraTS2021_01043.nii.gz', 'images/BraTS2021_01050.nii.gz', 'images/BraTS2021_01051.nii.gz', 'images/BraTS2021_01058.nii.gz', 'images/BraTS2021_01063.nii.gz', 'images/BraTS2021_01066.nii.gz', 'images/BraTS2021_01072.nii.gz', 'images/BraTS2021_01079.nii.gz', 'images/BraTS2021_01081.nii.gz', 'images/BraTS2021_01088.nii.gz', 'images/BraTS2021_01089.nii.gz', 'images/BraTS2021_01096.nii.gz', 'images/BraTS2021_01101.nii.gz', 'images/BraTS2021_01110.nii.gz', 'images/BraTS2021_01118.nii.gz', 'images/BraTS2021_01123.nii.gz', 'images/BraTS2021_01124.nii.gz', 'images/BraTS2021_01137.nii.gz', 'images/BraTS2021_01141.nii.gz', 'images/BraTS2021_01142.nii.gz', 'images/BraTS2021_01146.nii.gz', 'images/BraTS2021_01147.nii.gz', 'images/BraTS2021_01152.nii.gz', 'images/BraTS2021_01162.nii.gz', 'images/BraTS2021_01169.nii.gz', 'images/BraTS2021_01170.nii.gz', 'images/BraTS2021_01173.nii.gz', 'images/BraTS2021_01181.nii.gz', 'images/BraTS2021_01183.nii.gz', 'images/BraTS2021_01191.nii.gz', 'images/BraTS2021_01198.nii.gz', 'images/BraTS2021_01206.nii.gz', 'images/BraTS2021_01208.nii.gz', 'images/BraTS2021_01209.nii.gz', 'images/BraTS2021_01210.nii.gz', 'images/BraTS2021_01211.nii.gz', 'images/BraTS2021_01212.nii.gz', 'images/BraTS2021_01225.nii.gz', 'images/BraTS2021_01231.nii.gz', 'images/BraTS2021_01237.nii.gz', 'images/BraTS2021_01238.nii.gz', 'images/BraTS2021_01239.nii.gz', 'images/BraTS2021_01240.nii.gz', 'images/BraTS2021_01262.nii.gz', 'images/BraTS2021_01265.nii.gz', 'images/BraTS2021_01273.nii.gz', 'images/BraTS2021_01274.nii.gz', 'images/BraTS2021_01282.nii.gz', 'images/BraTS2021_01283.nii.gz', 'images/BraTS2021_01284.nii.gz', 'images/BraTS2021_01289.nii.gz', 'images/BraTS2021_01294.nii.gz', 'images/BraTS2021_01296.nii.gz', 'images/BraTS2021_01305.nii.gz', 'images/BraTS2021_01306.nii.gz', 'images/BraTS2021_01312.nii.gz', 'images/BraTS2021_01316.nii.gz', 'images/BraTS2021_01319.nii.gz', 'images/BraTS2021_01320.nii.gz', 'images/BraTS2021_01326.nii.gz', 'images/BraTS2021_01328.nii.gz', 'images/BraTS2021_01331.nii.gz', 'images/BraTS2021_01333.nii.gz', 'images/BraTS2021_01335.nii.gz', 'images/BraTS2021_01339.nii.gz', 'images/BraTS2021_01340.nii.gz', 'images/BraTS2021_01342.nii.gz', 'images/BraTS2021_01345.nii.gz', 'images/BraTS2021_01349.nii.gz', 'images/BraTS2021_01350.nii.gz', 'images/BraTS2021_01356.nii.gz', 'images/BraTS2021_01357.nii.gz', 'images/BraTS2021_01359.nii.gz', 'images/BraTS2021_01361.nii.gz', 'images/BraTS2021_01363.nii.gz', 'images/BraTS2021_01367.nii.gz', 'images/BraTS2021_01375.nii.gz', 'images/BraTS2021_01387.nii.gz', 'images/BraTS2021_01388.nii.gz', 'images/BraTS2021_01389.nii.gz', 'images/BraTS2021_01398.nii.gz', 'images/BraTS2021_01399.nii.gz', 'images/BraTS2021_01402.nii.gz', 'images/BraTS2021_01423.nii.gz', 'images/BraTS2021_01425.nii.gz', 'images/BraTS2021_01440.nii.gz', 'images/BraTS2021_01443.nii.gz', 'images/BraTS2021_01450.nii.gz', 'images/BraTS2021_01461.nii.gz', 'images/BraTS2021_01465.nii.gz', 'images/BraTS2021_01467.nii.gz', 'images/BraTS2021_01476.nii.gz', 'images/BraTS2021_01480.nii.gz', 'images/BraTS2021_01481.nii.gz', 'images/BraTS2021_01488.nii.gz', 'images/BraTS2021_01489.nii.gz', 'images/BraTS2021_01490.nii.gz', 'images/BraTS2021_01492.nii.gz', 'images/BraTS2021_01494.nii.gz', 'images/BraTS2021_01496.nii.gz', 'images/BraTS2021_01500.nii.gz', 'images/BraTS2021_01501.nii.gz', 'images/BraTS2021_01507.nii.gz', 'images/BraTS2021_01513.nii.gz', 'images/BraTS2021_01518.nii.gz', 'images/BraTS2021_01521.nii.gz', 'images/BraTS2021_01522.nii.gz', 'images/BraTS2021_01524.nii.gz', 'images/BraTS2021_01530.nii.gz', 'images/BraTS2021_01538.nii.gz', 'images/BraTS2021_01540.nii.gz', 'images/BraTS2021_01547.nii.gz', 'images/BraTS2021_01560.nii.gz', 'images/BraTS2021_01562.nii.gz', 'images/BraTS2021_01566.nii.gz', 'images/BraTS2021_01567.nii.gz', 'images/BraTS2021_01582.nii.gz', 'images/BraTS2021_01584.nii.gz', 'images/BraTS2021_01593.nii.gz', 'images/BraTS2021_01594.nii.gz', 'images/BraTS2021_01599.nii.gz', 'images/BraTS2021_01601.nii.gz', 'images/BraTS2021_01608.nii.gz', 'images/BraTS2021_01609.nii.gz', 'images/BraTS2021_01613.nii.gz', 'images/BraTS2021_01614.nii.gz', 'images/BraTS2021_01626.nii.gz', 'images/BraTS2021_01634.nii.gz', 'images/BraTS2021_01651.nii.gz', 'images/BraTS2021_01652.nii.gz', 'images/BraTS2021_01653.nii.gz', 'images/BraTS2021_01660.nii.gz', 'images/BraTS2021_01661.nii.gz', 'images/BraTS2021_01662.nii.gz', 'images/BraTS2021_01667.nii.gz', 'images/BraTS2021_01669.nii.gz', 'images/BraTS2021_01675.nii.gz', 'images/BraTS2021_01676.nii.gz', 'images/BraTS2021_01678.nii.gz', 'images/BraTS2021_01680.nii.gz', 'images/BraTS2021_01683.nii.gz', 'images/BraTS2021_01686.nii.gz', 'images/BraTS2021_01709.nii.gz', 'images/BraTS2021_01712.nii.gz', 'images/BraTS2021_01713.nii.gz', 'images/BraTS2021_01715.nii.gz', 'images/BraTS2021_01718.nii.gz', 'images/BraTS2021_01732.nii.gz', 'images/BraTS2021_01740.nii.gz', 'images/BraTS2021_01746.nii.gz', 'images/BraTS2021_01752.nii.gz', 'images/BraTS2021_01753.nii.gz', 'images/BraTS2021_01756.nii.gz', 'images/BraTS2021_01763.nii.gz']\n",
      "labels ['labels/BraTS2021_00000_seg.nii.gz', 'labels/BraTS2021_00002_seg.nii.gz', 'labels/BraTS2021_00003_seg.nii.gz', 'labels/BraTS2021_00005_seg.nii.gz', 'labels/BraTS2021_00006_seg.nii.gz', 'labels/BraTS2021_00008_seg.nii.gz', 'labels/BraTS2021_00009_seg.nii.gz', 'labels/BraTS2021_00011_seg.nii.gz', 'labels/BraTS2021_00012_seg.nii.gz', 'labels/BraTS2021_00014_seg.nii.gz', 'labels/BraTS2021_00016_seg.nii.gz', 'labels/BraTS2021_00017_seg.nii.gz', 'labels/BraTS2021_00018_seg.nii.gz', 'labels/BraTS2021_00019_seg.nii.gz', 'labels/BraTS2021_00020_seg.nii.gz', 'labels/BraTS2021_00021_seg.nii.gz', 'labels/BraTS2021_00022_seg.nii.gz', 'labels/BraTS2021_00024_seg.nii.gz', 'labels/BraTS2021_00025_seg.nii.gz', 'labels/BraTS2021_00026_seg.nii.gz', 'labels/BraTS2021_00028_seg.nii.gz', 'labels/BraTS2021_00030_seg.nii.gz', 'labels/BraTS2021_00031_seg.nii.gz', 'labels/BraTS2021_00032_seg.nii.gz', 'labels/BraTS2021_00033_seg.nii.gz', 'labels/BraTS2021_00035_seg.nii.gz', 'labels/BraTS2021_00036_seg.nii.gz', 'labels/BraTS2021_00043_seg.nii.gz', 'labels/BraTS2021_00044_seg.nii.gz', 'labels/BraTS2021_00045_seg.nii.gz', 'labels/BraTS2021_00046_seg.nii.gz', 'labels/BraTS2021_00048_seg.nii.gz', 'labels/BraTS2021_00049_seg.nii.gz', 'labels/BraTS2021_00051_seg.nii.gz', 'labels/BraTS2021_00052_seg.nii.gz', 'labels/BraTS2021_00053_seg.nii.gz', 'labels/BraTS2021_00054_seg.nii.gz', 'labels/BraTS2021_00056_seg.nii.gz', 'labels/BraTS2021_00058_seg.nii.gz', 'labels/BraTS2021_00059_seg.nii.gz', 'labels/BraTS2021_00060_seg.nii.gz', 'labels/BraTS2021_00061_seg.nii.gz', 'labels/BraTS2021_00062_seg.nii.gz', 'labels/BraTS2021_00063_seg.nii.gz', 'labels/BraTS2021_00064_seg.nii.gz', 'labels/BraTS2021_00066_seg.nii.gz', 'labels/BraTS2021_00068_seg.nii.gz', 'labels/BraTS2021_00070_seg.nii.gz', 'labels/BraTS2021_00071_seg.nii.gz', 'labels/BraTS2021_00072_seg.nii.gz', 'labels/BraTS2021_00074_seg.nii.gz', 'labels/BraTS2021_00077_seg.nii.gz', 'labels/BraTS2021_00078_seg.nii.gz', 'labels/BraTS2021_00081_seg.nii.gz', 'labels/BraTS2021_00084_seg.nii.gz', 'labels/BraTS2021_00085_seg.nii.gz', 'labels/BraTS2021_00087_seg.nii.gz', 'labels/BraTS2021_00088_seg.nii.gz', 'labels/BraTS2021_00089_seg.nii.gz', 'labels/BraTS2021_00090_seg.nii.gz', 'labels/BraTS2021_00094_seg.nii.gz', 'labels/BraTS2021_00095_seg.nii.gz', 'labels/BraTS2021_00096_seg.nii.gz', 'labels/BraTS2021_00097_seg.nii.gz', 'labels/BraTS2021_00098_seg.nii.gz', 'labels/BraTS2021_00099_seg.nii.gz', 'labels/BraTS2021_00100_seg.nii.gz', 'labels/BraTS2021_00101_seg.nii.gz', 'labels/BraTS2021_00102_seg.nii.gz', 'labels/BraTS2021_00103_seg.nii.gz', 'labels/BraTS2021_00104_seg.nii.gz', 'labels/BraTS2021_00105_seg.nii.gz', 'labels/BraTS2021_00106_seg.nii.gz', 'labels/BraTS2021_00107_seg.nii.gz', 'labels/BraTS2021_00108_seg.nii.gz', 'labels/BraTS2021_00109_seg.nii.gz', 'labels/BraTS2021_00110_seg.nii.gz', 'labels/BraTS2021_00111_seg.nii.gz', 'labels/BraTS2021_00112_seg.nii.gz', 'labels/BraTS2021_00113_seg.nii.gz', 'labels/BraTS2021_00115_seg.nii.gz', 'labels/BraTS2021_00116_seg.nii.gz', 'labels/BraTS2021_00117_seg.nii.gz', 'labels/BraTS2021_00118_seg.nii.gz', 'labels/BraTS2021_00120_seg.nii.gz', 'labels/BraTS2021_00121_seg.nii.gz', 'labels/BraTS2021_00122_seg.nii.gz', 'labels/BraTS2021_00123_seg.nii.gz', 'labels/BraTS2021_00124_seg.nii.gz', 'labels/BraTS2021_00126_seg.nii.gz', 'labels/BraTS2021_00127_seg.nii.gz', 'labels/BraTS2021_00128_seg.nii.gz', 'labels/BraTS2021_00130_seg.nii.gz', 'labels/BraTS2021_00131_seg.nii.gz', 'labels/BraTS2021_00132_seg.nii.gz', 'labels/BraTS2021_00133_seg.nii.gz', 'labels/BraTS2021_00134_seg.nii.gz', 'labels/BraTS2021_00136_seg.nii.gz', 'labels/BraTS2021_00137_seg.nii.gz', 'labels/BraTS2021_00138_seg.nii.gz', 'labels/BraTS2021_00139_seg.nii.gz', 'labels/BraTS2021_00140_seg.nii.gz', 'labels/BraTS2021_00142_seg.nii.gz', 'labels/BraTS2021_00143_seg.nii.gz', 'labels/BraTS2021_00144_seg.nii.gz', 'labels/BraTS2021_00146_seg.nii.gz', 'labels/BraTS2021_00147_seg.nii.gz', 'labels/BraTS2021_00148_seg.nii.gz', 'labels/BraTS2021_00149_seg.nii.gz', 'labels/BraTS2021_00150_seg.nii.gz', 'labels/BraTS2021_00151_seg.nii.gz', 'labels/BraTS2021_00152_seg.nii.gz', 'labels/BraTS2021_00154_seg.nii.gz', 'labels/BraTS2021_00155_seg.nii.gz', 'labels/BraTS2021_00156_seg.nii.gz', 'labels/BraTS2021_00157_seg.nii.gz', 'labels/BraTS2021_00158_seg.nii.gz', 'labels/BraTS2021_00159_seg.nii.gz', 'labels/BraTS2021_00160_seg.nii.gz', 'labels/BraTS2021_00162_seg.nii.gz', 'labels/BraTS2021_00165_seg.nii.gz', 'labels/BraTS2021_00166_seg.nii.gz', 'labels/BraTS2021_00167_seg.nii.gz', 'labels/BraTS2021_00170_seg.nii.gz', 'labels/BraTS2021_00171_seg.nii.gz', 'labels/BraTS2021_00172_seg.nii.gz', 'labels/BraTS2021_00176_seg.nii.gz', 'labels/BraTS2021_00177_seg.nii.gz', 'labels/BraTS2021_00178_seg.nii.gz', 'labels/BraTS2021_00183_seg.nii.gz', 'labels/BraTS2021_00184_seg.nii.gz', 'labels/BraTS2021_00185_seg.nii.gz', 'labels/BraTS2021_00186_seg.nii.gz', 'labels/BraTS2021_00187_seg.nii.gz', 'labels/BraTS2021_00192_seg.nii.gz', 'labels/BraTS2021_00194_seg.nii.gz', 'labels/BraTS2021_00211_seg.nii.gz', 'labels/BraTS2021_00212_seg.nii.gz', 'labels/BraTS2021_00214_seg.nii.gz', 'labels/BraTS2021_00217_seg.nii.gz', 'labels/BraTS2021_00218_seg.nii.gz', 'labels/BraTS2021_00231_seg.nii.gz', 'labels/BraTS2021_00243_seg.nii.gz', 'labels/BraTS2021_00251_seg.nii.gz', 'labels/BraTS2021_00266_seg.nii.gz', 'labels/BraTS2021_00270_seg.nii.gz', 'labels/BraTS2021_00274_seg.nii.gz', 'labels/BraTS2021_00283_seg.nii.gz', 'labels/BraTS2021_00286_seg.nii.gz', 'labels/BraTS2021_00292_seg.nii.gz', 'labels/BraTS2021_00294_seg.nii.gz', 'labels/BraTS2021_00304_seg.nii.gz', 'labels/BraTS2021_00311_seg.nii.gz', 'labels/BraTS2021_00313_seg.nii.gz', 'labels/BraTS2021_00334_seg.nii.gz', 'labels/BraTS2021_00336_seg.nii.gz', 'labels/BraTS2021_00350_seg.nii.gz', 'labels/BraTS2021_00353_seg.nii.gz', 'labels/BraTS2021_00366_seg.nii.gz', 'labels/BraTS2021_00375_seg.nii.gz', 'labels/BraTS2021_00376_seg.nii.gz', 'labels/BraTS2021_00379_seg.nii.gz', 'labels/BraTS2021_00391_seg.nii.gz', 'labels/BraTS2021_00399_seg.nii.gz', 'labels/BraTS2021_00402_seg.nii.gz', 'labels/BraTS2021_00419_seg.nii.gz', 'labels/BraTS2021_00423_seg.nii.gz', 'labels/BraTS2021_00426_seg.nii.gz', 'labels/BraTS2021_00430_seg.nii.gz', 'labels/BraTS2021_00433_seg.nii.gz', 'labels/BraTS2021_00436_seg.nii.gz', 'labels/BraTS2021_00442_seg.nii.gz', 'labels/BraTS2021_00464_seg.nii.gz', 'labels/BraTS2021_00480_seg.nii.gz', 'labels/BraTS2021_00485_seg.nii.gz', 'labels/BraTS2021_00495_seg.nii.gz', 'labels/BraTS2021_00500_seg.nii.gz', 'labels/BraTS2021_00514_seg.nii.gz', 'labels/BraTS2021_00516_seg.nii.gz', 'labels/BraTS2021_00549_seg.nii.gz', 'labels/BraTS2021_00558_seg.nii.gz', 'labels/BraTS2021_00583_seg.nii.gz', 'labels/BraTS2021_00586_seg.nii.gz', 'labels/BraTS2021_00587_seg.nii.gz', 'labels/BraTS2021_00597_seg.nii.gz', 'labels/BraTS2021_00602_seg.nii.gz', 'labels/BraTS2021_00605_seg.nii.gz', 'labels/BraTS2021_00607_seg.nii.gz', 'labels/BraTS2021_00630_seg.nii.gz', 'labels/BraTS2021_00639_seg.nii.gz', 'labels/BraTS2021_00641_seg.nii.gz', 'labels/BraTS2021_00654_seg.nii.gz', 'labels/BraTS2021_00693_seg.nii.gz', 'labels/BraTS2021_00709_seg.nii.gz', 'labels/BraTS2021_00715_seg.nii.gz', 'labels/BraTS2021_00716_seg.nii.gz', 'labels/BraTS2021_00727_seg.nii.gz', 'labels/BraTS2021_00733_seg.nii.gz', 'labels/BraTS2021_00735_seg.nii.gz', 'labels/BraTS2021_00753_seg.nii.gz', 'labels/BraTS2021_00757_seg.nii.gz', 'labels/BraTS2021_00759_seg.nii.gz', 'labels/BraTS2021_00772_seg.nii.gz', 'labels/BraTS2021_00775_seg.nii.gz', 'labels/BraTS2021_00777_seg.nii.gz', 'labels/BraTS2021_00782_seg.nii.gz', 'labels/BraTS2021_00791_seg.nii.gz', 'labels/BraTS2021_00793_seg.nii.gz', 'labels/BraTS2021_00810_seg.nii.gz', 'labels/BraTS2021_00818_seg.nii.gz', 'labels/BraTS2021_00834_seg.nii.gz', 'labels/BraTS2021_00836_seg.nii.gz', 'labels/BraTS2021_01001_seg.nii.gz', 'labels/BraTS2021_01004_seg.nii.gz', 'labels/BraTS2021_01005_seg.nii.gz', 'labels/BraTS2021_01018_seg.nii.gz', 'labels/BraTS2021_01037_seg.nii.gz', 'labels/BraTS2021_01043_seg.nii.gz', 'labels/BraTS2021_01050_seg.nii.gz', 'labels/BraTS2021_01051_seg.nii.gz', 'labels/BraTS2021_01058_seg.nii.gz', 'labels/BraTS2021_01063_seg.nii.gz', 'labels/BraTS2021_01066_seg.nii.gz', 'labels/BraTS2021_01072_seg.nii.gz', 'labels/BraTS2021_01079_seg.nii.gz', 'labels/BraTS2021_01081_seg.nii.gz', 'labels/BraTS2021_01088_seg.nii.gz', 'labels/BraTS2021_01089_seg.nii.gz', 'labels/BraTS2021_01096_seg.nii.gz', 'labels/BraTS2021_01101_seg.nii.gz', 'labels/BraTS2021_01110_seg.nii.gz', 'labels/BraTS2021_01118_seg.nii.gz', 'labels/BraTS2021_01123_seg.nii.gz', 'labels/BraTS2021_01124_seg.nii.gz', 'labels/BraTS2021_01137_seg.nii.gz', 'labels/BraTS2021_01141_seg.nii.gz', 'labels/BraTS2021_01142_seg.nii.gz', 'labels/BraTS2021_01146_seg.nii.gz', 'labels/BraTS2021_01147_seg.nii.gz', 'labels/BraTS2021_01152_seg.nii.gz', 'labels/BraTS2021_01162_seg.nii.gz', 'labels/BraTS2021_01169_seg.nii.gz', 'labels/BraTS2021_01170_seg.nii.gz', 'labels/BraTS2021_01173_seg.nii.gz', 'labels/BraTS2021_01181_seg.nii.gz', 'labels/BraTS2021_01183_seg.nii.gz', 'labels/BraTS2021_01191_seg.nii.gz', 'labels/BraTS2021_01198_seg.nii.gz', 'labels/BraTS2021_01206_seg.nii.gz', 'labels/BraTS2021_01208_seg.nii.gz', 'labels/BraTS2021_01209_seg.nii.gz', 'labels/BraTS2021_01210_seg.nii.gz', 'labels/BraTS2021_01211_seg.nii.gz', 'labels/BraTS2021_01212_seg.nii.gz', 'labels/BraTS2021_01225_seg.nii.gz', 'labels/BraTS2021_01231_seg.nii.gz', 'labels/BraTS2021_01237_seg.nii.gz', 'labels/BraTS2021_01238_seg.nii.gz', 'labels/BraTS2021_01239_seg.nii.gz', 'labels/BraTS2021_01240_seg.nii.gz', 'labels/BraTS2021_01262_seg.nii.gz', 'labels/BraTS2021_01265_seg.nii.gz', 'labels/BraTS2021_01273_seg.nii.gz', 'labels/BraTS2021_01274_seg.nii.gz', 'labels/BraTS2021_01282_seg.nii.gz', 'labels/BraTS2021_01283_seg.nii.gz', 'labels/BraTS2021_01284_seg.nii.gz', 'labels/BraTS2021_01289_seg.nii.gz', 'labels/BraTS2021_01294_seg.nii.gz', 'labels/BraTS2021_01296_seg.nii.gz', 'labels/BraTS2021_01305_seg.nii.gz', 'labels/BraTS2021_01306_seg.nii.gz', 'labels/BraTS2021_01312_seg.nii.gz', 'labels/BraTS2021_01316_seg.nii.gz', 'labels/BraTS2021_01319_seg.nii.gz', 'labels/BraTS2021_01320_seg.nii.gz', 'labels/BraTS2021_01326_seg.nii.gz', 'labels/BraTS2021_01328_seg.nii.gz', 'labels/BraTS2021_01331_seg.nii.gz', 'labels/BraTS2021_01333_seg.nii.gz', 'labels/BraTS2021_01335_seg.nii.gz', 'labels/BraTS2021_01339_seg.nii.gz', 'labels/BraTS2021_01340_seg.nii.gz', 'labels/BraTS2021_01342_seg.nii.gz', 'labels/BraTS2021_01345_seg.nii.gz', 'labels/BraTS2021_01349_seg.nii.gz', 'labels/BraTS2021_01350_seg.nii.gz', 'labels/BraTS2021_01356_seg.nii.gz', 'labels/BraTS2021_01357_seg.nii.gz', 'labels/BraTS2021_01359_seg.nii.gz', 'labels/BraTS2021_01361_seg.nii.gz', 'labels/BraTS2021_01363_seg.nii.gz', 'labels/BraTS2021_01367_seg.nii.gz', 'labels/BraTS2021_01375_seg.nii.gz', 'labels/BraTS2021_01387_seg.nii.gz', 'labels/BraTS2021_01388_seg.nii.gz', 'labels/BraTS2021_01389_seg.nii.gz', 'labels/BraTS2021_01398_seg.nii.gz', 'labels/BraTS2021_01399_seg.nii.gz', 'labels/BraTS2021_01402_seg.nii.gz', 'labels/BraTS2021_01423_seg.nii.gz', 'labels/BraTS2021_01425_seg.nii.gz', 'labels/BraTS2021_01440_seg.nii.gz', 'labels/BraTS2021_01443_seg.nii.gz', 'labels/BraTS2021_01450_seg.nii.gz', 'labels/BraTS2021_01461_seg.nii.gz', 'labels/BraTS2021_01465_seg.nii.gz', 'labels/BraTS2021_01467_seg.nii.gz', 'labels/BraTS2021_01476_seg.nii.gz', 'labels/BraTS2021_01480_seg.nii.gz', 'labels/BraTS2021_01481_seg.nii.gz', 'labels/BraTS2021_01488_seg.nii.gz', 'labels/BraTS2021_01489_seg.nii.gz', 'labels/BraTS2021_01490_seg.nii.gz', 'labels/BraTS2021_01492_seg.nii.gz', 'labels/BraTS2021_01494_seg.nii.gz', 'labels/BraTS2021_01496_seg.nii.gz', 'labels/BraTS2021_01500_seg.nii.gz', 'labels/BraTS2021_01501_seg.nii.gz', 'labels/BraTS2021_01507_seg.nii.gz', 'labels/BraTS2021_01513_seg.nii.gz', 'labels/BraTS2021_01518_seg.nii.gz', 'labels/BraTS2021_01521_seg.nii.gz', 'labels/BraTS2021_01522_seg.nii.gz', 'labels/BraTS2021_01524_seg.nii.gz', 'labels/BraTS2021_01530_seg.nii.gz', 'labels/BraTS2021_01538_seg.nii.gz', 'labels/BraTS2021_01540_seg.nii.gz', 'labels/BraTS2021_01547_seg.nii.gz', 'labels/BraTS2021_01560_seg.nii.gz', 'labels/BraTS2021_01562_seg.nii.gz', 'labels/BraTS2021_01566_seg.nii.gz', 'labels/BraTS2021_01567_seg.nii.gz', 'labels/BraTS2021_01582_seg.nii.gz', 'labels/BraTS2021_01584_seg.nii.gz', 'labels/BraTS2021_01593_seg.nii.gz', 'labels/BraTS2021_01594_seg.nii.gz', 'labels/BraTS2021_01599_seg.nii.gz', 'labels/BraTS2021_01601_seg.nii.gz', 'labels/BraTS2021_01608_seg.nii.gz', 'labels/BraTS2021_01609_seg.nii.gz', 'labels/BraTS2021_01613_seg.nii.gz', 'labels/BraTS2021_01614_seg.nii.gz', 'labels/BraTS2021_01626_seg.nii.gz', 'labels/BraTS2021_01634_seg.nii.gz', 'labels/BraTS2021_01651_seg.nii.gz', 'labels/BraTS2021_01652_seg.nii.gz', 'labels/BraTS2021_01653_seg.nii.gz', 'labels/BraTS2021_01660_seg.nii.gz', 'labels/BraTS2021_01661_seg.nii.gz', 'labels/BraTS2021_01662_seg.nii.gz', 'labels/BraTS2021_01667_seg.nii.gz', 'labels/BraTS2021_01669_seg.nii.gz', 'labels/BraTS2021_01675_seg.nii.gz', 'labels/BraTS2021_01676_seg.nii.gz', 'labels/BraTS2021_01678_seg.nii.gz', 'labels/BraTS2021_01680_seg.nii.gz', 'labels/BraTS2021_01683_seg.nii.gz', 'labels/BraTS2021_01686_seg.nii.gz', 'labels/BraTS2021_01709_seg.nii.gz', 'labels/BraTS2021_01712_seg.nii.gz', 'labels/BraTS2021_01713_seg.nii.gz', 'labels/BraTS2021_01715_seg.nii.gz', 'labels/BraTS2021_01718_seg.nii.gz', 'labels/BraTS2021_01732_seg.nii.gz', 'labels/BraTS2021_01740_seg.nii.gz', 'labels/BraTS2021_01746_seg.nii.gz', 'labels/BraTS2021_01752_seg.nii.gz', 'labels/BraTS2021_01753_seg.nii.gz', 'labels/BraTS2021_01756_seg.nii.gz', 'labels/BraTS2021_01763_seg.nii.gz']\n",
      "Preparing time: 81.40\n",
      "Finished!\n"
     ]
    }
   ],
   "source": [
    "prepare_dataset(\"/home/workstation04/GP_MMMAI/BraTS2021_PED_Random\", True)\n",
    "print(\"Finished!\")"
   ]
  },
  {
   "cell_type": "markdown",
   "metadata": {},
   "source": [
    "--------------------------------------------------\n",
    "# preprocessing"
   ]
  },
  {
   "cell_type": "code",
   "execution_count": null,
   "metadata": {},
   "outputs": [
    {
     "name": "stdout",
     "output_type": "stream",
     "text": [
      "2024-03-06 12:56:31.535090: E tensorflow/compiler/xla/stream_executor/cuda/cuda_dnn.cc:9342] Unable to register cuDNN factory: Attempting to register factory for plugin cuDNN when one has already been registered\n",
      "2024-03-06 12:56:31.535128: E tensorflow/compiler/xla/stream_executor/cuda/cuda_fft.cc:609] Unable to register cuFFT factory: Attempting to register factory for plugin cuFFT when one has already been registered\n",
      "2024-03-06 12:56:31.535908: E tensorflow/compiler/xla/stream_executor/cuda/cuda_blas.cc:1518] Unable to register cuBLAS factory: Attempting to register factory for plugin cuBLAS when one has already been registered\n",
      "2024-03-06 12:56:31.607722: I tensorflow/core/platform/cpu_feature_guard.cc:182] This TensorFlow binary is optimized to use available CPU instructions in performance-critical operations.\n",
      "To enable the following instructions: AVX2 FMA, in other operations, rebuild TensorFlow with the appropriate compiler flags.\n",
      "2024-03-06 12:56:32.613964: W tensorflow/compiler/tf2tensorrt/utils/py_utils.cc:38] TF-TRT Warning: Could not find TensorRT\n",
      "Preprocessing /media/workstation04/New Volume/MMMAI/NVIDIA_PED_Trial/Random_selection/data/BraTS2021_train\n",
      "2024-03-06 12:56:42.314225: E tensorflow/compiler/xla/stream_executor/cuda/cuda_dnn.cc:9342] Unable to register cuDNN factory: Attempting to register factory for plugin cuDNN when one has already been registered\n",
      "2024-03-06 12:56:42.314286: E tensorflow/compiler/xla/stream_executor/cuda/cuda_fft.cc:609] Unable to register cuFFT factory: Attempting to register factory for plugin cuFFT when one has already been registered\n",
      "2024-03-06 12:56:42.314343: E tensorflow/compiler/xla/stream_executor/cuda/cuda_blas.cc:1518] Unable to register cuBLAS factory: Attempting to register factory for plugin cuBLAS when one has already been registered\n",
      "2024-03-06 12:56:42.325414: I tensorflow/core/platform/cpu_feature_guard.cc:182] This TensorFlow binary is optimized to use available CPU instructions in performance-critical operations.\n",
      "To enable the following instructions: AVX2 FMA, in other operations, rebuild TensorFlow with the appropriate compiler flags.\n",
      "2024-03-06 12:56:42.330743: E tensorflow/compiler/xla/stream_executor/cuda/cuda_dnn.cc:9342] Unable to register cuDNN factory: Attempting to register factory for plugin cuDNN when one has already been registered\n",
      "2024-03-06 12:56:42.330813: E tensorflow/compiler/xla/stream_executor/cuda/cuda_fft.cc:609] Unable to register cuFFT factory: Attempting to register factory for plugin cuFFT when one has already been registered\n",
      "2024-03-06 12:56:42.330866: E tensorflow/compiler/xla/stream_executor/cuda/cuda_blas.cc:1518] Unable to register cuBLAS factory: Attempting to register factory for plugin cuBLAS when one has already been registered\n",
      "2024-03-06 12:56:42.339718: I tensorflow/core/platform/cpu_feature_guard.cc:182] This TensorFlow binary is optimized to use available CPU instructions in performance-critical operations.\n",
      "To enable the following instructions: AVX2 FMA, in other operations, rebuild TensorFlow with the appropriate compiler flags.\n",
      "2024-03-06 12:56:42.406873: E tensorflow/compiler/xla/stream_executor/cuda/cuda_dnn.cc:9342] Unable to register cuDNN factory: Attempting to register factory for plugin cuDNN when one has already been registered\n",
      "2024-03-06 12:56:42.406933: E tensorflow/compiler/xla/stream_executor/cuda/cuda_fft.cc:609] Unable to register cuFFT factory: Attempting to register factory for plugin cuFFT when one has already been registered\n",
      "2024-03-06 12:56:42.407012: E tensorflow/compiler/xla/stream_executor/cuda/cuda_blas.cc:1518] Unable to register cuBLAS factory: Attempting to register factory for plugin cuBLAS when one has already been registered\n",
      "2024-03-06 12:56:42.417166: I tensorflow/core/platform/cpu_feature_guard.cc:182] This TensorFlow binary is optimized to use available CPU instructions in performance-critical operations.\n",
      "To enable the following instructions: AVX2 FMA, in other operations, rebuild TensorFlow with the appropriate compiler flags.\n",
      "2024-03-06 12:56:42.541757: E tensorflow/compiler/xla/stream_executor/cuda/cuda_dnn.cc:9342] Unable to register cuDNN factory: Attempting to register factory for plugin cuDNN when one has already been registered\n",
      "2024-03-06 12:56:42.541848: E tensorflow/compiler/xla/stream_executor/cuda/cuda_fft.cc:609] Unable to register cuFFT factory: Attempting to register factory for plugin cuFFT when one has already been registered\n",
      "2024-03-06 12:56:42.541916: E tensorflow/compiler/xla/stream_executor/cuda/cuda_blas.cc:1518] Unable to register cuBLAS factory: Attempting to register factory for plugin cuBLAS when one has already been registered\n",
      "2024-03-06 12:56:42.553017: I tensorflow/core/platform/cpu_feature_guard.cc:182] This TensorFlow binary is optimized to use available CPU instructions in performance-critical operations.\n",
      "To enable the following instructions: AVX2 FMA, in other operations, rebuild TensorFlow with the appropriate compiler flags.\n",
      "2024-03-06 12:56:42.640402: E tensorflow/compiler/xla/stream_executor/cuda/cuda_dnn.cc:9342] Unable to register cuDNN factory: Attempting to register factory for plugin cuDNN when one has already been registered\n",
      "2024-03-06 12:56:42.640455: E tensorflow/compiler/xla/stream_executor/cuda/cuda_fft.cc:609] Unable to register cuFFT factory: Attempting to register factory for plugin cuFFT when one has already been registered\n",
      "2024-03-06 12:56:42.640518: E tensorflow/compiler/xla/stream_executor/cuda/cuda_blas.cc:1518] Unable to register cuBLAS factory: Attempting to register factory for plugin cuBLAS when one has already been registered\n",
      "2024-03-06 12:56:42.644368: E tensorflow/compiler/xla/stream_executor/cuda/cuda_dnn.cc:9342] Unable to register cuDNN factory: Attempting to register factory for plugin cuDNN when one has already been registered\n",
      "2024-03-06 12:56:42.644437: E tensorflow/compiler/xla/stream_executor/cuda/cuda_fft.cc:609] Unable to register cuFFT factory: Attempting to register factory for plugin cuFFT when one has already been registered\n",
      "2024-03-06 12:56:42.644493: E tensorflow/compiler/xla/stream_executor/cuda/cuda_blas.cc:1518] Unable to register cuBLAS factory: Attempting to register factory for plugin cuBLAS when one has already been registered\n",
      "2024-03-06 12:56:42.652733: I tensorflow/core/platform/cpu_feature_guard.cc:182] This TensorFlow binary is optimized to use available CPU instructions in performance-critical operations.\n",
      "To enable the following instructions: AVX2 FMA, in other operations, rebuild TensorFlow with the appropriate compiler flags.\n",
      "2024-03-06 12:56:42.655003: I tensorflow/core/platform/cpu_feature_guard.cc:182] This TensorFlow binary is optimized to use available CPU instructions in performance-critical operations.\n",
      "To enable the following instructions: AVX2 FMA, in other operations, rebuild TensorFlow with the appropriate compiler flags.\n",
      "2024-03-06 12:56:42.679701: E tensorflow/compiler/xla/stream_executor/cuda/cuda_dnn.cc:9342] Unable to register cuDNN factory: Attempting to register factory for plugin cuDNN when one has already been registered\n",
      "2024-03-06 12:56:42.679761: E tensorflow/compiler/xla/stream_executor/cuda/cuda_fft.cc:609] Unable to register cuFFT factory: Attempting to register factory for plugin cuFFT when one has already been registered\n",
      "2024-03-06 12:56:42.679813: E tensorflow/compiler/xla/stream_executor/cuda/cuda_blas.cc:1518] Unable to register cuBLAS factory: Attempting to register factory for plugin cuBLAS when one has already been registered\n",
      "2024-03-06 12:56:42.690258: E tensorflow/compiler/xla/stream_executor/cuda/cuda_dnn.cc:9342] Unable to register cuDNN factory: Attempting to register factory for plugin cuDNN when one has already been registered\n",
      "2024-03-06 12:56:42.690324: E tensorflow/compiler/xla/stream_executor/cuda/cuda_fft.cc:609] Unable to register cuFFT factory: Attempting to register factory for plugin cuFFT when one has already been registered\n",
      "2024-03-06 12:56:42.690368: I tensorflow/core/platform/cpu_feature_guard.cc:182] This TensorFlow binary is optimized to use available CPU instructions in performance-critical operations.\n",
      "To enable the following instructions: AVX2 FMA, in other operations, rebuild TensorFlow with the appropriate compiler flags.\n",
      "2024-03-06 12:56:42.690399: E tensorflow/compiler/xla/stream_executor/cuda/cuda_blas.cc:1518] Unable to register cuBLAS factory: Attempting to register factory for plugin cuBLAS when one has already been registered\n",
      "2024-03-06 12:56:42.700197: I tensorflow/core/platform/cpu_feature_guard.cc:182] This TensorFlow binary is optimized to use available CPU instructions in performance-critical operations.\n",
      "To enable the following instructions: AVX2 FMA, in other operations, rebuild TensorFlow with the appropriate compiler flags.\n",
      "2024-03-06 12:56:42.702025: E tensorflow/compiler/xla/stream_executor/cuda/cuda_dnn.cc:9342] Unable to register cuDNN factory: Attempting to register factory for plugin cuDNN when one has already been registered\n",
      "2024-03-06 12:56:42.702151: E tensorflow/compiler/xla/stream_executor/cuda/cuda_fft.cc:609] Unable to register cuFFT factory: Attempting to register factory for plugin cuFFT when one has already been registered\n",
      "2024-03-06 12:56:42.702217: E tensorflow/compiler/xla/stream_executor/cuda/cuda_blas.cc:1518] Unable to register cuBLAS factory: Attempting to register factory for plugin cuBLAS when one has already been registered\n",
      "2024-03-06 12:56:42.712357: I tensorflow/core/platform/cpu_feature_guard.cc:182] This TensorFlow binary is optimized to use available CPU instructions in performance-critical operations.\n",
      "To enable the following instructions: AVX2 FMA, in other operations, rebuild TensorFlow with the appropriate compiler flags.\n",
      "2024-03-06 12:56:42.733856: E tensorflow/compiler/xla/stream_executor/cuda/cuda_dnn.cc:9342] Unable to register cuDNN factory: Attempting to register factory for plugin cuDNN when one has already been registered\n",
      "2024-03-06 12:56:42.733931: E tensorflow/compiler/xla/stream_executor/cuda/cuda_fft.cc:609] Unable to register cuFFT factory: Attempting to register factory for plugin cuFFT when one has already been registered\n",
      "2024-03-06 12:56:42.733983: E tensorflow/compiler/xla/stream_executor/cuda/cuda_blas.cc:1518] Unable to register cuBLAS factory: Attempting to register factory for plugin cuBLAS when one has already been registered\n",
      "2024-03-06 12:56:42.746368: I tensorflow/core/platform/cpu_feature_guard.cc:182] This TensorFlow binary is optimized to use available CPU instructions in performance-critical operations.\n",
      "To enable the following instructions: AVX2 FMA, in other operations, rebuild TensorFlow with the appropriate compiler flags.\n",
      "2024-03-06 12:56:42.792911: E tensorflow/compiler/xla/stream_executor/cuda/cuda_dnn.cc:9342] Unable to register cuDNN factory: Attempting to register factory for plugin cuDNN when one has already been registered\n",
      "2024-03-06 12:56:42.793072: E tensorflow/compiler/xla/stream_executor/cuda/cuda_fft.cc:609] Unable to register cuFFT factory: Attempting to register factory for plugin cuFFT when one has already been registered\n",
      "2024-03-06 12:56:42.793135: E tensorflow/compiler/xla/stream_executor/cuda/cuda_blas.cc:1518] Unable to register cuBLAS factory: Attempting to register factory for plugin cuBLAS when one has already been registered\n",
      "2024-03-06 12:56:42.799983: E tensorflow/compiler/xla/stream_executor/cuda/cuda_dnn.cc:9342] Unable to register cuDNN factory: Attempting to register factory for plugin cuDNN when one has already been registered\n",
      "2024-03-06 12:56:42.800143: E tensorflow/compiler/xla/stream_executor/cuda/cuda_fft.cc:609] Unable to register cuFFT factory: Attempting to register factory for plugin cuFFT when one has already been registered\n",
      "2024-03-06 12:56:42.800217: E tensorflow/compiler/xla/stream_executor/cuda/cuda_blas.cc:1518] Unable to register cuBLAS factory: Attempting to register factory for plugin cuBLAS when one has already been registered\n",
      "2024-03-06 12:56:42.804782: I tensorflow/core/platform/cpu_feature_guard.cc:182] This TensorFlow binary is optimized to use available CPU instructions in performance-critical operations.\n",
      "To enable the following instructions: AVX2 FMA, in other operations, rebuild TensorFlow with the appropriate compiler flags.\n",
      "2024-03-06 12:56:42.810850: I tensorflow/core/platform/cpu_feature_guard.cc:182] This TensorFlow binary is optimized to use available CPU instructions in performance-critical operations.\n",
      "To enable the following instructions: AVX2 FMA, in other operations, rebuild TensorFlow with the appropriate compiler flags.\n",
      "2024-03-06 12:56:42.831301: E tensorflow/compiler/xla/stream_executor/cuda/cuda_dnn.cc:9342] Unable to register cuDNN factory: Attempting to register factory for plugin cuDNN when one has already been registered\n",
      "2024-03-06 12:56:42.831365: E tensorflow/compiler/xla/stream_executor/cuda/cuda_fft.cc:609] Unable to register cuFFT factory: Attempting to register factory for plugin cuFFT when one has already been registered\n",
      "2024-03-06 12:56:42.831441: E tensorflow/compiler/xla/stream_executor/cuda/cuda_blas.cc:1518] Unable to register cuBLAS factory: Attempting to register factory for plugin cuBLAS when one has already been registered\n",
      "2024-03-06 12:56:42.842631: I tensorflow/core/platform/cpu_feature_guard.cc:182] This TensorFlow binary is optimized to use available CPU instructions in performance-critical operations.\n",
      "To enable the following instructions: AVX2 FMA, in other operations, rebuild TensorFlow with the appropriate compiler flags.\n",
      "2024-03-06 12:56:42.892795: E tensorflow/compiler/xla/stream_executor/cuda/cuda_dnn.cc:9342] Unable to register cuDNN factory: Attempting to register factory for plugin cuDNN when one has already been registered\n",
      "2024-03-06 12:56:42.892862: E tensorflow/compiler/xla/stream_executor/cuda/cuda_fft.cc:609] Unable to register cuFFT factory: Attempting to register factory for plugin cuFFT when one has already been registered\n",
      "2024-03-06 12:56:42.892914: E tensorflow/compiler/xla/stream_executor/cuda/cuda_blas.cc:1518] Unable to register cuBLAS factory: Attempting to register factory for plugin cuBLAS when one has already been registered\n",
      "2024-03-06 12:56:42.892973: E tensorflow/compiler/xla/stream_executor/cuda/cuda_dnn.cc:9342] Unable to register cuDNN factory: Attempting to register factory for plugin cuDNN when one has already been registered\n",
      "2024-03-06 12:56:42.893023: E tensorflow/compiler/xla/stream_executor/cuda/cuda_fft.cc:609] Unable to register cuFFT factory: Attempting to register factory for plugin cuFFT when one has already been registered\n",
      "2024-03-06 12:56:42.893067: E tensorflow/compiler/xla/stream_executor/cuda/cuda_blas.cc:1518] Unable to register cuBLAS factory: Attempting to register factory for plugin cuBLAS when one has already been registered\n",
      "2024-03-06 12:56:42.893072: E tensorflow/compiler/xla/stream_executor/cuda/cuda_dnn.cc:9342] Unable to register cuDNN factory: Attempting to register factory for plugin cuDNN when one has already been registered\n",
      "2024-03-06 12:56:42.893113: E tensorflow/compiler/xla/stream_executor/cuda/cuda_fft.cc:609] Unable to register cuFFT factory: Attempting to register factory for plugin cuFFT when one has already been registered\n",
      "2024-03-06 12:56:42.893163: E tensorflow/compiler/xla/stream_executor/cuda/cuda_blas.cc:1518] Unable to register cuBLAS factory: Attempting to register factory for plugin cuBLAS when one has already been registered\n",
      "2024-03-06 12:56:42.895012: E tensorflow/compiler/xla/stream_executor/cuda/cuda_dnn.cc:9342] Unable to register cuDNN factory: Attempting to register factory for plugin cuDNN when one has already been registered\n",
      "2024-03-06 12:56:42.895069: E tensorflow/compiler/xla/stream_executor/cuda/cuda_fft.cc:609] Unable to register cuFFT factory: Attempting to register factory for plugin cuFFT when one has already been registered\n",
      "2024-03-06 12:56:42.895119: E tensorflow/compiler/xla/stream_executor/cuda/cuda_blas.cc:1518] Unable to register cuBLAS factory: Attempting to register factory for plugin cuBLAS when one has already been registered\n",
      "2024-03-06 12:56:42.902610: E tensorflow/compiler/xla/stream_executor/cuda/cuda_dnn.cc:9342] Unable to register cuDNN factory: Attempting to register factory for plugin cuDNN when one has already been registered\n",
      "2024-03-06 12:56:42.902673: E tensorflow/compiler/xla/stream_executor/cuda/cuda_fft.cc:609] Unable to register cuFFT factory: Attempting to register factory for plugin cuFFT when one has already been registered\n",
      "2024-03-06 12:56:42.902736: E tensorflow/compiler/xla/stream_executor/cuda/cuda_blas.cc:1518] Unable to register cuBLAS factory: Attempting to register factory for plugin cuBLAS when one has already been registered\n",
      "2024-03-06 12:56:42.904049: I tensorflow/core/platform/cpu_feature_guard.cc:182] This TensorFlow binary is optimized to use available CPU instructions in performance-critical operations.\n",
      "To enable the following instructions: AVX2 FMA, in other operations, rebuild TensorFlow with the appropriate compiler flags.\n",
      "2024-03-06 12:56:42.904284: I tensorflow/core/platform/cpu_feature_guard.cc:182] This TensorFlow binary is optimized to use available CPU instructions in performance-critical operations.\n",
      "To enable the following instructions: AVX2 FMA, in other operations, rebuild TensorFlow with the appropriate compiler flags.\n",
      "2024-03-06 12:56:42.906750: I tensorflow/core/platform/cpu_feature_guard.cc:182] This TensorFlow binary is optimized to use available CPU instructions in performance-critical operations.\n",
      "To enable the following instructions: AVX2 FMA, in other operations, rebuild TensorFlow with the appropriate compiler flags.\n",
      "2024-03-06 12:56:42.904058: I tensorflow/core/platform/cpu_feature_guard.cc:182] This TensorFlow binary is optimized to use available CPU instructions in performance-critical operations.\n",
      "To enable the following instructions: AVX2 FMA, in other operations, rebuild TensorFlow with the appropriate compiler flags.\n",
      "2024-03-06 12:56:42.913430: I tensorflow/core/platform/cpu_feature_guard.cc:182] This TensorFlow binary is optimized to use available CPU instructions in performance-critical operations.\n",
      "To enable the following instructions: AVX2 FMA, in other operations, rebuild TensorFlow with the appropriate compiler flags.\n",
      "2024-03-06 12:56:42.935761: E tensorflow/compiler/xla/stream_executor/cuda/cuda_dnn.cc:9342] Unable to register cuDNN factory: Attempting to register factory for plugin cuDNN when one has already been registered\n",
      "2024-03-06 12:56:42.935920: E tensorflow/compiler/xla/stream_executor/cuda/cuda_fft.cc:609] Unable to register cuFFT factory: Attempting to register factory for plugin cuFFT when one has already been registered\n",
      "2024-03-06 12:56:42.935982: E tensorflow/compiler/xla/stream_executor/cuda/cuda_blas.cc:1518] Unable to register cuBLAS factory: Attempting to register factory for plugin cuBLAS when one has already been registered\n",
      "2024-03-06 12:56:42.942044: E tensorflow/compiler/xla/stream_executor/cuda/cuda_dnn.cc:9342] Unable to register cuDNN factory: Attempting to register factory for plugin cuDNN when one has already been registered\n",
      "2024-03-06 12:56:42.942186: E tensorflow/compiler/xla/stream_executor/cuda/cuda_fft.cc:609] Unable to register cuFFT factory: Attempting to register factory for plugin cuFFT when one has already been registered\n",
      "2024-03-06 12:56:42.942249: E tensorflow/compiler/xla/stream_executor/cuda/cuda_blas.cc:1518] Unable to register cuBLAS factory: Attempting to register factory for plugin cuBLAS when one has already been registered\n",
      "2024-03-06 12:56:42.946777: I tensorflow/core/platform/cpu_feature_guard.cc:182] This TensorFlow binary is optimized to use available CPU instructions in performance-critical operations.\n",
      "To enable the following instructions: AVX2 FMA, in other operations, rebuild TensorFlow with the appropriate compiler flags.\n",
      "2024-03-06 12:56:42.952762: I tensorflow/core/platform/cpu_feature_guard.cc:182] This TensorFlow binary is optimized to use available CPU instructions in performance-critical operations.\n",
      "To enable the following instructions: AVX2 FMA, in other operations, rebuild TensorFlow with the appropriate compiler flags.\n",
      "2024-03-06 12:56:42.999055: E tensorflow/compiler/xla/stream_executor/cuda/cuda_dnn.cc:9342] Unable to register cuDNN factory: Attempting to register factory for plugin cuDNN when one has already been registered\n",
      "2024-03-06 12:56:42.999121: E tensorflow/compiler/xla/stream_executor/cuda/cuda_fft.cc:609] Unable to register cuFFT factory: Attempting to register factory for plugin cuFFT when one has already been registered\n",
      "2024-03-06 12:56:42.999174: E tensorflow/compiler/xla/stream_executor/cuda/cuda_blas.cc:1518] Unable to register cuBLAS factory: Attempting to register factory for plugin cuBLAS when one has already been registered\n",
      "2024-03-06 12:56:43.010854: I tensorflow/core/platform/cpu_feature_guard.cc:182] This TensorFlow binary is optimized to use available CPU instructions in performance-critical operations.\n",
      "To enable the following instructions: AVX2 FMA, in other operations, rebuild TensorFlow with the appropriate compiler flags.\n",
      "2024-03-06 12:56:43.081882: E tensorflow/compiler/xla/stream_executor/cuda/cuda_dnn.cc:9342] Unable to register cuDNN factory: Attempting to register factory for plugin cuDNN when one has already been registered\n",
      "2024-03-06 12:56:43.081946: E tensorflow/compiler/xla/stream_executor/cuda/cuda_fft.cc:609] Unable to register cuFFT factory: Attempting to register factory for plugin cuFFT when one has already been registered\n",
      "2024-03-06 12:56:43.082005: E tensorflow/compiler/xla/stream_executor/cuda/cuda_blas.cc:1518] Unable to register cuBLAS factory: Attempting to register factory for plugin cuBLAS when one has already been registered\n",
      "2024-03-06 12:56:43.087002: E tensorflow/compiler/xla/stream_executor/cuda/cuda_dnn.cc:9342] Unable to register cuDNN factory: Attempting to register factory for plugin cuDNN when one has already been registered\n",
      "2024-03-06 12:56:43.087150: E tensorflow/compiler/xla/stream_executor/cuda/cuda_fft.cc:609] Unable to register cuFFT factory: Attempting to register factory for plugin cuFFT when one has already been registered\n",
      "2024-03-06 12:56:43.087212: E tensorflow/compiler/xla/stream_executor/cuda/cuda_blas.cc:1518] Unable to register cuBLAS factory: Attempting to register factory for plugin cuBLAS when one has already been registered\n",
      "2024-03-06 12:56:43.097201: I tensorflow/core/platform/cpu_feature_guard.cc:182] This TensorFlow binary is optimized to use available CPU instructions in performance-critical operations.\n",
      "To enable the following instructions: AVX2 FMA, in other operations, rebuild TensorFlow with the appropriate compiler flags.\n",
      "2024-03-06 12:56:43.101928: I tensorflow/core/platform/cpu_feature_guard.cc:182] This TensorFlow binary is optimized to use available CPU instructions in performance-critical operations.\n",
      "To enable the following instructions: AVX2 FMA, in other operations, rebuild TensorFlow with the appropriate compiler flags.\n",
      "2024-03-06 12:56:43.223129: E tensorflow/compiler/xla/stream_executor/cuda/cuda_dnn.cc:9342] Unable to register cuDNN factory: Attempting to register factory for plugin cuDNN when one has already been registered\n",
      "2024-03-06 12:56:43.223197: E tensorflow/compiler/xla/stream_executor/cuda/cuda_fft.cc:609] Unable to register cuFFT factory: Attempting to register factory for plugin cuFFT when one has already been registered\n",
      "2024-03-06 12:56:43.223250: E tensorflow/compiler/xla/stream_executor/cuda/cuda_blas.cc:1518] Unable to register cuBLAS factory: Attempting to register factory for plugin cuBLAS when one has already been registered\n",
      "2024-03-06 12:56:43.235138: I tensorflow/core/platform/cpu_feature_guard.cc:182] This TensorFlow binary is optimized to use available CPU instructions in performance-critical operations.\n",
      "To enable the following instructions: AVX2 FMA, in other operations, rebuild TensorFlow with the appropriate compiler flags.\n",
      "2024-03-06 12:56:43.681783: W tensorflow/compiler/tf2tensorrt/utils/py_utils.cc:38] TF-TRT Warning: Could not find TensorRT\n",
      "2024-03-06 12:56:43.784703: W tensorflow/compiler/tf2tensorrt/utils/py_utils.cc:38] TF-TRT Warning: Could not find TensorRT\n",
      "2024-03-06 12:56:43.914503: W tensorflow/compiler/tf2tensorrt/utils/py_utils.cc:38] TF-TRT Warning: Could not find TensorRT\n",
      "2024-03-06 12:56:43.951580: W tensorflow/compiler/tf2tensorrt/utils/py_utils.cc:38] TF-TRT Warning: Could not find TensorRT\n",
      "2024-03-06 12:56:44.058042: W tensorflow/compiler/tf2tensorrt/utils/py_utils.cc:38] TF-TRT Warning: Could not find TensorRT\n",
      "2024-03-06 12:56:44.101669: W tensorflow/compiler/tf2tensorrt/utils/py_utils.cc:38] TF-TRT Warning: Could not find TensorRT\n",
      "2024-03-06 12:56:44.232433: W tensorflow/compiler/tf2tensorrt/utils/py_utils.cc:38] TF-TRT Warning: Could not find TensorRT\n",
      "2024-03-06 12:56:44.258435: W tensorflow/compiler/tf2tensorrt/utils/py_utils.cc:38] TF-TRT Warning: Could not find TensorRT\n",
      "2024-03-06 12:56:44.304439: W tensorflow/compiler/tf2tensorrt/utils/py_utils.cc:38] TF-TRT Warning: Could not find TensorRT\n",
      "2024-03-06 12:56:44.340632: W tensorflow/compiler/tf2tensorrt/utils/py_utils.cc:38] TF-TRT Warning: Could not find TensorRT\n",
      "2024-03-06 12:56:44.358149: W tensorflow/compiler/tf2tensorrt/utils/py_utils.cc:38] TF-TRT Warning: Could not find TensorRT\n",
      "2024-03-06 12:56:44.365527: W tensorflow/compiler/tf2tensorrt/utils/py_utils.cc:38] TF-TRT Warning: Could not find TensorRT\n",
      "2024-03-06 12:56:44.366778: W tensorflow/compiler/tf2tensorrt/utils/py_utils.cc:38] TF-TRT Warning: Could not find TensorRT\n",
      "2024-03-06 12:56:44.394884: W tensorflow/compiler/tf2tensorrt/utils/py_utils.cc:38] TF-TRT Warning: Could not find TensorRT\n",
      "2024-03-06 12:56:44.426972: W tensorflow/compiler/tf2tensorrt/utils/py_utils.cc:38] TF-TRT Warning: Could not find TensorRT\n",
      "2024-03-06 12:56:44.434157: W tensorflow/compiler/tf2tensorrt/utils/py_utils.cc:38] TF-TRT Warning: Could not find TensorRT\n",
      "2024-03-06 12:56:44.450262: W tensorflow/compiler/tf2tensorrt/utils/py_utils.cc:38] TF-TRT Warning: Could not find TensorRT\n",
      "2024-03-06 12:56:44.460956: W tensorflow/compiler/tf2tensorrt/utils/py_utils.cc:38] TF-TRT Warning: Could not find TensorRT\n",
      "2024-03-06 12:56:44.503617: W tensorflow/compiler/tf2tensorrt/utils/py_utils.cc:38] TF-TRT Warning: Could not find TensorRT\n",
      "2024-03-06 12:56:44.510199: W tensorflow/compiler/tf2tensorrt/utils/py_utils.cc:38] TF-TRT Warning: Could not find TensorRT\n",
      "2024-03-06 12:56:44.513656: W tensorflow/compiler/tf2tensorrt/utils/py_utils.cc:38] TF-TRT Warning: Could not find TensorRT\n",
      "2024-03-06 12:56:44.556178: W tensorflow/compiler/tf2tensorrt/utils/py_utils.cc:38] TF-TRT Warning: Could not find TensorRT\n",
      "2024-03-06 12:56:44.558208: W tensorflow/compiler/tf2tensorrt/utils/py_utils.cc:38] TF-TRT Warning: Could not find TensorRT\n",
      "2024-03-06 12:56:44.632344: W tensorflow/compiler/tf2tensorrt/utils/py_utils.cc:38] TF-TRT Warning: Could not find TensorRT\n",
      "Pre-processing time: 255.35\n",
      "Finished!\n"
     ]
    }
   ],
   "source": [
    "# Preprocessing the data (NVIDIA nnUNet)\n",
    "# task 11 is set for brats\n",
    "# change exec_mode to val --> wont expect seg\n",
    "!python3 /home/workstation04/GP_MMMAI/Notebooks/NVIDIA_nnUNet/DeepLearningExamples/PyTorch/Segmentation/nnUNet/preprocess.py --task 11  --exec_mode training --data \"/media/workstation04/New Volume/MMMAI/NVIDIA_PED_Trial/Random_selection/data\" --results \"/media/workstation04/New Volume/MMMAI/NVIDIA_PED_Trial/Random_selection\" --ohe\n",
    "print(\"Finished!\")"
   ]
  },
  {
   "cell_type": "code",
   "execution_count": null,
   "metadata": {},
   "outputs": [
    {
     "name": "stdout",
     "output_type": "stream",
     "text": [
      "2024-03-06 10:29:51.964941: E tensorflow/compiler/xla/stream_executor/cuda/cuda_dnn.cc:9342] Unable to register cuDNN factory: Attempting to register factory for plugin cuDNN when one has already been registered\n",
      "2024-03-06 10:29:51.964983: E tensorflow/compiler/xla/stream_executor/cuda/cuda_fft.cc:609] Unable to register cuFFT factory: Attempting to register factory for plugin cuFFT when one has already been registered\n",
      "2024-03-06 10:29:51.965022: E tensorflow/compiler/xla/stream_executor/cuda/cuda_blas.cc:1518] Unable to register cuBLAS factory: Attempting to register factory for plugin cuBLAS when one has already been registered\n",
      "2024-03-06 10:29:51.972582: I tensorflow/core/platform/cpu_feature_guard.cc:182] This TensorFlow binary is optimized to use available CPU instructions in performance-critical operations.\n",
      "To enable the following instructions: AVX2 FMA, in other operations, rebuild TensorFlow with the appropriate compiler flags.\n",
      "2024-03-06 10:29:52.995064: W tensorflow/compiler/tf2tensorrt/utils/py_utils.cc:38] TF-TRT Warning: Could not find TensorRT\n",
      "Preprocessing /media/workstation04/New Volume/MMMAI/NVIDIA_PED_Trial/PED_testset/data/BraTS2021_train\n",
      "2024-03-06 10:30:00.493227: E tensorflow/compiler/xla/stream_executor/cuda/cuda_dnn.cc:9342] Unable to register cuDNN factory: Attempting to register factory for plugin cuDNN when one has already been registered\n",
      "2024-03-06 10:30:00.493269: E tensorflow/compiler/xla/stream_executor/cuda/cuda_fft.cc:609] Unable to register cuFFT factory: Attempting to register factory for plugin cuFFT when one has already been registered\n",
      "2024-03-06 10:30:00.493306: E tensorflow/compiler/xla/stream_executor/cuda/cuda_blas.cc:1518] Unable to register cuBLAS factory: Attempting to register factory for plugin cuBLAS when one has already been registered\n",
      "2024-03-06 10:30:00.500587: I tensorflow/core/platform/cpu_feature_guard.cc:182] This TensorFlow binary is optimized to use available CPU instructions in performance-critical operations.\n",
      "To enable the following instructions: AVX2 FMA, in other operations, rebuild TensorFlow with the appropriate compiler flags.\n",
      "2024-03-06 10:30:00.650259: E tensorflow/compiler/xla/stream_executor/cuda/cuda_dnn.cc:9342] Unable to register cuDNN factory: Attempting to register factory for plugin cuDNN when one has already been registered\n",
      "2024-03-06 10:30:00.650304: E tensorflow/compiler/xla/stream_executor/cuda/cuda_fft.cc:609] Unable to register cuFFT factory: Attempting to register factory for plugin cuFFT when one has already been registered\n",
      "2024-03-06 10:30:00.650341: E tensorflow/compiler/xla/stream_executor/cuda/cuda_blas.cc:1518] Unable to register cuBLAS factory: Attempting to register factory for plugin cuBLAS when one has already been registered\n",
      "2024-03-06 10:30:00.657731: I tensorflow/core/platform/cpu_feature_guard.cc:182] This TensorFlow binary is optimized to use available CPU instructions in performance-critical operations.\n",
      "To enable the following instructions: AVX2 FMA, in other operations, rebuild TensorFlow with the appropriate compiler flags.\n",
      "2024-03-06 10:30:00.718259: E tensorflow/compiler/xla/stream_executor/cuda/cuda_dnn.cc:9342] Unable to register cuDNN factory: Attempting to register factory for plugin cuDNN when one has already been registered\n",
      "2024-03-06 10:30:00.718298: E tensorflow/compiler/xla/stream_executor/cuda/cuda_fft.cc:609] Unable to register cuFFT factory: Attempting to register factory for plugin cuFFT when one has already been registered\n",
      "2024-03-06 10:30:00.718333: E tensorflow/compiler/xla/stream_executor/cuda/cuda_blas.cc:1518] Unable to register cuBLAS factory: Attempting to register factory for plugin cuBLAS when one has already been registered\n",
      "2024-03-06 10:30:00.725494: E tensorflow/compiler/xla/stream_executor/cuda/cuda_dnn.cc:9342] Unable to register cuDNN factory: Attempting to register factory for plugin cuDNN when one has already been registered\n",
      "2024-03-06 10:30:00.725494: E tensorflow/compiler/xla/stream_executor/cuda/cuda_dnn.cc:9342] Unable to register cuDNN factory: Attempting to register factory for plugin cuDNN when one has already been registered\n",
      "2024-03-06 10:30:00.725541: E tensorflow/compiler/xla/stream_executor/cuda/cuda_fft.cc:609] Unable to register cuFFT factory: Attempting to register factory for plugin cuFFT when one has already been registered\n",
      "2024-03-06 10:30:00.725542: E tensorflow/compiler/xla/stream_executor/cuda/cuda_fft.cc:609] Unable to register cuFFT factory: Attempting to register factory for plugin cuFFT when one has already been registered\n",
      "2024-03-06 10:30:00.725577: E tensorflow/compiler/xla/stream_executor/cuda/cuda_blas.cc:1518] Unable to register cuBLAS factory: Attempting to register factory for plugin cuBLAS when one has already been registered\n",
      "2024-03-06 10:30:00.725578: E tensorflow/compiler/xla/stream_executor/cuda/cuda_blas.cc:1518] Unable to register cuBLAS factory: Attempting to register factory for plugin cuBLAS when one has already been registered\n",
      "2024-03-06 10:30:00.725931: I tensorflow/core/platform/cpu_feature_guard.cc:182] This TensorFlow binary is optimized to use available CPU instructions in performance-critical operations.\n",
      "To enable the following instructions: AVX2 FMA, in other operations, rebuild TensorFlow with the appropriate compiler flags.\n",
      "2024-03-06 10:30:00.731041: E tensorflow/compiler/xla/stream_executor/cuda/cuda_dnn.cc:9342] Unable to register cuDNN factory: Attempting to register factory for plugin cuDNN when one has already been registered\n",
      "2024-03-06 10:30:00.731041: E tensorflow/compiler/xla/stream_executor/cuda/cuda_dnn.cc:9342] Unable to register cuDNN factory: Attempting to register factory for plugin cuDNN when one has already been registered\n",
      "2024-03-06 10:30:00.731072: E tensorflow/compiler/xla/stream_executor/cuda/cuda_fft.cc:609] Unable to register cuFFT factory: Attempting to register factory for plugin cuFFT when one has already been registered\n",
      "2024-03-06 10:30:00.731072: E tensorflow/compiler/xla/stream_executor/cuda/cuda_fft.cc:609] Unable to register cuFFT factory: Attempting to register factory for plugin cuFFT when one has already been registered\n",
      "2024-03-06 10:30:00.731107: E tensorflow/compiler/xla/stream_executor/cuda/cuda_blas.cc:1518] Unable to register cuBLAS factory: Attempting to register factory for plugin cuBLAS when one has already been registered\n",
      "2024-03-06 10:30:00.731108: E tensorflow/compiler/xla/stream_executor/cuda/cuda_blas.cc:1518] Unable to register cuBLAS factory: Attempting to register factory for plugin cuBLAS when one has already been registered\n",
      "2024-03-06 10:30:00.732744: I tensorflow/core/platform/cpu_feature_guard.cc:182] This TensorFlow binary is optimized to use available CPU instructions in performance-critical operations.\n",
      "To enable the following instructions: AVX2 FMA, in other operations, rebuild TensorFlow with the appropriate compiler flags.\n",
      "2024-03-06 10:30:00.732745: I tensorflow/core/platform/cpu_feature_guard.cc:182] This TensorFlow binary is optimized to use available CPU instructions in performance-critical operations.\n",
      "To enable the following instructions: AVX2 FMA, in other operations, rebuild TensorFlow with the appropriate compiler flags.\n",
      "2024-03-06 10:30:00.738167: I tensorflow/core/platform/cpu_feature_guard.cc:182] This TensorFlow binary is optimized to use available CPU instructions in performance-critical operations.\n",
      "To enable the following instructions: AVX2 FMA, in other operations, rebuild TensorFlow with the appropriate compiler flags.\n",
      "2024-03-06 10:30:00.738167: I tensorflow/core/platform/cpu_feature_guard.cc:182] This TensorFlow binary is optimized to use available CPU instructions in performance-critical operations.\n",
      "To enable the following instructions: AVX2 FMA, in other operations, rebuild TensorFlow with the appropriate compiler flags.\n",
      "2024-03-06 10:30:00.761649: E tensorflow/compiler/xla/stream_executor/cuda/cuda_dnn.cc:9342] Unable to register cuDNN factory: Attempting to register factory for plugin cuDNN when one has already been registered\n",
      "2024-03-06 10:30:00.761696: E tensorflow/compiler/xla/stream_executor/cuda/cuda_fft.cc:609] Unable to register cuFFT factory: Attempting to register factory for plugin cuFFT when one has already been registered\n",
      "2024-03-06 10:30:00.761744: E tensorflow/compiler/xla/stream_executor/cuda/cuda_blas.cc:1518] Unable to register cuBLAS factory: Attempting to register factory for plugin cuBLAS when one has already been registered\n",
      "2024-03-06 10:30:00.762356: E tensorflow/compiler/xla/stream_executor/cuda/cuda_dnn.cc:9342] Unable to register cuDNN factory: Attempting to register factory for plugin cuDNN when one has already been registered\n",
      "2024-03-06 10:30:00.762357: E tensorflow/compiler/xla/stream_executor/cuda/cuda_dnn.cc:9342] Unable to register cuDNN factory: Attempting to register factory for plugin cuDNN when one has already been registered\n",
      "2024-03-06 10:30:00.762390: E tensorflow/compiler/xla/stream_executor/cuda/cuda_fft.cc:609] Unable to register cuFFT factory: Attempting to register factory for plugin cuFFT when one has already been registered\n",
      "2024-03-06 10:30:00.762394: E tensorflow/compiler/xla/stream_executor/cuda/cuda_fft.cc:609] Unable to register cuFFT factory: Attempting to register factory for plugin cuFFT when one has already been registered\n",
      "2024-03-06 10:30:00.762423: E tensorflow/compiler/xla/stream_executor/cuda/cuda_blas.cc:1518] Unable to register cuBLAS factory: Attempting to register factory for plugin cuBLAS when one has already been registered\n",
      "2024-03-06 10:30:00.762429: E tensorflow/compiler/xla/stream_executor/cuda/cuda_blas.cc:1518] Unable to register cuBLAS factory: Attempting to register factory for plugin cuBLAS when one has already been registered\n",
      "2024-03-06 10:30:00.769426: I tensorflow/core/platform/cpu_feature_guard.cc:182] This TensorFlow binary is optimized to use available CPU instructions in performance-critical operations.\n",
      "To enable the following instructions: AVX2 FMA, in other operations, rebuild TensorFlow with the appropriate compiler flags.\n",
      "2024-03-06 10:30:00.769426: I tensorflow/core/platform/cpu_feature_guard.cc:182] This TensorFlow binary is optimized to use available CPU instructions in performance-critical operations.\n",
      "To enable the following instructions: AVX2 FMA, in other operations, rebuild TensorFlow with the appropriate compiler flags.\n",
      "2024-03-06 10:30:00.769444: I tensorflow/core/platform/cpu_feature_guard.cc:182] This TensorFlow binary is optimized to use available CPU instructions in performance-critical operations.\n",
      "To enable the following instructions: AVX2 FMA, in other operations, rebuild TensorFlow with the appropriate compiler flags.\n",
      "2024-03-06 10:30:01.384899: W tensorflow/compiler/tf2tensorrt/utils/py_utils.cc:38] TF-TRT Warning: Could not find TensorRT\n",
      "2024-03-06 10:30:01.586230: W tensorflow/compiler/tf2tensorrt/utils/py_utils.cc:38] TF-TRT Warning: Could not find TensorRT\n",
      "2024-03-06 10:30:01.685257: W tensorflow/compiler/tf2tensorrt/utils/py_utils.cc:38] TF-TRT Warning: Could not find TensorRT\n",
      "2024-03-06 10:30:01.694756: W tensorflow/compiler/tf2tensorrt/utils/py_utils.cc:38] TF-TRT Warning: Could not find TensorRT\n",
      "2024-03-06 10:30:01.694813: W tensorflow/compiler/tf2tensorrt/utils/py_utils.cc:38] TF-TRT Warning: Could not find TensorRT\n",
      "2024-03-06 10:30:01.703763: W tensorflow/compiler/tf2tensorrt/utils/py_utils.cc:38] TF-TRT Warning: Could not find TensorRT\n",
      "2024-03-06 10:30:01.714719: W tensorflow/compiler/tf2tensorrt/utils/py_utils.cc:38] TF-TRT Warning: Could not find TensorRT\n",
      "2024-03-06 10:30:01.743683: W tensorflow/compiler/tf2tensorrt/utils/py_utils.cc:38] TF-TRT Warning: Could not find TensorRT\n",
      "2024-03-06 10:30:01.746900: W tensorflow/compiler/tf2tensorrt/utils/py_utils.cc:38] TF-TRT Warning: Could not find TensorRT\n",
      "2024-03-06 10:30:01.752254: W tensorflow/compiler/tf2tensorrt/utils/py_utils.cc:38] TF-TRT Warning: Could not find TensorRT\n",
      "Pre-processing time: 15.75\n",
      "Finished!\n"
     ]
    }
   ],
   "source": [
    "# Preprocessing the data (NVIDIA nnUNet)\n",
    "# task 11 is set for brats\n",
    "# change exec_mode to val --> wont expect seg\n",
    "!python3 /home/workstation04/GP_MMMAI/Notebooks/NVIDIA_nnUNet/DeepLearningExamples/PyTorch/Segmentation/nnUNet/preprocess.py --task 11  --exec_mode training --data \"/media/workstation04/New Volume/MMMAI/NVIDIA_PED_Trial/PED_testset/data\" --results \"/media/workstation04/New Volume/MMMAI/NVIDIA_PED_Trial/PED_testset\" --ohe\n",
    "print(\"Finished!\")"
   ]
  },
  {
   "cell_type": "markdown",
   "metadata": {},
   "source": [
    "----------------------------------------------------------------------------------------------------------------\n",
    "# Inference"
   ]
  },
  {
   "cell_type": "code",
   "execution_count": 2,
   "metadata": {},
   "outputs": [
    {
     "name": "stdout",
     "output_type": "stream",
     "text": [
      "2024-03-13 19:22:34.577449: E tensorflow/compiler/xla/stream_executor/cuda/cuda_dnn.cc:9342] Unable to register cuDNN factory: Attempting to register factory for plugin cuDNN when one has already been registered\n",
      "2024-03-13 19:22:34.577492: E tensorflow/compiler/xla/stream_executor/cuda/cuda_fft.cc:609] Unable to register cuFFT factory: Attempting to register factory for plugin cuFFT when one has already been registered\n",
      "2024-03-13 19:22:34.577526: E tensorflow/compiler/xla/stream_executor/cuda/cuda_blas.cc:1518] Unable to register cuBLAS factory: Attempting to register factory for plugin cuBLAS when one has already been registered\n",
      "2024-03-13 19:22:34.584428: I tensorflow/core/platform/cpu_feature_guard.cc:182] This TensorFlow binary is optimized to use available CPU instructions in performance-critical operations.\n",
      "To enable the following instructions: AVX2 FMA, in other operations, rebuild TensorFlow with the appropriate compiler flags.\n",
      "2024-03-13 19:22:35.411497: W tensorflow/compiler/tf2tensorrt/utils/py_utils.cc:38] TF-TRT Warning: Could not find TensorRT\n",
      "0 training, 0 validation, 89 test examples\n",
      "Filters: [64, 96, 128, 192, 256, 384, 512],\n",
      "Kernels: [[3, 3, 3], [3, 3, 3], [3, 3, 3], [3, 3, 3], [3, 3, 3], [3, 3, 3], [3, 3, 3]]\n",
      "Strides: [[1, 1, 1], [2, 2, 2], [2, 2, 2], [2, 2, 2], [2, 2, 2], [2, 2, 2], [2, 2, 2]]\n",
      "Found keys that are not in the model state dict but in the checkpoint: ['model.deep_supervision_heads.0.conv.conv.weight', 'model.deep_supervision_heads.0.conv.conv.bias', 'model.deep_supervision_heads.1.conv.conv.weight', 'model.deep_supervision_heads.1.conv.conv.bias', 'model.skip_layers.next_layer.super_head.conv.conv.weight', 'model.skip_layers.next_layer.super_head.conv.conv.bias', 'model.skip_layers.next_layer.next_layer.super_head.conv.conv.weight', 'model.skip_layers.next_layer.next_layer.super_head.conv.conv.bias']\n",
      "Using 16bit None Automatic Mixed Precision (AMP)\n",
      "Trainer already configured with model summary callbacks: [<class 'pytorch_lightning.callbacks.model_summary.ModelSummary'>]. Skipping setting a default `ModelSummary` callback.\n",
      "GPU available: True (cuda), used: True\n",
      "TPU available: False, using: 0 TPU cores\n",
      "IPU available: False, using: 0 IPUs\n",
      "HPU available: False, using: 0 HPUs\n",
      "`Trainer(limit_train_batches=1.0)` was configured so 100% of the batches per epoch will be used..\n",
      "`Trainer(limit_val_batches=1.0)` was configured so 100% of the batches will be used..\n",
      "`Trainer(limit_test_batches=1.0)` was configured so 100% of the batches will be used..\n",
      "Initializing distributed: GLOBAL_RANK: 0, MEMBER: 1/1\n",
      "----------------------------------------------------------------------------------------------------\n",
      "distributed_backend=nccl\n",
      "All distributed processes registered. Starting with 1 processes\n",
      "----------------------------------------------------------------------------------------------------\n",
      "\n",
      "LOCAL_RANK: 0 - CUDA_VISIBLE_DEVICES: [0]\n",
      "\u001b[2K\u001b[37mTesting\u001b[0m \u001b[35m━━━━━━━━━━━━━━━━━━━━━━━━━━━━━━━━━━━━━\u001b[0m \u001b[37m89/89\u001b[0m \u001b[37m0:40:45 • 0:00:00\u001b[0m \u001b[37m0.03it/s\u001b[0m it/s\u001b[0m it/s\u001b[0m \n",
      "\u001b[?25h"
     ]
    }
   ],
   "source": [
    "!python /home/workstation04/GP_MMMAI/Notebooks/NVIDIA_nnUNet/DeepLearningExamples/PyTorch/Segmentation/nnUNet/main.py --exec_mode \"predict\" --gpus 1 --depth 6 --filters 64 96 128 192 256 384 512 --min_fmap 2 --amp --save_preds --task 11 --data \"/media/workstation04/New Volume/MMMAI/NVIDIA_PED_Trial/unlabelled_pool/11_3d\" --ckpt_path \"/media/workstation04/New Volume/MMMAI/NVIDIA_PED_Trial/Uncertainty_sampling160/checkpoints/epoch=6-dice=77.58.ckpt\" --results \"/media/workstation04/New Volume/MMMAI/NVIDIA_PED_Trial/unlabelled_pool\" --tta"
   ]
  },
  {
   "cell_type": "markdown",
   "metadata": {},
   "source": [
    "----------------------------------------------------------------------------------------\n",
    "# Active Learning"
   ]
  },
  {
   "cell_type": "markdown",
   "metadata": {},
   "source": [
    "## Get volume mask"
   ]
  },
  {
   "cell_type": "code",
   "execution_count": 3,
   "metadata": {},
   "outputs": [],
   "source": [
    "import pandas as pd\n",
    "import os\n",
    "import csv"
   ]
  },
  {
   "cell_type": "code",
   "execution_count": 4,
   "metadata": {},
   "outputs": [],
   "source": [
    "def create_mask(nifti_data):\n",
    "\n",
    "    # Create a binary mask: set to 0 where voxel value is 0 in the NIfTI volume, and set to 1 otherwise\n",
    "    mask = np.where(nifti_data == 0, 0, 1)\n",
    "    mask = np.transpose(mask, (2, 1, 0)) #(240,240*,155) --> (155,240*,240)\n",
    "\n",
    "    return mask\n"
   ]
  },
  {
   "cell_type": "code",
   "execution_count": null,
   "metadata": {},
   "outputs": [
    {
     "data": {
      "text/plain": [
       "(240, 240, 155, 4)"
      ]
     },
     "execution_count": 19,
     "metadata": {},
     "output_type": "execute_result"
    }
   ],
   "source": [
    "# Load the NIfTI volume\n",
    "input_nifti_path = '/media/workstation04/New Volume/MMMAI/NVIDIA_PED_Trial/unlabelled_pool/data/BraTS2021_train/images/BraTS2021_01668.nii.gz'\n",
    "nifti_img = nib.load(input_nifti_path)\n",
    "nifti_img.shape"
   ]
  },
  {
   "cell_type": "code",
   "execution_count": null,
   "metadata": {},
   "outputs": [
    {
     "name": "stdout",
     "output_type": "stream",
     "text": [
      "Shape of flair_sequence: (240, 240, 155)\n",
      "Shape of mask: (240, 240, 155)\n"
     ]
    },
    {
     "data": {
      "image/png": "[encoded data removed]",
      "text/plain": [
       "<Figure size 1200x600 with 2 Axes>"
      ]
     },
     "metadata": {},
     "output_type": "display_data"
    }
   ],
   "source": [
    "import numpy as np\n",
    "import matplotlib.pyplot as plt\n",
    "import nibabel as nib\n",
    "\n",
    "\n",
    "# Load the NIfTI volume\n",
    "input_nifti_path = '/media/workstation04/New Volume/MMMAI/NVIDIA_PED_Trial/unlabelled_pool/data/BraTS2021_train/images/BraTS2021_01668.nii.gz'\n",
    "nifti_img = nib.load(input_nifti_path)\n",
    "nifti_data = nifti_img.get_fdata()\n",
    "flair_sequence = nifti_data[:,:,:,0]\n",
    "# Create the mask\n",
    "mask = create_mask(flair_sequence)\n",
    "\n",
    "# Print the shapes of flair sequence and mask\n",
    "print(\"Shape of flair_sequence:\", flair_sequence.shape)\n",
    "mask = np.transpose(mask, (2, 1, 0))\n",
    "print(\"Shape of mask:\", mask.shape)\n",
    "slice_no = flair_sequence.shape[2] // 2\n",
    "# Plot the NIfTI volume and the mask\n",
    "fig, axes = plt.subplots(1, 2, figsize=(12, 6))\n",
    "\n",
    "# Plot NIfTI volume\n",
    "axes[0].imshow(flair_sequence[:,:,slice_no], cmap='gray')\n",
    "axes[0].set_title('NIfTI Data')\n",
    "\n",
    "# Plot mask\n",
    "axes[1].imshow(mask[:,:,slice_no], cmap='gray')\n",
    "axes[1].set_title('Mask')\n",
    "\n",
    "plt.show()\n"
   ]
  },
  {
   "cell_type": "markdown",
   "metadata": {},
   "source": [
    "### Uncertainty Estimation"
   ]
  },
  {
   "cell_type": "markdown",
   "metadata": {},
   "source": [
    "### Estimating The Model Uncertainty Using The Entropy"
   ]
  },
  {
   "cell_type": "code",
   "execution_count": 5,
   "metadata": {},
   "outputs": [],
   "source": [
    "import os\n",
    "def compute_entropy_with_mask(tensor, mask):\n",
    "    sum_tensor = np.sum(tensor, axis=0, keepdims=True)\n",
    "    tensor_normalized = tensor / (sum_tensor + 1e-12)\n",
    "    entropy_elements = -tensor_normalized * np.log2(tensor_normalized + 1e-12)\n",
    "    entropy = np.sum(entropy_elements, axis=0)\n",
    "    # Multiply entropy with the mask\n",
    "    entropy *= mask\n",
    "\n",
    "    total_entropy = np.sum(entropy)\n",
    "\n",
    "    return entropy, total_entropy"
   ]
  },
  {
   "cell_type": "code",
   "execution_count": 6,
   "metadata": {},
   "outputs": [
    {
     "data": {
      "text/plain": [
       "['BraTS2021_01711',\n",
       " 'BraTS2021_01727',\n",
       " 'BraTS2021_01669',\n",
       " 'BraTS2021_01761',\n",
       " 'BraTS2021_01716',\n",
       " 'BraTS2021_01702',\n",
       " 'BraTS2021_01719',\n",
       " 'BraTS2021_01757',\n",
       " 'BraTS2021_01722',\n",
       " 'BraTS2021_01714',\n",
       " 'BraTS2021_01704',\n",
       " 'BraTS2021_01712',\n",
       " 'BraTS2021_01670',\n",
       " 'BraTS2021_01671',\n",
       " 'BraTS2021_01737',\n",
       " 'BraTS2021_01740',\n",
       " 'BraTS2021_01726',\n",
       " 'BraTS2021_01765',\n",
       " 'BraTS2021_01764',\n",
       " 'BraTS2021_01687',\n",
       " 'BraTS2021_01749',\n",
       " 'BraTS2021_01760',\n",
       " 'BraTS2021_01676',\n",
       " 'BraTS2021_01678',\n",
       " 'BraTS2021_01744',\n",
       " 'BraTS2021_01690',\n",
       " 'BraTS2021_01691',\n",
       " 'BraTS2021_01731',\n",
       " 'BraTS2021_01667',\n",
       " 'BraTS2021_01747',\n",
       " 'BraTS2021_01729',\n",
       " 'BraTS2021_01700',\n",
       " 'BraTS2021_01721',\n",
       " 'BraTS2021_01684',\n",
       " 'BraTS2021_01680',\n",
       " 'BraTS2021_01732',\n",
       " 'BraTS2021_01746',\n",
       " 'BraTS2021_01707',\n",
       " 'BraTS2021_01758',\n",
       " 'BraTS2021_01725',\n",
       " 'BraTS2021_01750',\n",
       " 'BraTS2021_01668',\n",
       " 'BraTS2021_01677',\n",
       " 'BraTS2021_01682',\n",
       " 'BraTS2021_01718',\n",
       " 'BraTS2021_01734',\n",
       " 'BraTS2021_01754',\n",
       " 'BraTS2021_01706',\n",
       " 'BraTS2021_01736',\n",
       " 'BraTS2021_01697',\n",
       " 'BraTS2021_01763',\n",
       " 'BraTS2021_01733',\n",
       " 'BraTS2021_01713',\n",
       " 'BraTS2021_01742',\n",
       " 'BraTS2021_01673',\n",
       " 'BraTS2021_01672',\n",
       " 'BraTS2021_01717',\n",
       " 'BraTS2021_01699',\n",
       " 'BraTS2021_01723',\n",
       " 'BraTS2021_01759',\n",
       " 'BraTS2021_01720',\n",
       " 'BraTS2021_01679',\n",
       " 'BraTS2021_01741',\n",
       " 'BraTS2021_01683',\n",
       " 'BraTS2021_01686',\n",
       " 'BraTS2021_01681',\n",
       " 'BraTS2021_01694',\n",
       " 'BraTS2021_01755',\n",
       " 'BraTS2021_01688',\n",
       " 'BraTS2021_01743',\n",
       " 'BraTS2021_01735',\n",
       " 'BraTS2021_01728',\n",
       " 'BraTS2021_01708',\n",
       " 'BraTS2021_01675',\n",
       " 'BraTS2021_01695',\n",
       " 'BraTS2021_01745',\n",
       " 'BraTS2021_01698',\n",
       " 'BraTS2021_01692',\n",
       " 'BraTS2021_01756',\n",
       " 'BraTS2021_01709',\n",
       " 'BraTS2021_01689',\n",
       " 'BraTS2021_01724',\n",
       " 'BraTS2021_01703',\n",
       " 'BraTS2021_01715',\n",
       " 'BraTS2021_01752',\n",
       " 'BraTS2021_01693',\n",
       " 'BraTS2021_01685',\n",
       " 'BraTS2021_01751',\n",
       " 'BraTS2021_01753']"
      ]
     },
     "execution_count": 6,
     "metadata": {},
     "output_type": "execute_result"
    }
   ],
   "source": [
    "folder_path = '/home/workstation04/GP_MMMAI/Ped_unalabelledpool/ASNR-MICCAI-BraTS2023-PED-Challenge-TrainingData'\n",
    "folders_names = [f for f in os.listdir(folder_path) if os.path.isdir(os.path.join(folder_path, f))]\n",
    "folders_names"
   ]
  },
  {
   "cell_type": "code",
   "execution_count": 7,
   "metadata": {},
   "outputs": [
    {
     "data": {
      "text/plain": [
       "89"
      ]
     },
     "execution_count": 7,
     "metadata": {},
     "output_type": "execute_result"
    }
   ],
   "source": [
    "len(folders_names)"
   ]
  },
  {
   "cell_type": "code",
   "execution_count": 8,
   "metadata": {},
   "outputs": [],
   "source": [
    "folder_entropy_list = []\n",
    "for i in range(len(folders_names)):\n",
    "    # Example usage:\n",
    "\n",
    "    filename = folders_names[i]\n",
    "    probability_path = f'/media/workstation04/New Volume/MMMAI/NVIDIA_PED_Trial/unlabelled_pool/predictions_epoch=6-dice=77_58_task=11_fold=0_tta/{filename}.npy'\n",
    "    tensor = np.load(probability_path, allow_pickle=True)  # Shape: (num_classes, depth, height, width)\n",
    "\n",
    "    input_nifti_path = f'/media/workstation04/New Volume/MMMAI/NVIDIA_PED_Trial/unlabelled_pool/data/BraTS2021_train/images/{filename}.nii.gz' #make the mask from flair volume\n",
    "    # Load the NIfTI volume\n",
    "    nifti_img = nib.load(input_nifti_path)\n",
    "    nifti_data = nifti_img.get_fdata()\n",
    "    mask = create_mask(nifti_data[:,:,:,0])\n",
    "\n",
    "    tensor = np.load(probability_path, allow_pickle=True)  # Shape: (num_classes, depth, height, width)\n",
    "    entropy_data, total_entropy = compute_entropy_with_mask(tensor,mask)\n",
    "    folder_entropy_list.append((filename, total_entropy))\n",
    "\n"
   ]
  },
  {
   "cell_type": "code",
   "execution_count": null,
   "metadata": {},
   "outputs": [
    {
     "name": "stdout",
     "output_type": "stream",
     "text": [
      "[('BraTS2021_01692', 136857.46598669246), ('BraTS2021_01755', 133382.97280784513), ('BraTS2021_01681', 130516.81754813739), ('BraTS2021_01676', 125183.85586787581), ('BraTS2021_01754', 123660.93145828083), ('BraTS2021_01715', 121965.21389311312), ('BraTS2021_01722', 118394.93207099), ('BraTS2021_01678', 101642.80901293331), ('BraTS2021_01669', 97326.75869563964), ('BraTS2021_01736', 97262.21727308337), ('BraTS2021_01688', 96749.86672624337), ('BraTS2021_01687', 96214.44757491047), ('BraTS2021_01727', 88048.26544640963), ('BraTS2021_01670', 84340.50520207071), ('BraTS2021_01731', 77806.90350763354), ('BraTS2021_01704', 77229.43631498405), ('BraTS2021_01713', 70590.77995087317), ('BraTS2021_01733', 70152.86036742317), ('BraTS2021_01671', 69968.59588350264), ('BraTS2021_01729', 69943.21909811348), ('BraTS2021_01672', 69483.76921324416), ('BraTS2021_01714', 69464.6843357376), ('BraTS2021_01759', 68480.8567339985), ('BraTS2021_01706', 68186.51907420807), ('BraTS2021_01709', 67402.97799229862), ('BraTS2021_01708', 66745.49502683025), ('BraTS2021_01734', 65726.33144923935), ('BraTS2021_01741', 64690.32367174534), ('BraTS2021_01745', 64140.71315068992), ('BraTS2021_01721', 64103.625765606404), ('BraTS2021_01703', 63847.621751676255), ('BraTS2021_01689', 62630.16621557859), ('BraTS2021_01726', 62395.681246186075), ('BraTS2021_01719', 62233.633677104845), ('BraTS2021_01765', 62132.65500708645), ('BraTS2021_01673', 60997.42593203833), ('BraTS2021_01685', 59854.90103758497), ('BraTS2021_01720', 59752.96042948431), ('BraTS2021_01712', 59126.15481948828), ('BraTS2021_01690', 58951.79616435682), ('BraTS2021_01677', 58941.37735981799), ('BraTS2021_01735', 58917.58904749363), ('BraTS2021_01761', 58901.878656678295), ('BraTS2021_01750', 58100.2988070072), ('BraTS2021_01697', 56412.39516513854), ('BraTS2021_01764', 55252.677489512906), ('BraTS2021_01691', 54775.02179230718), ('BraTS2021_01675', 54556.51270766383), ('BraTS2021_01756', 54495.263136848516), ('BraTS2021_01717', 54271.61437872623), ('BraTS2021_01737', 52904.79327041442), ('BraTS2021_01742', 52531.09793439461), ('BraTS2021_01702', 51920.68308916609), ('BraTS2021_01740', 51678.73506686615), ('BraTS2021_01682', 51218.512843729), ('BraTS2021_01763', 50594.73165070802), ('BraTS2021_01680', 50222.151592725255), ('BraTS2021_01753', 48543.505949852304), ('BraTS2021_01758', 48137.62446740415), ('BraTS2021_01679', 47795.81001615717), ('BraTS2021_01744', 47722.70546964465), ('BraTS2021_01732', 47681.25184661928), ('BraTS2021_01728', 47672.73918075169), ('BraTS2021_01723', 46539.15469992335), ('BraTS2021_01707', 46502.13243339551), ('BraTS2021_01716', 45647.10482160852), ('BraTS2021_01698', 45332.807952388604), ('BraTS2021_01757', 44533.65395030873), ('BraTS2021_01751', 44170.72827820369), ('BraTS2021_01718', 44130.23275064361), ('BraTS2021_01725', 43625.83271739319), ('BraTS2021_01752', 42951.053816305895), ('BraTS2021_01743', 42681.38556345982), ('BraTS2021_01686', 39754.44088695594), ('BraTS2021_01760', 39612.05899999489), ('BraTS2021_01724', 38927.7214100511), ('BraTS2021_01749', 37717.16012379658), ('BraTS2021_01711', 37647.58418702592), ('BraTS2021_01695', 37158.49440615925), ('BraTS2021_01747', 36902.41741494032), ('BraTS2021_01746', 36740.30446427587), ('BraTS2021_01684', 35420.76144711817), ('BraTS2021_01700', 33655.56635527579), ('BraTS2021_01693', 32502.64379795634), ('BraTS2021_01694', 30897.098974099477), ('BraTS2021_01699', 29995.759531971147), ('BraTS2021_01667', 27533.134797735413), ('BraTS2021_01683', 26118.46675809341), ('BraTS2021_01668', 18179.05140912377)]\n"
     ]
    }
   ],
   "source": [
    "# from pretrained\n",
    "sorted_folder_entropy_list = sorted(folder_entropy_list, key=lambda x: x[1], reverse=True)\n",
    "# Print the sorted list\n",
    "print(sorted_folder_entropy_list)"
   ]
  },
  {
   "cell_type": "code",
   "execution_count": null,
   "metadata": {},
   "outputs": [
    {
     "name": "stdout",
     "output_type": "stream",
     "text": [
      "[('BraTS2021_01736', 118942.09969958312), ('BraTS2021_01681', 109744.59529287358), ('BraTS2021_01708', 98566.79779197484), ('BraTS2021_01688', 97358.57447068449), ('BraTS2021_01706', 91192.91943499271), ('BraTS2021_01733', 83500.55299426333), ('BraTS2021_01726', 82047.4106709914), ('BraTS2021_01672', 80991.25670987208), ('BraTS2021_01669', 79838.65734413438), ('BraTS2021_01709', 77798.06408656735), ('BraTS2021_01692', 75649.1755072269), ('BraTS2021_01687', 73757.2434884753), ('BraTS2021_01704', 72327.60414178157), ('BraTS2021_01678', 71079.10698279164), ('BraTS2021_01721', 70693.59669504665), ('BraTS2021_01761', 66947.44948694191), ('BraTS2021_01745', 65586.46282044346), ('BraTS2021_01719', 65407.225412095846), ('BraTS2021_01703', 64477.269242227165), ('BraTS2021_01759', 64173.43387275438), ('BraTS2021_01729', 64127.70879491328), ('BraTS2021_01714', 63394.02727447337), ('BraTS2021_01689', 63197.049849686286), ('BraTS2021_01765', 62233.37904992505), ('BraTS2021_01685', 61671.6088110962), ('BraTS2021_01750', 61127.31306828648), ('BraTS2021_01690', 59073.61322704208), ('BraTS2021_01673', 58550.25450841306), ('BraTS2021_01691', 58399.1794781251), ('BraTS2021_01734', 56980.780056831834), ('BraTS2021_01727', 56936.85958280103), ('BraTS2021_01712', 55919.8865685212), ('BraTS2021_01741', 55913.3077671833), ('BraTS2021_01670', 55778.52777608724), ('BraTS2021_01728', 54957.314838485436), ('BraTS2021_01682', 54063.907178806876), ('BraTS2021_01702', 53420.24906714654), ('BraTS2021_01731', 49432.044541165254), ('BraTS2021_01732', 48956.2860055484), ('BraTS2021_01740', 48918.33658802729), ('BraTS2021_01764', 48794.638473786545), ('BraTS2021_01680', 46641.27518353912), ('BraTS2021_01744', 45744.49410651215), ('BraTS2021_01679', 45504.95485832582), ('BraTS2021_01707', 44851.1572650186), ('BraTS2021_01720', 44030.80131747452), ('BraTS2021_01749', 43747.88801175767), ('BraTS2021_01697', 41267.789784121065), ('BraTS2021_01752', 39489.45071215572), ('BraTS2021_01677', 38902.056023235804), ('BraTS2021_01763', 38389.537541762205), ('BraTS2021_01757', 37331.939276910765), ('BraTS2021_01716', 35555.88320130481), ('BraTS2021_01717', 35555.85720427499), ('BraTS2021_01743', 35176.13913405544), ('BraTS2021_01746', 34822.919442183425), ('BraTS2021_01756', 34687.04229459114), ('BraTS2021_01747', 34627.364000619295), ('BraTS2021_01676', 34394.76967997951), ('BraTS2021_01737', 34331.87618654724), ('BraTS2021_01699', 33936.58941347182), ('BraTS2021_01675', 33785.550026270714), ('BraTS2021_01713', 33699.18131707657), ('BraTS2021_01684', 33506.72235478245), ('BraTS2021_01742', 33112.54524033543), ('BraTS2021_01754', 32724.61281103486), ('BraTS2021_01755', 31728.089229703422), ('BraTS2021_01715', 30953.08090313881), ('BraTS2021_01711', 30926.75729403049), ('BraTS2021_01725', 29683.98979559515), ('BraTS2021_01723', 29148.53597250822), ('BraTS2021_01760', 28422.278328217122), ('BraTS2021_01722', 28305.641854050264), ('BraTS2021_01671', 28236.390433140532), ('BraTS2021_01751', 28104.652331768593), ('BraTS2021_01735', 27507.144245720177), ('BraTS2021_01753', 27031.63026078818), ('BraTS2021_01718', 26923.7383567773), ('BraTS2021_01683', 26317.054497030582), ('BraTS2021_01724', 24834.4504778062), ('BraTS2021_01694', 24650.891749676302), ('BraTS2021_01695', 24249.807162907313), ('BraTS2021_01686', 23031.163626974096), ('BraTS2021_01698', 21156.328406262957), ('BraTS2021_01700', 20026.80909504504), ('BraTS2021_01667', 19945.72542885269), ('BraTS2021_01758', 19940.33784445705), ('BraTS2021_01693', 18683.648089546274), ('BraTS2021_01668', 15562.318478216705)]\n"
     ]
    }
   ],
   "source": [
    "# from uncertainty120\n",
    "sorted_folder_entropy_list = sorted(folder_entropy_list, key=lambda x: x[1], reverse=True)\n",
    "# Print the sorted list\n",
    "print(sorted_folder_entropy_list)"
   ]
  },
  {
   "cell_type": "code",
   "execution_count": 30,
   "metadata": {},
   "outputs": [
    {
     "name": "stdout",
     "output_type": "stream",
     "text": [
      "[('BraTS2021_01736', 115613.08201971898), ('BraTS2021_01688', 103148.36531621416), ('BraTS2021_01706', 97366.10955375245), ('BraTS2021_01709', 89121.45306685283), ('BraTS2021_01681', 87025.4660901219), ('BraTS2021_01672', 82065.57142616741), ('BraTS2021_01733', 73607.5804786826), ('BraTS2021_01669', 72241.26988242063), ('BraTS2021_01719', 68171.06811662739), ('BraTS2021_01687', 68069.0228184875), ('BraTS2021_01734', 66426.27215425078), ('BraTS2021_01690', 65192.083629780784), ('BraTS2021_01741', 65084.48200218701), ('BraTS2021_01678', 64432.905361979676), ('BraTS2021_01714', 62120.060993403305), ('BraTS2021_01729', 61997.58755327756), ('BraTS2021_01721', 60270.56316245144), ('BraTS2021_01759', 58771.581273736025), ('BraTS2021_01740', 57381.525324258226), ('BraTS2021_01761', 57089.14554040865), ('BraTS2021_01675', 56317.42253907228), ('BraTS2021_01732', 52476.23594911112), ('BraTS2021_01704', 50844.619531246186), ('BraTS2021_01691', 50689.98779238585), ('BraTS2021_01703', 49854.11038503791), ('BraTS2021_01685', 47931.8083509268), ('BraTS2021_01673', 46234.765419854775), ('BraTS2021_01717', 45171.44012809122), ('BraTS2021_01697', 44615.20678883302), ('BraTS2021_01689', 42338.432648269016), ('BraTS2021_01702', 42035.906183739884), ('BraTS2021_01727', 40844.475424852404), ('BraTS2021_01679', 39733.94812810927), ('BraTS2021_01680', 39463.4047444534), ('BraTS2021_01682', 39258.07696045103), ('BraTS2021_01711', 38313.952998838235), ('BraTS2021_01765', 37209.99234707109), ('BraTS2021_01764', 36576.61754900913), ('BraTS2021_01728', 36453.57883434921), ('BraTS2021_01692', 35866.531624686235), ('BraTS2021_01722', 33935.31284400257), ('BraTS2021_01745', 32433.537884451925), ('BraTS2021_01742', 31714.473190722732), ('BraTS2021_01763', 31210.28351656754), ('BraTS2021_01677', 29785.49608531618), ('BraTS2021_01752', 29749.200419270866), ('BraTS2021_01708', 28225.853561966906), ('BraTS2021_01756', 27994.18988161491), ('BraTS2021_01712', 27749.30306502882), ('BraTS2021_01744', 27420.84605451185), ('BraTS2021_01750', 27216.664221038474), ('BraTS2021_01758', 26859.897814368305), ('BraTS2021_01726', 26116.87942433239), ('BraTS2021_01720', 25491.904941963927), ('BraTS2021_01684', 25294.407988572468), ('BraTS2021_01731', 24734.20032975503), ('BraTS2021_01723', 22368.978111039793), ('BraTS2021_01735', 22304.938942578923), ('BraTS2021_01743', 20586.29846541153), ('BraTS2021_01676', 20501.78680945816), ('BraTS2021_01671', 20178.860043418776), ('BraTS2021_01700', 19125.854023984335), ('BraTS2021_01753', 18945.77744211664), ('BraTS2021_01667', 18013.744967807077), ('BraTS2021_01716', 17897.28811556132), ('BraTS2021_01694', 17601.74495798858), ('BraTS2021_01707', 17434.372534106256), ('BraTS2021_01670', 17208.156359451168), ('BraTS2021_01746', 16489.217137825635), ('BraTS2021_01718', 16301.28691063406), ('BraTS2021_01747', 16187.853103441885), ('BraTS2021_01699', 15674.801987793197), ('BraTS2021_01724', 15615.709034360461), ('BraTS2021_01698', 15437.75520750324), ('BraTS2021_01715', 15240.523030218483), ('BraTS2021_01757', 14949.41372152951), ('BraTS2021_01693', 13243.127206800224), ('BraTS2021_01695', 13102.898207387103), ('BraTS2021_01760', 13004.950577663298), ('BraTS2021_01749', 12841.302837158426), ('BraTS2021_01737', 11143.473412609155), ('BraTS2021_01686', 10995.986972960362), ('BraTS2021_01725', 10377.842736782415), ('BraTS2021_01754', 9620.715301121993), ('BraTS2021_01751', 9417.072769200982), ('BraTS2021_01713', 9398.60810002643), ('BraTS2021_01683', 8974.020417242644), ('BraTS2021_01755', 7087.822105946027), ('BraTS2021_01668', 5003.267964391417)]\n"
     ]
    }
   ],
   "source": [
    "# from uncertainty140\n",
    "sorted_folder_entropy_list = sorted(folder_entropy_list, key=lambda x: x[1], reverse=True)\n",
    "# Print the sorted list\n",
    "print(sorted_folder_entropy_list)"
   ]
  },
  {
   "cell_type": "code",
   "execution_count": 9,
   "metadata": {},
   "outputs": [
    {
     "name": "stdout",
     "output_type": "stream",
     "text": [
      "[('BraTS2021_01736', 122635.9598217879), ('BraTS2021_01688', 112687.30657420686), ('BraTS2021_01706', 109053.94946424676), ('BraTS2021_01672', 93276.38489212347), ('BraTS2021_01729', 87079.20121380547), ('BraTS2021_01714', 86865.14024096039), ('BraTS2021_01681', 86773.96898274617), ('BraTS2021_01709', 83181.31892901062), ('BraTS2021_01733', 76476.5490754545), ('BraTS2021_01734', 76432.50862675473), ('BraTS2021_01741', 75131.32146773778), ('BraTS2021_01669', 74632.56929791163), ('BraTS2021_01721', 66204.64801139325), ('BraTS2021_01687', 64253.33523578529), ('BraTS2021_01678', 59563.81061800954), ('BraTS2021_01690', 58573.39963457334), ('BraTS2021_01711', 57958.442761431324), ('BraTS2021_01761', 56655.21981854775), ('BraTS2021_01673', 53421.19518681328), ('BraTS2021_01759', 52983.97406021108), ('BraTS2021_01708', 52210.86747154381), ('BraTS2021_01703', 51932.138415735055), ('BraTS2021_01719', 50440.75389841349), ('BraTS2021_01675', 50297.01634498894), ('BraTS2021_01704', 48414.24479412566), ('BraTS2021_01691', 47645.48367549174), ('BraTS2021_01689', 44899.70174594967), ('BraTS2021_01732', 43909.87691528475), ('BraTS2021_01764', 42320.02225365928), ('BraTS2021_01685', 42078.97287076761), ('BraTS2021_01740', 41739.7429384263), ('BraTS2021_01680', 41679.4075096043), ('BraTS2021_01717', 41189.728097124105), ('BraTS2021_01702', 40328.892881683685), ('BraTS2021_01679', 39017.20437842641), ('BraTS2021_01745', 37867.53669487616), ('BraTS2021_01677', 37422.869215657454), ('BraTS2021_01765', 35277.363402004885), ('BraTS2021_01728', 33236.87579361076), ('BraTS2021_01692', 32843.08155074076), ('BraTS2021_01763', 32769.30018316781), ('BraTS2021_01712', 32129.410937518784), ('BraTS2021_01682', 32053.19426864988), ('BraTS2021_01722', 28730.246221602043), ('BraTS2021_01742', 28594.49150854756), ('BraTS2021_01731', 28202.13329025202), ('BraTS2021_01670', 28161.801739987233), ('BraTS2021_01752', 27417.041893494992), ('BraTS2021_01747', 27410.401305780797), ('BraTS2021_01727', 27195.203215668815), ('BraTS2021_01720', 25931.871877451398), ('BraTS2021_01756', 25668.022784446628), ('BraTS2021_01671', 24538.240843065825), ('BraTS2021_01723', 24198.05496926579), ('BraTS2021_01758', 23992.624683878625), ('BraTS2021_01744', 23949.191251005213), ('BraTS2021_01684', 23596.57960280082), ('BraTS2021_01707', 22204.484781621304), ('BraTS2021_01753', 22190.351673930276), ('BraTS2021_01749', 22034.64800862021), ('BraTS2021_01697', 21990.652221084612), ('BraTS2021_01737', 21631.54620495146), ('BraTS2021_01676', 21587.281413830304), ('BraTS2021_01735', 21513.93255562204), ('BraTS2021_01726', 21427.76633099584), ('BraTS2021_01694', 20743.494712311865), ('BraTS2021_01743', 20622.47098017966), ('BraTS2021_01746', 18839.00138220809), ('BraTS2021_01700', 18776.679923250864), ('BraTS2021_01715', 17719.18961813498), ('BraTS2021_01750', 17383.93208221238), ('BraTS2021_01667', 17189.794112917993), ('BraTS2021_01698', 16987.179872354183), ('BraTS2021_01716', 16658.941723575605), ('BraTS2021_01757', 15775.995116509515), ('BraTS2021_01724', 15741.612412695438), ('BraTS2021_01718', 15644.872596253243), ('BraTS2021_01699', 15207.1543380543), ('BraTS2021_01695', 14812.705879589952), ('BraTS2021_01686', 14652.29078203891), ('BraTS2021_01760', 14057.843095157103), ('BraTS2021_01693', 13662.992954016912), ('BraTS2021_01725', 12768.573271191137), ('BraTS2021_01683', 12595.014706168422), ('BraTS2021_01754', 11682.879884886655), ('BraTS2021_01713', 11105.840608826513), ('BraTS2021_01751', 9695.499178786058), ('BraTS2021_01755', 8242.710724033015), ('BraTS2021_01668', 6912.759149981673)]\n"
     ]
    }
   ],
   "source": [
    "# from uncertainty160\n",
    "sorted_folder_entropy_list = sorted(folder_entropy_list, key=lambda x: x[1], reverse=True)\n",
    "# Print the sorted list\n",
    "print(sorted_folder_entropy_list)"
   ]
  },
  {
   "cell_type": "code",
   "execution_count": 10,
   "metadata": {},
   "outputs": [],
   "source": [
    "# Convert the list of tuples to a NumPy array\n",
    "sorted_folders_entropy_file = np.array(sorted_folder_entropy_list, dtype=[('name', '<U20'), ('value', '<f8')])\n",
    "\n",
    "# Save the NumPy array as an .npy file\n",
    "np.save('/media/workstation04/New Volume/MMMAI/NVIDIA_PED_Trial/sorted_folders_entropy_uncertainty160.npy', sorted_folders_entropy_file)"
   ]
  },
  {
   "cell_type": "code",
   "execution_count": 11,
   "metadata": {},
   "outputs": [],
   "source": [
    "names = [item[0] for item in sorted_folder_entropy_list]\n",
    "# Convert the list of names to a NumPy array\n",
    "names_array = np.array(names)\n",
    "\n",
    "# Save the NumPy array as an .npy file\n",
    "np.save('/media/workstation04/New Volume/MMMAI/NVIDIA_PED_Trial/sorted_uncertain_folders_names_uncertainty160.npy', names_array)"
   ]
  },
  {
   "cell_type": "code",
   "execution_count": 13,
   "metadata": {},
   "outputs": [
    {
     "name": "stdout",
     "output_type": "stream",
     "text": [
      "['BraTS2021_01692' 'BraTS2021_01755' 'BraTS2021_01681' 'BraTS2021_01676'\n",
      " 'BraTS2021_01754' 'BraTS2021_01715' 'BraTS2021_01722' 'BraTS2021_01678'\n",
      " 'BraTS2021_01669' 'BraTS2021_01736' 'BraTS2021_01688' 'BraTS2021_01687'\n",
      " 'BraTS2021_01727' 'BraTS2021_01670' 'BraTS2021_01731' 'BraTS2021_01704'\n",
      " 'BraTS2021_01713' 'BraTS2021_01733' 'BraTS2021_01671' 'BraTS2021_01729']\n"
     ]
    }
   ],
   "source": [
    "import numpy as np\n",
    "# Load the .npy file\n",
    "sorted_uncertain_folders_names = np.load('/media/workstation04/New Volume/MMMAI/NVIDIA_PED_Trial/sorted_uncertain_folders_names_pretrained.npy')\n",
    "\n",
    "# Print the loaded data\n",
    "print(sorted_uncertain_folders_names[0:20])"
   ]
  },
  {
   "cell_type": "code",
   "execution_count": 15,
   "metadata": {},
   "outputs": [
    {
     "name": "stdout",
     "output_type": "stream",
     "text": [
      "['BraTS2021_01736' 'BraTS2021_01688' 'BraTS2021_01706' 'BraTS2021_01709'\n",
      " 'BraTS2021_01681' 'BraTS2021_01672' 'BraTS2021_01733' 'BraTS2021_01669'\n",
      " 'BraTS2021_01719' 'BraTS2021_01687' 'BraTS2021_01734' 'BraTS2021_01690'\n",
      " 'BraTS2021_01741' 'BraTS2021_01678' 'BraTS2021_01714' 'BraTS2021_01729'\n",
      " 'BraTS2021_01721' 'BraTS2021_01759' 'BraTS2021_01740' 'BraTS2021_01761'\n",
      " 'BraTS2021_01675' 'BraTS2021_01732' 'BraTS2021_01704' 'BraTS2021_01691'\n",
      " 'BraTS2021_01703' 'BraTS2021_01685' 'BraTS2021_01673' 'BraTS2021_01717'\n",
      " 'BraTS2021_01697' 'BraTS2021_01689' 'BraTS2021_01702' 'BraTS2021_01727'\n",
      " 'BraTS2021_01679' 'BraTS2021_01680' 'BraTS2021_01682' 'BraTS2021_01711'\n",
      " 'BraTS2021_01765' 'BraTS2021_01764' 'BraTS2021_01728' 'BraTS2021_01692'\n",
      " 'BraTS2021_01722' 'BraTS2021_01745' 'BraTS2021_01742' 'BraTS2021_01763'\n",
      " 'BraTS2021_01677' 'BraTS2021_01752' 'BraTS2021_01708' 'BraTS2021_01756'\n",
      " 'BraTS2021_01712' 'BraTS2021_01744' 'BraTS2021_01750' 'BraTS2021_01758'\n",
      " 'BraTS2021_01726' 'BraTS2021_01720' 'BraTS2021_01684' 'BraTS2021_01731'\n",
      " 'BraTS2021_01723' 'BraTS2021_01735' 'BraTS2021_01743' 'BraTS2021_01676'\n",
      " 'BraTS2021_01671' 'BraTS2021_01700' 'BraTS2021_01753' 'BraTS2021_01667'\n",
      " 'BraTS2021_01716' 'BraTS2021_01694' 'BraTS2021_01707' 'BraTS2021_01670'\n",
      " 'BraTS2021_01746' 'BraTS2021_01718' 'BraTS2021_01747' 'BraTS2021_01699'\n",
      " 'BraTS2021_01724' 'BraTS2021_01698' 'BraTS2021_01715' 'BraTS2021_01757'\n",
      " 'BraTS2021_01693' 'BraTS2021_01695' 'BraTS2021_01760' 'BraTS2021_01749'\n",
      " 'BraTS2021_01737' 'BraTS2021_01686' 'BraTS2021_01725' 'BraTS2021_01754'\n",
      " 'BraTS2021_01751' 'BraTS2021_01713' 'BraTS2021_01683' 'BraTS2021_01755'\n",
      " 'BraTS2021_01668']\n"
     ]
    }
   ],
   "source": [
    "import numpy as np\n",
    "# Load the .npy file\n",
    "sorted_uncertain_folders_names1 = np.load('/media/workstation04/New Volume/MMMAI/NVIDIA_PED_Trial/sorted_uncertain_folders_names_uncertainty140.npy')\n",
    "\n",
    "# Print the loaded data\n",
    "print(sorted_uncertain_folders_names1)"
   ]
  },
  {
   "cell_type": "code",
   "execution_count": 35,
   "metadata": {},
   "outputs": [
    {
     "data": {
      "text/plain": [
       "array(['BraTS2021_01669', 'BraTS2021_01678', 'BraTS2021_01681',\n",
       "       'BraTS2021_01687', 'BraTS2021_01688', 'BraTS2021_01692',\n",
       "       'BraTS2021_01704', 'BraTS2021_01733', 'BraTS2021_01736'],\n",
       "      dtype='<U15')"
      ]
     },
     "execution_count": 35,
     "metadata": {},
     "output_type": "execute_result"
    }
   ],
   "source": [
    "intersection = np.intersect1d(sorted_uncertain_folders_names1[0:20], sorted_uncertain_folders_names[0:20])\n",
    "intersection"
   ]
  },
  {
   "cell_type": "code",
   "execution_count": 36,
   "metadata": {},
   "outputs": [
    {
     "data": {
      "text/plain": [
       "array(['BraTS2021_01708', 'BraTS2021_01706', 'BraTS2021_01726',\n",
       "       'BraTS2021_01672', 'BraTS2021_01709', 'BraTS2021_01721',\n",
       "       'BraTS2021_01761', 'BraTS2021_01745', 'BraTS2021_01719',\n",
       "       'BraTS2021_01703', 'BraTS2021_01759', 'BraTS2021_01714',\n",
       "       'BraTS2021_01689', 'BraTS2021_01765', 'BraTS2021_01685',\n",
       "       'BraTS2021_01750', 'BraTS2021_01690', 'BraTS2021_01673',\n",
       "       'BraTS2021_01691', 'BraTS2021_01734', 'BraTS2021_01712',\n",
       "       'BraTS2021_01741', 'BraTS2021_01728', 'BraTS2021_01682',\n",
       "       'BraTS2021_01702', 'BraTS2021_01732', 'BraTS2021_01740',\n",
       "       'BraTS2021_01764', 'BraTS2021_01680', 'BraTS2021_01744',\n",
       "       'BraTS2021_01679', 'BraTS2021_01707', 'BraTS2021_01720',\n",
       "       'BraTS2021_01749', 'BraTS2021_01697', 'BraTS2021_01752',\n",
       "       'BraTS2021_01677', 'BraTS2021_01763', 'BraTS2021_01757',\n",
       "       'BraTS2021_01716', 'BraTS2021_01717', 'BraTS2021_01743',\n",
       "       'BraTS2021_01746', 'BraTS2021_01756', 'BraTS2021_01747',\n",
       "       'BraTS2021_01737', 'BraTS2021_01699', 'BraTS2021_01675',\n",
       "       'BraTS2021_01684', 'BraTS2021_01742', 'BraTS2021_01711',\n",
       "       'BraTS2021_01725', 'BraTS2021_01723', 'BraTS2021_01760',\n",
       "       'BraTS2021_01751', 'BraTS2021_01735', 'BraTS2021_01753',\n",
       "       'BraTS2021_01718', 'BraTS2021_01683', 'BraTS2021_01724',\n",
       "       'BraTS2021_01694', 'BraTS2021_01695', 'BraTS2021_01686',\n",
       "       'BraTS2021_01698', 'BraTS2021_01700', 'BraTS2021_01667',\n",
       "       'BraTS2021_01758', 'BraTS2021_01693', 'BraTS2021_01668'],\n",
       "      dtype='<U15')"
      ]
     },
     "execution_count": 36,
     "metadata": {},
     "output_type": "execute_result"
    }
   ],
   "source": [
    "sorted_uncertain_folders_names_filtered = sorted_uncertain_folders_names1[~np.isin(sorted_uncertain_folders_names1, sorted_uncertain_folders_names[0:20])]\n",
    "sorted_uncertain_folders_names_filtered"
   ]
  },
  {
   "cell_type": "code",
   "execution_count": 37,
   "metadata": {},
   "outputs": [
    {
     "data": {
      "text/plain": [
       "array(['BraTS2021_01708', 'BraTS2021_01706', 'BraTS2021_01726',\n",
       "       'BraTS2021_01672', 'BraTS2021_01709', 'BraTS2021_01721',\n",
       "       'BraTS2021_01761', 'BraTS2021_01745', 'BraTS2021_01719',\n",
       "       'BraTS2021_01703', 'BraTS2021_01759', 'BraTS2021_01714',\n",
       "       'BraTS2021_01689', 'BraTS2021_01765', 'BraTS2021_01685',\n",
       "       'BraTS2021_01750', 'BraTS2021_01690', 'BraTS2021_01673',\n",
       "       'BraTS2021_01691', 'BraTS2021_01734'], dtype='<U15')"
      ]
     },
     "execution_count": 37,
     "metadata": {},
     "output_type": "execute_result"
    }
   ],
   "source": [
    "sorted_uncertain_folders_names_filtered[:20]"
   ]
  },
  {
   "cell_type": "code",
   "execution_count": 39,
   "metadata": {},
   "outputs": [
    {
     "name": "stdout",
     "output_type": "stream",
     "text": [
      "['BraTS2021_01708' 'BraTS2021_01706' 'BraTS2021_01726' 'BraTS2021_01672'\n",
      " 'BraTS2021_01709' 'BraTS2021_01721' 'BraTS2021_01761' 'BraTS2021_01745'\n",
      " 'BraTS2021_01719' 'BraTS2021_01703' 'BraTS2021_01759' 'BraTS2021_01714'\n",
      " 'BraTS2021_01689' 'BraTS2021_01765' 'BraTS2021_01685' 'BraTS2021_01750'\n",
      " 'BraTS2021_01690' 'BraTS2021_01673' 'BraTS2021_01691' 'BraTS2021_01734'\n",
      " 'BraTS2021_01692' 'BraTS2021_01755' 'BraTS2021_01681' 'BraTS2021_01676'\n",
      " 'BraTS2021_01754' 'BraTS2021_01715' 'BraTS2021_01722' 'BraTS2021_01678'\n",
      " 'BraTS2021_01669' 'BraTS2021_01736' 'BraTS2021_01688' 'BraTS2021_01687'\n",
      " 'BraTS2021_01727' 'BraTS2021_01670' 'BraTS2021_01731' 'BraTS2021_01704'\n",
      " 'BraTS2021_01713' 'BraTS2021_01733' 'BraTS2021_01671' 'BraTS2021_01729']\n"
     ]
    }
   ],
   "source": [
    "import numpy as np\n",
    "\n",
    "# Assuming sorted_uncertain_folders_names_filtered and sorted_uncertain_folders_names are lists\n",
    "# Convert them to NumPy arrays first\n",
    "\n",
    "array1 = np.array(sorted_uncertain_folders_names_filtered[:20])\n",
    "array2 = np.array(sorted_uncertain_folders_names[:20])\n",
    "\n",
    "# Now concatenate the arrays\n",
    "files_used = np.concatenate((array1, array2))\n",
    "\n",
    "# Check the result\n",
    "print(files_used)\n"
   ]
  },
  {
   "cell_type": "code",
   "execution_count": 40,
   "metadata": {},
   "outputs": [
    {
     "name": "stdout",
     "output_type": "stream",
     "text": [
      "File saved successfully!\n"
     ]
    }
   ],
   "source": [
    "# Save the concatenated array as a text file\n",
    "np.savetxt('/media/workstation04/New Volume/MMMAI/NVIDIA_PED_Trial/Uncertainty_sampling140/files_used_from_unlabelledpool.txt', files_used, fmt='%s')\n",
    "\n",
    "# Check if the file is saved properly\n",
    "print(\"File saved successfully!\")"
   ]
  },
  {
   "cell_type": "code",
   "execution_count": 19,
   "metadata": {},
   "outputs": [
    {
     "name": "stdout",
     "output_type": "stream",
     "text": [
      "Array from file:\n",
      "['BraTS2021_01708', 'BraTS2021_01706', 'BraTS2021_01726', 'BraTS2021_01672', 'BraTS2021_01709', 'BraTS2021_01721', 'BraTS2021_01761', 'BraTS2021_01745', 'BraTS2021_01719', 'BraTS2021_01703', 'BraTS2021_01759', 'BraTS2021_01714', 'BraTS2021_01689', 'BraTS2021_01765', 'BraTS2021_01685', 'BraTS2021_01750', 'BraTS2021_01690', 'BraTS2021_01673', 'BraTS2021_01691', 'BraTS2021_01734', 'BraTS2021_01692', 'BraTS2021_01755', 'BraTS2021_01681', 'BraTS2021_01676', 'BraTS2021_01754', 'BraTS2021_01715', 'BraTS2021_01722', 'BraTS2021_01678', 'BraTS2021_01669', 'BraTS2021_01736', 'BraTS2021_01688', 'BraTS2021_01687', 'BraTS2021_01727', 'BraTS2021_01670', 'BraTS2021_01731', 'BraTS2021_01704', 'BraTS2021_01713', 'BraTS2021_01733', 'BraTS2021_01671', 'BraTS2021_01729']\n"
     ]
    }
   ],
   "source": [
    "file_path = \"/media/workstation04/New Volume/MMMAI/NVIDIA_PED_Trial/Uncertainty_sampling140/files_used_from_unlabelledpool.txt\"\n",
    "\n",
    "try:\n",
    "    with open(file_path, 'r') as file:\n",
    "        array = []\n",
    "        for line in file:\n",
    "            # Assuming each line represents an element of the array\n",
    "            array.append(line.strip())  # Remove leading/trailing whitespace\n",
    "            \n",
    "        print(\"Array from file:\")\n",
    "        print(array)\n",
    "except FileNotFoundError:\n",
    "    print(\"The file does not exist or the path is incorrect.\")\n",
    "except Exception as e:\n",
    "    print(\"An error occurred:\", e)\n"
   ]
  },
  {
   "cell_type": "code",
   "execution_count": 20,
   "metadata": {},
   "outputs": [
    {
     "data": {
      "text/plain": [
       "40"
      ]
     },
     "execution_count": 20,
     "metadata": {},
     "output_type": "execute_result"
    }
   ],
   "source": [
    "len(array)"
   ]
  },
  {
   "cell_type": "code",
   "execution_count": 22,
   "metadata": {},
   "outputs": [
    {
     "data": {
      "text/plain": [
       "array(['BraTS2021_01708', 'BraTS2021_01706', 'BraTS2021_01726',\n",
       "       'BraTS2021_01672', 'BraTS2021_01709', 'BraTS2021_01721',\n",
       "       'BraTS2021_01761', 'BraTS2021_01745', 'BraTS2021_01719',\n",
       "       'BraTS2021_01703', 'BraTS2021_01759', 'BraTS2021_01714',\n",
       "       'BraTS2021_01689', 'BraTS2021_01765', 'BraTS2021_01685',\n",
       "       'BraTS2021_01750', 'BraTS2021_01690', 'BraTS2021_01673',\n",
       "       'BraTS2021_01691', 'BraTS2021_01734', 'BraTS2021_01692',\n",
       "       'BraTS2021_01755', 'BraTS2021_01681', 'BraTS2021_01676',\n",
       "       'BraTS2021_01754', 'BraTS2021_01715', 'BraTS2021_01722',\n",
       "       'BraTS2021_01678', 'BraTS2021_01669', 'BraTS2021_01736',\n",
       "       'BraTS2021_01688', 'BraTS2021_01687', 'BraTS2021_01727',\n",
       "       'BraTS2021_01670', 'BraTS2021_01731', 'BraTS2021_01704',\n",
       "       'BraTS2021_01713', 'BraTS2021_01733', 'BraTS2021_01671',\n",
       "       'BraTS2021_01729', 'BraTS2021_01741', 'BraTS2021_01740',\n",
       "       'BraTS2021_01675', 'BraTS2021_01732', 'BraTS2021_01717',\n",
       "       'BraTS2021_01697', 'BraTS2021_01702', 'BraTS2021_01679',\n",
       "       'BraTS2021_01680', 'BraTS2021_01682', 'BraTS2021_01711',\n",
       "       'BraTS2021_01764', 'BraTS2021_01728', 'BraTS2021_01742',\n",
       "       'BraTS2021_01763', 'BraTS2021_01677', 'BraTS2021_01752',\n",
       "       'BraTS2021_01756', 'BraTS2021_01712', 'BraTS2021_01744'],\n",
       "      dtype='<U15')"
      ]
     },
     "execution_count": 22,
     "metadata": {},
     "output_type": "execute_result"
    }
   ],
   "source": [
    "import ast\n",
    "\n",
    "# Sample array-like string\n",
    "array_string = ['BraTS2021_01741', 'BraTS2021_01740', 'BraTS2021_01675', 'BraTS2021_01732', 'BraTS2021_01717', 'BraTS2021_01697', 'BraTS2021_01702', 'BraTS2021_01679', 'BraTS2021_01680', 'BraTS2021_01682', 'BraTS2021_01711', 'BraTS2021_01764', 'BraTS2021_01728', 'BraTS2021_01742', 'BraTS2021_01763', 'BraTS2021_01677', 'BraTS2021_01752', 'BraTS2021_01756', 'BraTS2021_01712', 'BraTS2021_01744']\n",
    "\n",
    "files_used = np.concatenate((array, array_string))\n",
    "files_used"
   ]
  },
  {
   "cell_type": "code",
   "execution_count": 23,
   "metadata": {},
   "outputs": [
    {
     "data": {
      "text/plain": [
       "60"
      ]
     },
     "execution_count": 23,
     "metadata": {},
     "output_type": "execute_result"
    }
   ],
   "source": [
    "len(files_used)"
   ]
  },
  {
   "cell_type": "code",
   "execution_count": 24,
   "metadata": {},
   "outputs": [
    {
     "name": "stdout",
     "output_type": "stream",
     "text": [
      "['BraTS2021_01736' 'BraTS2021_01688' 'BraTS2021_01706' 'BraTS2021_01672'\n",
      " 'BraTS2021_01729' 'BraTS2021_01714' 'BraTS2021_01681' 'BraTS2021_01709'\n",
      " 'BraTS2021_01733' 'BraTS2021_01734' 'BraTS2021_01741' 'BraTS2021_01669'\n",
      " 'BraTS2021_01721' 'BraTS2021_01687' 'BraTS2021_01678' 'BraTS2021_01690'\n",
      " 'BraTS2021_01711' 'BraTS2021_01761' 'BraTS2021_01673' 'BraTS2021_01759'\n",
      " 'BraTS2021_01708' 'BraTS2021_01703' 'BraTS2021_01719' 'BraTS2021_01675'\n",
      " 'BraTS2021_01704' 'BraTS2021_01691' 'BraTS2021_01689' 'BraTS2021_01732'\n",
      " 'BraTS2021_01764' 'BraTS2021_01685' 'BraTS2021_01740' 'BraTS2021_01680'\n",
      " 'BraTS2021_01717' 'BraTS2021_01702' 'BraTS2021_01679' 'BraTS2021_01745'\n",
      " 'BraTS2021_01677' 'BraTS2021_01765' 'BraTS2021_01728' 'BraTS2021_01692'\n",
      " 'BraTS2021_01763' 'BraTS2021_01712' 'BraTS2021_01682' 'BraTS2021_01722'\n",
      " 'BraTS2021_01742' 'BraTS2021_01731' 'BraTS2021_01670' 'BraTS2021_01752'\n",
      " 'BraTS2021_01747' 'BraTS2021_01727' 'BraTS2021_01720' 'BraTS2021_01756'\n",
      " 'BraTS2021_01671' 'BraTS2021_01723' 'BraTS2021_01758' 'BraTS2021_01744'\n",
      " 'BraTS2021_01684' 'BraTS2021_01707' 'BraTS2021_01753' 'BraTS2021_01749'\n",
      " 'BraTS2021_01697' 'BraTS2021_01737' 'BraTS2021_01676' 'BraTS2021_01735'\n",
      " 'BraTS2021_01726' 'BraTS2021_01694' 'BraTS2021_01743' 'BraTS2021_01746'\n",
      " 'BraTS2021_01700' 'BraTS2021_01715' 'BraTS2021_01750' 'BraTS2021_01667'\n",
      " 'BraTS2021_01698' 'BraTS2021_01716' 'BraTS2021_01757' 'BraTS2021_01724'\n",
      " 'BraTS2021_01718' 'BraTS2021_01699' 'BraTS2021_01695' 'BraTS2021_01686'\n",
      " 'BraTS2021_01760' 'BraTS2021_01693' 'BraTS2021_01725' 'BraTS2021_01683'\n",
      " 'BraTS2021_01754' 'BraTS2021_01713' 'BraTS2021_01751' 'BraTS2021_01755'\n",
      " 'BraTS2021_01668']\n"
     ]
    }
   ],
   "source": [
    "import numpy as np\n",
    "# Load the .npy file\n",
    "sorted_uncertain_folders_names1 = np.load('/media/workstation04/New Volume/MMMAI/NVIDIA_PED_Trial/sorted_uncertain_folders_names_uncertainty160.npy')\n",
    "\n",
    "# Print the loaded data\n",
    "print(sorted_uncertain_folders_names1)"
   ]
  },
  {
   "cell_type": "code",
   "execution_count": 25,
   "metadata": {},
   "outputs": [
    {
     "data": {
      "text/plain": [
       "array(['BraTS2021_01747', 'BraTS2021_01720', 'BraTS2021_01723',\n",
       "       'BraTS2021_01758', 'BraTS2021_01684', 'BraTS2021_01707',\n",
       "       'BraTS2021_01753', 'BraTS2021_01749', 'BraTS2021_01737',\n",
       "       'BraTS2021_01735', 'BraTS2021_01694', 'BraTS2021_01743',\n",
       "       'BraTS2021_01746', 'BraTS2021_01700', 'BraTS2021_01667',\n",
       "       'BraTS2021_01698', 'BraTS2021_01716', 'BraTS2021_01757',\n",
       "       'BraTS2021_01724', 'BraTS2021_01718', 'BraTS2021_01699',\n",
       "       'BraTS2021_01695', 'BraTS2021_01686', 'BraTS2021_01760',\n",
       "       'BraTS2021_01693', 'BraTS2021_01725', 'BraTS2021_01683',\n",
       "       'BraTS2021_01751', 'BraTS2021_01668'], dtype='<U15')"
      ]
     },
     "execution_count": 25,
     "metadata": {},
     "output_type": "execute_result"
    }
   ],
   "source": [
    "sorted_uncertain_folders_names_filtered = sorted_uncertain_folders_names1[~np.isin(sorted_uncertain_folders_names1, files_used)]\n",
    "sorted_uncertain_folders_names_filtered"
   ]
  },
  {
   "cell_type": "code",
   "execution_count": 26,
   "metadata": {},
   "outputs": [
    {
     "data": {
      "text/plain": [
       "29"
      ]
     },
     "execution_count": 26,
     "metadata": {},
     "output_type": "execute_result"
    }
   ],
   "source": [
    "len(sorted_uncertain_folders_names_filtered)"
   ]
  },
  {
   "cell_type": "markdown",
   "metadata": {},
   "source": [
    "### Interactive Visualization"
   ]
  },
  {
   "cell_type": "code",
   "execution_count": null,
   "metadata": {},
   "outputs": [],
   "source": [
    "from ipywidgets import widgets\n",
    "from matplotlib.colors import ListedColormap\n",
    "import matplotlib.patches as mpatches\n",
    "from IPython.display import clear_output\n",
    "import numpy as np\n",
    "import matplotlib.pyplot as plt\n",
    "\n",
    "def plot_single_slice(file_name, slice_index, input_data,  groundTruth_data,prediction_data, entropy_data):\n",
    "    labels = ['background', 'necrosis', 'edema', 'enhancing tumor']\n",
    "    colors = ['black', 'red', 'green', 'blue']\n",
    "    cmap = ListedColormap(colors) # Define the colormap\n",
    "\n",
    "    fig, ax = plt.subplots(1, 5, figsize=(15, 7))\n",
    "    alpha_channel = np.where(input_data[:, :, slice_index] == 0, 0, 0.7)\n",
    "\n",
    "    ax[4].imshow(input_data[:, :, slice_index], cmap='gray')  \n",
    "    ax[4].imshow(entropy_data[:, :, slice_index], cmap='hot', alpha=alpha_channel)  \n",
    "    ax[4].set_title('Uncertainty on top of Input')\n",
    "\n",
    "    ax[3].imshow(entropy_data[ :, :,slice_index], cmap='inferno')  # Using a colormap better suited for entropy\n",
    "    ax[3].set_title(f'{file_name}')\n",
    "\n",
    "    ax[2].imshow(prediction_data[ :, :,slice_index], cmap=cmap)\n",
    "    ax[2].set_title('Prediction')\n",
    "\n",
    "    ax[1].imshow(groundTruth_data[ :, :,slice_index], cmap=cmap)\n",
    "    ax[1].set_title('Ground Truth')    \n",
    "\n",
    "    ax[0].imshow(input_data[ :, :,slice_index], cmap='gray')\n",
    "    ax[0].set_title('Input')\n",
    "\n",
    "    # Create a legend\n",
    "    patches = [mpatches.Patch(color=colors[i], label=f\"{i}, {colors[i]}, {labels[i]}\") for i in range(len(labels))]\n",
    "    plt.legend(handles=patches, bbox_to_anchor=(1.05, 1), loc=2, borderaxespad=0.)\n",
    "\n",
    "    plt.suptitle(f'{file_name} - Slice {slice_index}', y=0.98)  # moving the title up slightly\n",
    "\n",
    "    plt.show()\n",
    "\n",
    "def plot_single_image(file_name, input_data,groundTruth_data, prediction_data, entropy_data):\n",
    "    # Assuming that entropy_tensor is a 3D numpy array with shape (256, 256, 256)\n",
    "    # or that load_image_data function is capable of reading it into this shape\n",
    "\n",
    "    min_index = 0\n",
    "    max_index = entropy_data.shape[2] - 1  # Changed to 0, assuming that entropy_tensor is 3D with shape (256, 256, 256)\n",
    "\n",
    "    # Clear the output before displaying the new widget\n",
    "    clear_output(wait=True)\n",
    "    # Create interactive plot\n",
    "    widget_instance = widgets.interact(\n",
    "        plot_single_slice,\n",
    "        file_name=widgets.fixed(file_name),\n",
    "        slice_index=widgets.IntSlider(min=min_index, max=max_index, step=1, value=max_index // 2),\n",
    "        entropy_data=widgets.fixed(entropy_data),  # Passed entropy_tensor here\n",
    "        groundTruth_data = widgets.fixed(groundTruth_data),\n",
    "        prediction_data=widgets.fixed(prediction_data),\n",
    "        input_data = widgets.fixed(input_data),\n",
    "    )\n",
    "\n",
    "    widget_instance\n"
   ]
  },
  {
   "cell_type": "code",
   "execution_count": null,
   "metadata": {},
   "outputs": [
    {
     "name": "stdout",
     "output_type": "stream",
     "text": [
      "mask shape:  (155, 240, 240)\n",
      "tensor shape:  (4, 155, 240, 240)\n",
      "entropy_data shape:  (240, 240, 155)\n",
      "input_data shape:  (240, 240, 155)\n",
      "prediction_data shape:  (240, 240, 155)\n",
      "prediction_data shape:  (240, 240, 155)\n"
     ]
    }
   ],
   "source": [
    "filename = 'BraTS2021_01755'\n",
    "# Load the probability data\n",
    "probability_path = f'/media/workstation04/New Volume/MMMAI/NVIDIA_PED_Trial/unlabelled_pool/predictions_epoch=13-dice=71_06_task=11_fold=0_tta/{filename}.npy'\n",
    "tensor = np.load(probability_path, allow_pickle=True)  # Shape: (num_classes, depth, height, width)\n",
    "input_nifti_path = f'/media/workstation04/New Volume/MMMAI/NVIDIA_PED_Trial/unlabelled_pool/data/BraTS2021_train/images/{filename}.nii.gz' #make the mask from flair volume\n",
    "\n",
    "nifti_img = nib.load(input_nifti_path)\n",
    "nifti_data = nifti_img.get_fdata()\n",
    "flair_sequence = nifti_data[:,:,:,0]\n",
    "# Create the mask\n",
    "mask = create_mask(flair_sequence)\n",
    "print(\"mask shape: \", mask.shape)\n",
    "\n",
    "tensor = np.load(probability_path, allow_pickle=True)  # Shape: (num_classes, depth, height, width)\n",
    "entropy_data, total_entropy = compute_entropy_with_mask(tensor,mask)\n",
    "entropy_data = np.transpose(entropy_data, (2, 1,0 ))\n",
    "print(\"tensor shape: \", tensor.shape)\n",
    "print(\"entropy_data shape: \", entropy_data.shape)\n",
    "# Load the input NIfTI file\n",
    "input_data = flair_sequence\n",
    "# input_data = np.transpose(input_data, (1, 0, 2))\n",
    "print(\"input_data shape: \", input_data.shape)\n",
    "\n",
    "\n",
    "# Load the Prediction NIfTI file\n",
    "groundTruth_path = f'/media/workstation04/New Volume/MMMAI/NVIDIA_PED_Trial/unlabelled_pool/data/BraTS2021_train/labels/{filename}_seg.nii.gz'\n",
    "groundTruth_data = nib.load(groundTruth_path).get_fdata()  # Shape: (height, width, depth)\n",
    "# prediction_data = np.transpose(prediction_data, (1, 0, 2))\n",
    "print(\"prediction_data shape: \", groundTruth_data.shape)\n",
    "\n",
    "\n",
    "# Load the Prediction NIfTI file\n",
    "prediction_path = f'/media/workstation04/New Volume/MMMAI/NVIDIA_PED_Trial/unlabelled_pool/prediction_pretrained/{filename}.nii.gz'\n",
    "prediction_data = nib.load(prediction_path).get_fdata()  # Shape: (height, width, depth)\n",
    "# prediction_data = np.transpose(prediction_data, (1, 0, 2))\n",
    "print(\"prediction_data shape: \", prediction_data.shape)\n"
   ]
  },
  {
   "cell_type": "code",
   "execution_count": null,
   "metadata": {},
   "outputs": [
    {
     "data": {
      "application/vnd.jupyter.widget-view+json": {
       "model_id": "beca332229114662a49d9ab2ab7a1497",
       "version_major": 2,
       "version_minor": 0
      },
      "text/plain": [
       "interactive(children=(IntSlider(value=77, description='slice_index', max=154), Output()), _dom_classes=('widge…"
      ]
     },
     "metadata": {},
     "output_type": "display_data"
    }
   ],
   "source": [
    "# Test the function\n",
    "plot_single_image('Entropy Image', flair_sequence, groundTruth_data,prediction_data, entropy_data)"
   ]
  },
  {
   "cell_type": "code",
   "execution_count": 27,
   "metadata": {},
   "outputs": [],
   "source": [
    "import os\n",
    "import shutil\n",
    "import csv\n",
    "\n",
    "# Source and destination folder paths\n",
    "source_folder = '/home/workstation04/GP_MMMAI/Ped_unalabelledpool/ASNR-MICCAI-BraTS2023-PED-Challenge-TrainingData'\n",
    "destination_folder = '/home/workstation04/GP_MMMAI/BraTS_uncertainty'\n",
    "\n",
    "\n",
    "# Copy the first 20 folders\n",
    "for i, folder_name in enumerate(sorted_uncertain_folders_names_filtered[:20]):\n",
    "    source_path = os.path.join(source_folder, folder_name)\n",
    "    destination_path = os.path.join(destination_folder, folder_name)\n",
    "    \n",
    "    # Copy the folder\n",
    "    shutil.copytree(source_path, destination_path)\n",
    "    \n",
    "\n",
    "\n"
   ]
  },
  {
   "cell_type": "markdown",
   "metadata": {},
   "source": [
    "make the dataset with 10 random samples from brats africa"
   ]
  },
  {
   "cell_type": "code",
   "execution_count": null,
   "metadata": {},
   "outputs": [
    {
     "name": "stdout",
     "output_type": "stream",
     "text": [
      "['BraTS2021_01687', 'BraTS2021_01723', 'BraTS2021_01720', 'BraTS2021_01709', 'BraTS2021_01680', 'BraTS2021_01719', 'BraTS2021_01697', 'BraTS2021_01675', 'BraTS2021_01713', 'BraTS2021_01714', 'BraTS2021_01690', 'BraTS2021_01688', 'BraTS2021_01678', 'BraTS2021_01695', 'BraTS2021_01706', 'BraTS2021_01698', 'BraTS2021_01721', 'BraTS2021_01691', 'BraTS2021_01718', 'BraTS2021_01672', 'BraTS2021_01701', 'BraTS2021_01696', 'BraTS2021_01686', 'BraTS2021_01673', 'BraTS2021_01670', 'BraTS2021_01704', 'BraTS2021_01668', 'BraTS2021_01676', 'BraTS2021_01667', 'BraTS2021_01716', 'BraTS2021_01679', 'BraTS2021_01681', 'BraTS2021_01708', 'BraTS2021_01700', 'BraTS2021_01692', 'BraTS2021_01685', 'BraTS2021_01712', 'BraTS2021_01702', 'BraTS2021_01689', 'BraTS2021_01699', 'BraTS2021_01674', 'BraTS2021_01710', 'BraTS2021_01726', 'BraTS2021_01722', 'BraTS2021_01725', 'BraTS2021_01703', 'BraTS2021_01683', 'BraTS2021_01671', 'BraTS2021_01694', 'BraTS2021_01711']\n"
     ]
    }
   ],
   "source": [
    "import os\n",
    "import shutil\n",
    "import csv\n",
    "import random\n",
    "\n",
    "# Source and destination folder paths\n",
    "source_folder = '/home/workstation04/GP_MMMAI/Brats_Africa60/ASNR-MICCAI-BraTS2023-SSA-Challenge-TrainingData_V2'\n",
    "destination_folder = '/home/workstation04/GP_MMMAI/All_Data'\n",
    "\n",
    "# List all folder names\n",
    "folder_names = os.listdir(source_folder)\n",
    "\n",
    "# Shuffle the folder names randomly\n",
    "random.shuffle(folder_names)\n",
    "print(folder_names)"
   ]
  },
  {
   "cell_type": "code",
   "execution_count": null,
   "metadata": {},
   "outputs": [],
   "source": [
    "# Copy the first 10 shuffled folders\n",
    "for i, folder_name in enumerate(folder_names[:10]):\n",
    "    source_path = os.path.join(source_folder, folder_name)\n",
    "    destination_path = os.path.join(destination_folder, folder_name)\n",
    "    \n",
    "    # Copy the folder\n",
    "    shutil.copytree(source_path, destination_path)\n"
   ]
  },
  {
   "cell_type": "markdown",
   "metadata": {},
   "source": [
    "-----------------------------------------\n",
    "## Uncertainty and Diversity sampling"
   ]
  },
  {
   "cell_type": "code",
   "execution_count": null,
   "metadata": {},
   "outputs": [],
   "source": [
    "import numpy as np\n",
    "import nibabel as nib\n",
    "from sklearn.feature_selection import mutual_info_regression\n",
    "\n",
    "def load_nifti_volume(file_path):\n",
    "    \"\"\"Load NIfTI volume from file.\"\"\"\n",
    "    nii = nib.load(file_path)\n",
    "    return nii.get_fdata()\n",
    "\n",
    "def compute_mutual_information(pool_files, training_set_files):\n",
    "    \"\"\"Compute mutual information between unlabelled pool and training set.\"\"\"\n",
    "    # Load unlabelled pool volumes\n",
    "    pool_volumes = [load_nifti_volume(file) for file in pool_files]\n",
    "    # Load training set volumes\n",
    "    training_set_volumes = [load_nifti_volume(file) for file in training_set_files]\n",
    "\n",
    "    # Flatten and concatenate volumes\n",
    "    pool_data = np.concatenate([vol.flatten() for vol in pool_volumes])\n",
    "    training_set_data = np.concatenate([vol.flatten() for vol in training_set_volumes])\n",
    "\n",
    "    # Compute mutual information\n",
    "    mutual_info = mutual_info_regression(pool_data.reshape(-1, 1), training_set_data)\n",
    "    return mutual_info\n",
    "\n",
    "def compute_entropy_with_mask(tensor, mask):\n",
    "    \"\"\"Compute entropy with a mask.\"\"\"\n",
    "    sum_tensor = np.sum(tensor, axis=0, keepdims=True)\n",
    "    tensor_normalized = tensor / (sum_tensor + 1e-12)\n",
    "    entropy_elements = -tensor_normalized * np.log2(tensor_normalized + 1e-12)\n",
    "    entropy = np.sum(entropy_elements, axis=0)\n",
    "    # Multiply entropy with the mask\n",
    "    entropy *= mask\n",
    "\n",
    "    total_entropy = np.sum(entropy)\n",
    "\n",
    "    return entropy, total_entropy\n",
    "\n",
    "def combine_uncertainty_diversity(mutual_info, entropy, uncertainty_weight=0.5):\n",
    "    \"\"\"Combine uncertainty (entropy) and diversity (mutual information) scores.\"\"\"\n",
    "    # Normalize mutual information and entropy scores\n",
    "    mutual_info_normalized = mutual_info / np.max(mutual_info)\n",
    "    entropy_normalized = entropy / np.max(entropy)\n",
    "    \n",
    "    # Combine scores using a weighted sum\n",
    "    combined_score = uncertainty_weight * entropy_normalized + (1 - uncertainty_weight) * mutual_info_normalized\n",
    "    return combined_score\n",
    "\n",
    "def active_sampling(pool_files, training_set_files, num_samples_to_select, unlabelled_folders_names, uncertainty_weight = 0.5):\n",
    "    \"\"\"Perform active sampling based on both uncertainty (entropy) and diversity (mutual information).\"\"\"\n",
    "    # Compute mutual information\n",
    "    mutual_info = compute_mutual_information(pool_files, training_set_files)\n",
    "\n",
    "    # Load and preprocess unlabelled pool volumes\n",
    "    folder_entropy_list = []\n",
    "    for filename in unlabelled_folders_names:\n",
    "\n",
    "        probability_path = f'/media/workstation04/New Volume/MMMAI/NVIDIA_PED_Trial/unlabelled_pool/predictions_epoch=13-dice=71_06_task=11_fold=0_tta/{filename}.npy'\n",
    "        tensor = np.load(probability_path, allow_pickle=True)  # Shape: (num_classes, depth, height, width)\n",
    "\n",
    "        # Load the corresponding NIfTI volume for creating the mask\n",
    "        nifti_path = f'/media/workstation04/New Volume/MMMAI/NVIDIA_PED_Trial/unlabelled_pool/data/BraTS2021_train/images/{filename}.nii.gz' #make the mask from flair volume\n",
    "        nifti_img = nib.load(nifti_path)\n",
    "        nifti_data = nifti_img.get_fdata()\n",
    "        mask = create_mask(nifti_data[:,:,:,0])  # Assuming create_mask function is defined\n",
    "\n",
    "        # Compute entropy\n",
    "        entropy, total_entropy = compute_entropy_with_mask(tensor, mask)\n",
    "        folder_entropy_list.append((filename, total_entropy))\n",
    "\n",
    "    # Sort by entropy\n",
    "    folder_entropy_list.sort(key=lambda x: x[1], reverse=True)\n",
    "\n",
    "    # Compute the combined score based on uncertainty and diversity\n",
    "    combined_score = uncertainty_weight * np.array([entry[1] for entry in folder_entropy_list]) + (1-  uncertainty_weight) * mutual_info\n",
    "\n",
    "    # Rank unlabelled pool samples based on combined score\n",
    "    ranked_indices = np.argsort(combined_score)[::-1]  # Sort in descending order\n",
    "\n",
    "    # Select top-ranked samples\n",
    "    selected_indices = ranked_indices[:num_samples_to_select]\n",
    "    \n",
    "    # Get the names of selected files\n",
    "    selected_files = [unlabelled_folders_names[idx] for idx in selected_indices]\n",
    "    return selected_indices, selected_files\n",
    "\n",
    "\n",
    "\n"
   ]
  },
  {
   "cell_type": "code",
   "execution_count": null,
   "metadata": {},
   "outputs": [],
   "source": [
    "folder_path = '/home/workstation04/GP_MMMAI/Ped_unalabelledpool/ASNR-MICCAI-BraTS2023-PED-Challenge-TrainingData'\n",
    "unlabelled_folders_names = [f for f in os.listdir(folder_path) if os.path.isdir(os.path.join(folder_path, f))]"
   ]
  }
 ],
 "metadata": {
  "kernelspec": {
   "display_name": "base",
   "language": "python",
   "name": "python3"
  },
  "language_info": {
   "codemirror_mode": {
    "name": "ipython",
    "version": 3
   },
   "file_extension": ".py",
   "mimetype": "text/x-python",
   "name": "python",
   "nbconvert_exporter": "python",
   "pygments_lexer": "ipython3",
   "version": "3.9.18"
  }
 },
 "nbformat": 4,
 "nbformat_minor": 2
}
