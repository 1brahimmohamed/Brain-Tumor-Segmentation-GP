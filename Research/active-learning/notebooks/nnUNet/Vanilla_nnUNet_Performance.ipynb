{
 "cells": [
  {
   "cell_type": "code",
   "execution_count": 35,
   "metadata": {},
   "outputs": [],
   "source": [
    "import os\n",
    "import nibabel as nib\n",
    "import numpy as np\n",
    "\n",
    "def swap_values_in_place(file_path):\n",
    "    # Load the NIfTI image\n",
    "    img = nib.load(file_path)\n",
    "    data = img.get_fdata()\n",
    "\n",
    "    # # Swap values 1 and 2 using a temporary value (5)\n",
    "    # data[data == 1] = 5  # arbitrary number\n",
    "    # data[data == 2] = 1\n",
    "    # data[data == 5] = 2\n",
    "    data[data == 3] = 4\n",
    "\n",
    "    # Save the modified image\n",
    "    modified_img = nib.Nifti1Image(data, img.affine)\n",
    "    nib.save(modified_img, file_path)"
   ]
  },
  {
   "cell_type": "code",
   "execution_count": 36,
   "metadata": {},
   "outputs": [],
   "source": [
    "# Folder containing NIfTI files\n",
    "folder_path = \"/home/workstation04/GP_MMMAI/Notebooks/Vanilla_nnUNet/validation_output_after12\"\n",
    "\n",
    "# Loop over NIfTI files in the folder\n",
    "for file_name in os.listdir(folder_path):\n",
    "    if file_name.endswith(\".nii.gz\"):\n",
    "        file_path = os.path.join(folder_path, file_name)\n",
    "\n",
    "        # Apply label swapping in place\n",
    "        swap_values_in_place(file_path)"
   ]
  },
  {
   "cell_type": "code",
   "execution_count": 37,
   "metadata": {},
   "outputs": [],
   "source": [
    "import os\n",
    "import nibabel as nib\n",
    "import numpy as np\n",
    "\n",
    "def dice_score(prediction_folder, ground_truth_folder, labels=[1, 2, 4 ], output_file=\"average_dice_scores.txt\"):\n",
    "    dice_scores = {}\n",
    "\n",
    "    # Get a list of all prediction files\n",
    "    prediction_files = [f for f in os.listdir(prediction_folder) if f.endswith(\".nii.gz\")]\n",
    "\n",
    "    for prediction_file in prediction_files:\n",
    "        # Construct the corresponding ground truth file name\n",
    "        gt_file = prediction_file.replace(\".nii.gz\", \"_seg.nii.gz\")\n",
    "\n",
    "        # Full paths to the prediction and ground truth files\n",
    "        prediction_path = os.path.join(prediction_folder, prediction_file)\n",
    "        ground_truth_path = os.path.join(ground_truth_folder, gt_file)\n",
    "\n",
    "        # Load NIfTI files\n",
    "        prediction = nib.load(prediction_path).get_fdata()\n",
    "        ground_truth = nib.load(ground_truth_path).get_fdata()\n",
    "\n",
    "        \n",
    "        for label in labels:\n",
    "            # Create binary masks for the current label\n",
    "            pred_mask = (prediction == label)\n",
    "            gt_mask = (ground_truth == label)\n",
    "\n",
    "            # Calculate Dice coefficient\n",
    "            intersection = np.sum(np.logical_and(pred_mask, gt_mask))\n",
    "            union = np.sum(np.logical_or(pred_mask, gt_mask))\n",
    "\n",
    "            # because some samples have no non-enhancing tumor (label 1) and lead to division by zero\n",
    "            if (union + intersection == 0):\n",
    "                dice = 0\n",
    "            else:\n",
    "                dice = (2.0 * intersection) / (union + intersection)\n",
    "\n",
    "            label_key = f\"Label_{label}\"\n",
    "            if label_key not in dice_scores:\n",
    "                dice_scores[label_key] = []\n",
    "\n",
    "            dice_scores[label_key].append(dice)\n",
    "\n",
    "    # Calculate average Dice scores\n",
    "    average_dice_scores = {}\n",
    "    for label, scores in dice_scores.items():\n",
    "        average_dice_scores[label] = np.mean(scores)\n",
    "\n",
    "    # Save average Dice scores to a text file\n",
    "    with open(output_file, \"w\") as file:\n",
    "        for label, score in average_dice_scores.items():\n",
    "            file.write(f\"{label}: {score}\\n\")\n",
    "\n",
    "    return average_dice_scores\n",
    "\n",
    "\n"
   ]
  },
  {
   "cell_type": "code",
   "execution_count": 38,
   "metadata": {},
   "outputs": [
    {
     "name": "stdout",
     "output_type": "stream",
     "text": [
      "{'Label_1': 0.772200121803485, 'Label_2': 0.8491095525461937, 'Label_4': 0.8485696414359747}\n"
     ]
    }
   ],
   "source": [
    "# Example usage:\n",
    "prediction_folder = \"/home/workstation04/GP_MMMAI/Notebooks/Vanilla_nnUNet/validation_output_after12\"\n",
    "ground_truth_folder = \"/home/workstation04/GP_MMMAI/Notebooks/Vanilla_nnUNet/validation_seg\"\n",
    "output_file=\"/home/workstation04/GP_MMMAI/Notebooks/Vanilla_nnUNet/average_dice_scores_after12_edited_AL.txt\"\n",
    "dice_score_avg = dice_score(prediction_folder, ground_truth_folder, output_file = output_file)\n",
    "print(dice_score_avg)"
   ]
  },
  {
   "cell_type": "code",
   "execution_count": null,
   "metadata": {},
   "outputs": [],
   "source": [
    "{'Label_1': 0.7687160769501082, 'Label_2': 0.8510782124984829, 'Label_4': 0.8495761505751953}\n"
   ]
  },
  {
   "cell_type": "markdown",
   "metadata": {},
   "source": [
    "---------------------------------------------------------"
   ]
  },
  {
   "cell_type": "markdown",
   "metadata": {},
   "source": [
    "# For test set"
   ]
  },
  {
   "cell_type": "code",
   "execution_count": 31,
   "metadata": {},
   "outputs": [],
   "source": [
    "# Folder containing NIfTI files\n",
    "folder_path = \"/home/workstation04/GP_MMMAI/Notebooks/Vanilla_nnUNet/test_output_after12\"\n",
    "\n",
    "# Loop over NIfTI files in the folder\n",
    "for file_name in os.listdir(folder_path):\n",
    "    if file_name.endswith(\".nii.gz\"):\n",
    "        file_path = os.path.join(folder_path, file_name)\n",
    "\n",
    "        # Apply label swapping in place\n",
    "        swap_values_in_place(file_path)"
   ]
  },
  {
   "cell_type": "code",
   "execution_count": 29,
   "metadata": {},
   "outputs": [
    {
     "name": "stdout",
     "output_type": "stream",
     "text": [
      "{'Label_1': 0.6808590489270909, 'Label_2': 0.8753487528423601, 'Label_4': 0.895215764170684}\n"
     ]
    }
   ],
   "source": [
    "# Example usage:\n",
    "prediction_folder = \"/home/workstation04/GP_MMMAI/Notebooks/Vanilla_nnUNet/test_output_b4\"\n",
    "ground_truth_folder = \"/home/workstation04/GP_MMMAI/Notebooks/Vanilla_nnUNet/test_seg\"\n",
    "output_file=\"/home/workstation04/GP_MMMAI/Notebooks/Vanilla_nnUNet/test_average_dice_scores_b4_AL.txt\"\n",
    "dice_score_avg = dice_score(prediction_folder, ground_truth_folder, output_file = output_file)\n",
    "print(dice_score_avg)"
   ]
  },
  {
   "cell_type": "code",
   "execution_count": 32,
   "metadata": {},
   "outputs": [
    {
     "name": "stdout",
     "output_type": "stream",
     "text": [
      "{'Label_1': 0.29642830232346606, 'Label_2': 0.6986285659568178, 'Label_4': 0.8757491214303614}\n"
     ]
    }
   ],
   "source": [
    "# Example usage:\n",
    "prediction_folder = \"/home/workstation04/GP_MMMAI/Notebooks/Vanilla_nnUNet/test_output_after12\"\n",
    "ground_truth_folder = \"/home/workstation04/GP_MMMAI/Notebooks/Vanilla_nnUNet/test_seg\"\n",
    "output_file=\"/home/workstation04/GP_MMMAI/Notebooks/Vanilla_nnUNet/test_average_dice_scores_after12_AL.txt\"\n",
    "dice_score_avg = dice_score(prediction_folder, ground_truth_folder, output_file = output_file)\n",
    "print(dice_score_avg)"
   ]
  },
  {
   "cell_type": "code",
   "execution_count": 26,
   "metadata": {},
   "outputs": [
    {
     "name": "stdout",
     "output_type": "stream",
     "text": [
      "{'Label_1': 0.3870749705043837, 'Label_2': 0.7719028044432334, 'Label_4': 0.8849161841646002}\n"
     ]
    }
   ],
   "source": [
    "# Example usage:\n",
    "prediction_folder = \"/home/workstation04/GP_MMMAI/Notebooks/Vanilla_nnUNet/test_output_after5\"\n",
    "ground_truth_folder = \"/home/workstation04/GP_MMMAI/Notebooks/Vanilla_nnUNet/test_seg\"\n",
    "output_file=\"/home/workstation04/GP_MMMAI/Notebooks/Vanilla_nnUNet/test_average_dice_scores_after5_AL.txt\"\n",
    "dice_score_avg = dice_score(prediction_folder, ground_truth_folder, output_file = output_file)\n",
    "print(dice_score_avg)"
   ]
  }
 ],
 "metadata": {
  "kernelspec": {
   "display_name": "base",
   "language": "python",
   "name": "python3"
  },
  "language_info": {
   "codemirror_mode": {
    "name": "ipython",
    "version": 3
   },
   "file_extension": ".py",
   "mimetype": "text/x-python",
   "name": "python",
   "nbconvert_exporter": "python",
   "pygments_lexer": "ipython3",
   "version": "3.9.18"
  }
 },
 "nbformat": 4,
 "nbformat_minor": 2
}
